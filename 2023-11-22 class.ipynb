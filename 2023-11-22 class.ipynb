{
 "cells": [
  {
   "cell_type": "code",
   "execution_count": null,
   "id": "4ab690e1",
   "metadata": {},
   "outputs": [],
   "source": [
    "def add1(i):\n",
    "    global result1\n",
    "    result1 =  result1+i\n",
    "\n",
    "add1(3)"
   ]
  },
  {
   "cell_type": "code",
   "execution_count": null,
   "id": "2a6eb039",
   "metadata": {},
   "outputs": [],
   "source": [
    "add1(100)"
   ]
  },
  {
   "cell_type": "code",
   "execution_count": null,
   "id": "4fffe578",
   "metadata": {},
   "outputs": [],
   "source": [
    "result1"
   ]
  },
  {
   "cell_type": "code",
   "execution_count": null,
   "id": "cfbe302f",
   "metadata": {},
   "outputs": [],
   "source": [
    "result2 =0\n",
    "def add2(i):\n",
    "    global result2+i"
   ]
  },
  {
   "cell_type": "code",
   "execution_count": null,
   "id": "29446491",
   "metadata": {},
   "outputs": [],
   "source": [
    "class AddCal:\n",
    "    def __init__(self):\n",
    "        self.result=0\n",
    "    def add(self, i):\n",
    "        self.result = self.result+i\n",
    "    \n",
    "a= AddCal()\n",
    "a.result\n",
    "a.add(30)\n",
    "a,result\n",
    "a,result\n",
    "b=AddCal()\n",
    "b.result\n",
    "b.add(50)\n",
    "b.result"
   ]
  },
  {
   "cell_type": "code",
   "execution_count": null,
   "id": "b25f0ba6",
   "metadata": {},
   "outputs": [],
   "source": []
  },
  {
   "cell_type": "code",
   "execution_count": null,
   "id": "76132f40",
   "metadata": {},
   "outputs": [],
   "source": [
    "#calss 클래스명:\n",
    "#      pass"
   ]
  },
  {
   "cell_type": "code",
   "execution_count": null,
   "id": "87d34ad5",
   "metadata": {},
   "outputs": [],
   "source": [
    "class Test:\n",
    "    pass"
   ]
  },
  {
   "cell_type": "code",
   "execution_count": null,
   "id": "8c9b66de",
   "metadata": {},
   "outputs": [],
   "source": [
    "#객체 선언\n",
    "#객체명 = 클래스명()`\n",
    "a= Test()\n",
    "b= Test()"
   ]
  },
  {
   "cell_type": "code",
   "execution_count": null,
   "id": "3b7e6a40",
   "metadata": {},
   "outputs": [],
   "source": [
    "type(a)"
   ]
  },
  {
   "cell_type": "code",
   "execution_count": null,
   "id": "b2dc4532",
   "metadata": {},
   "outputs": [],
   "source": [
    "class FourCal:\n",
    "    pass"
   ]
  },
  {
   "cell_type": "code",
   "execution_count": null,
   "id": "e8b6e330",
   "metadata": {},
   "outputs": [],
   "source": [
    "class FourCal:\n",
    "    def setdata(self,x,y):\n",
    "        self.x= x\n",
    "        self.y= y\n",
    "        \n",
    "a = FourCal()"
   ]
  },
  {
   "cell_type": "code",
   "execution_count": null,
   "id": "d43efc84",
   "metadata": {},
   "outputs": [],
   "source": [
    "type(a)"
   ]
  },
  {
   "cell_type": "code",
   "execution_count": null,
   "id": "65502062",
   "metadata": {},
   "outputs": [],
   "source": [
    "b=FourCal()"
   ]
  },
  {
   "cell_type": "code",
   "execution_count": null,
   "id": "a62e7caa",
   "metadata": {},
   "outputs": [],
   "source": [
    "a.setdata(3,4)"
   ]
  },
  {
   "cell_type": "code",
   "execution_count": null,
   "id": "6d03f065",
   "metadata": {},
   "outputs": [],
   "source": [
    "FourCal.setdata(b,10,20)"
   ]
  },
  {
   "cell_type": "code",
   "execution_count": null,
   "id": "2f0a23b0",
   "metadata": {},
   "outputs": [],
   "source": [
    "a.x"
   ]
  },
  {
   "cell_type": "code",
   "execution_count": null,
   "id": "a1239bbb",
   "metadata": {},
   "outputs": [],
   "source": [
    "a.y"
   ]
  },
  {
   "cell_type": "code",
   "execution_count": null,
   "id": "611346ac",
   "metadata": {},
   "outputs": [],
   "source": [
    "b.x"
   ]
  },
  {
   "cell_type": "code",
   "execution_count": null,
   "id": "922a79fc",
   "metadata": {},
   "outputs": [],
   "source": [
    "b.y"
   ]
  },
  {
   "cell_type": "code",
   "execution_count": null,
   "id": "b90f04df",
   "metadata": {},
   "outputs": [],
   "source": [
    "a.x = 100"
   ]
  },
  {
   "cell_type": "code",
   "execution_count": null,
   "id": "afb660b6",
   "metadata": {},
   "outputs": [],
   "source": [
    "a.x = 100"
   ]
  },
  {
   "cell_type": "code",
   "execution_count": null,
   "id": "9dcd4081",
   "metadata": {},
   "outputs": [],
   "source": [
    "a.x"
   ]
  },
  {
   "cell_type": "code",
   "execution_count": null,
   "id": "a19dfb02",
   "metadata": {},
   "outputs": [],
   "source": [
    "b.y = 1000"
   ]
  },
  {
   "cell_type": "code",
   "execution_count": null,
   "id": "83157ca8",
   "metadata": {},
   "outputs": [],
   "source": [
    "b.y"
   ]
  },
  {
   "cell_type": "code",
   "execution_count": null,
   "id": "d29904f1",
   "metadata": {},
   "outputs": [],
   "source": [
    "l1 = [1,2,3,4]\n",
    "l2 = [1,2,3,4]"
   ]
  },
  {
   "cell_type": "code",
   "execution_count": null,
   "id": "2c1e62a6",
   "metadata": {},
   "outputs": [],
   "source": [
    "l1.reverse()\n",
    "l1"
   ]
  },
  {
   "cell_type": "code",
   "execution_count": null,
   "id": "e95f481f",
   "metadata": {},
   "outputs": [],
   "source": [
    "list.reverse(l2)\n",
    "l2"
   ]
  },
  {
   "cell_type": "code",
   "execution_count": null,
   "id": "0df7cc99",
   "metadata": {},
   "outputs": [],
   "source": [
    "class FourCal :\n",
    "    def setdata(self,x,y):\n",
    "        self.x=x\n",
    "        self.y=y\n",
    "    def add(self):\n",
    "        return self.x+ self.y"
   ]
  },
  {
   "cell_type": "code",
   "execution_count": null,
   "id": "9fa901c4",
   "metadata": {},
   "outputs": [],
   "source": [
    "def add1():\n",
    "    return x+y"
   ]
  },
  {
   "cell_type": "code",
   "execution_count": null,
   "id": "7a7d72c2",
   "metadata": {},
   "outputs": [],
   "source": [
    "a=FourCal()\n",
    "a.setdata(10,40)"
   ]
  },
  {
   "cell_type": "code",
   "execution_count": null,
   "id": "fe200816",
   "metadata": {},
   "outputs": [],
   "source": [
    "a.add()"
   ]
  },
  {
   "cell_type": "code",
   "execution_count": null,
   "id": "c2d34d03",
   "metadata": {},
   "outputs": [],
   "source": [
    "a.x=100\n",
    "a.add()"
   ]
  },
  {
   "cell_type": "code",
   "execution_count": null,
   "id": "d486283d",
   "metadata": {},
   "outputs": [],
   "source": [
    "class FourCal :\n",
    "    def setdata(self,x,y):\n",
    "        x= self.x\n",
    "        y= self.y\n",
    "    def add(self):\n",
    "        return self.x+ self.y"
   ]
  },
  {
   "cell_type": "code",
   "execution_count": null,
   "id": "edbe9c04",
   "metadata": {},
   "outputs": [],
   "source": [
    "a=FourCal()\n",
    "a.setdata(10,40)"
   ]
  },
  {
   "cell_type": "code",
   "execution_count": null,
   "id": "aadc2909",
   "metadata": {},
   "outputs": [],
   "source": [
    "class Test1 :\n",
    "    def print1(self):\n",
    "        print(\"함수 실행\")\n",
    "        "
   ]
  },
  {
   "cell_type": "code",
   "execution_count": null,
   "id": "428115bd",
   "metadata": {},
   "outputs": [],
   "source": [
    "a= Test1()"
   ]
  },
  {
   "cell_type": "code",
   "execution_count": null,
   "id": "effd001b",
   "metadata": {},
   "outputs": [],
   "source": [
    "a.print1()"
   ]
  },
  {
   "cell_type": "code",
   "execution_count": null,
   "id": "b86722e9",
   "metadata": {},
   "outputs": [],
   "source": [
    "class Test2:\n",
    "    def __init__(self):\n",
    "        print(\"생성자 메소드 실행\")"
   ]
  },
  {
   "cell_type": "code",
   "execution_count": null,
   "id": "ee0289d3",
   "metadata": {},
   "outputs": [],
   "source": [
    "b=Test2()"
   ]
  },
  {
   "cell_type": "code",
   "execution_count": null,
   "id": "d2d93db9",
   "metadata": {},
   "outputs": [],
   "source": [
    "class FourCal1:\n",
    "    def __init__(self,x,y):\n",
    "        self.x = x\n",
    "        self.y = y\n",
    "        "
   ]
  },
  {
   "cell_type": "code",
   "execution_count": null,
   "id": "b4af2f9e",
   "metadata": {},
   "outputs": [],
   "source": [
    "a=FourCal1(3,4)\n",
    "a.x\n",
    "a.y"
   ]
  },
  {
   "cell_type": "code",
   "execution_count": null,
   "id": "34e512b8",
   "metadata": {},
   "outputs": [],
   "source": [
    "class FourCal2:\n",
    "    def __init__ (self):\n",
    "        self.x=0\n",
    "        self.y=0\n",
    "        "
   ]
  },
  {
   "cell_type": "code",
   "execution_count": null,
   "id": "bfc29a66",
   "metadata": {},
   "outputs": [],
   "source": [
    "b=FourCal2()"
   ]
  },
  {
   "cell_type": "code",
   "execution_count": null,
   "id": "f775bc9d",
   "metadata": {},
   "outputs": [],
   "source": [
    "b.x"
   ]
  },
  {
   "cell_type": "code",
   "execution_count": null,
   "id": "dca150f3",
   "metadata": {},
   "outputs": [],
   "source": [
    "b.y"
   ]
  },
  {
   "cell_type": "code",
   "execution_count": null,
   "id": "ab86d1d9",
   "metadata": {},
   "outputs": [],
   "source": [
    "class Test1:\n",
    "    def __init__ (self):\n",
    "        self.x=0\n",
    "        self.y=0\n",
    "    def add(self):\n",
    "        return self.x + self.y\n",
    "class Test2(Test1):\n",
    "    pass"
   ]
  },
  {
   "cell_type": "code",
   "execution_count": null,
   "id": "8de5fa89",
   "metadata": {},
   "outputs": [],
   "source": [
    "a = Test1\n",
    "b= Test2"
   ]
  },
  {
   "cell_type": "code",
   "execution_count": null,
   "id": "c97f8f44",
   "metadata": {},
   "outputs": [],
   "source": [
    "dir(b)"
   ]
  },
  {
   "cell_type": "code",
   "execution_count": null,
   "id": "821e1c1f",
   "metadata": {},
   "outputs": [],
   "source": [
    "class Test1:\n",
    "    def __init__ (self):\n",
    "        self.x=0\n",
    "        self.y=0\n",
    "    def add(self):\n",
    "        return self.x + self.y\n",
    "class Test2(Test1):\n",
    "    def sub(self):\n",
    "        return self.x - self.y\n",
    "    \n",
    "a = Test1\n",
    "b= Test2"
   ]
  },
  {
   "cell_type": "code",
   "execution_count": null,
   "id": "6273caff",
   "metadata": {},
   "outputs": [],
   "source": [
    "dir(a)"
   ]
  },
  {
   "cell_type": "code",
   "execution_count": null,
   "id": "1a64517d",
   "metadata": {},
   "outputs": [],
   "source": [
    "dir(b)"
   ]
  },
  {
   "cell_type": "code",
   "execution_count": null,
   "id": "43978177",
   "metadata": {},
   "outputs": [],
   "source": [
    "class Test1:\n",
    "    def __init__(self):\n",
    "        self.x=0\n",
    "        self.y=0\n",
    "    def div(self):\n",
    "        return self.x/self/y\n",
    "class Test2 :\n",
    "    def div(self):\n",
    "        if self.y == 0:\n",
    "            return 0\n",
    "        else:\n",
    "            return self.x/self.y"
   ]
  },
  {
   "cell_type": "code",
   "execution_count": null,
   "id": "4fe3c5f8",
   "metadata": {},
   "outputs": [],
   "source": [
    "a=Test1()"
   ]
  },
  {
   "cell_type": "code",
   "execution_count": null,
   "id": "c7677776",
   "metadata": {},
   "outputs": [],
   "source": [
    "b=Test2()"
   ]
  },
  {
   "cell_type": "code",
   "execution_count": null,
   "id": "9f5f7587",
   "metadata": {},
   "outputs": [],
   "source": [
    "a.x"
   ]
  },
  {
   "cell_type": "code",
   "execution_count": null,
   "id": "d94fdb05",
   "metadata": {},
   "outputs": [],
   "source": [
    "class Test1:\n",
    "    def __init__(self):\n",
    "        self.x=0\n",
    "        self.y=0\n",
    "\n",
    "class Test2(Test1) :\n",
    "    def __init__(self):\n",
    "        self.a=0\n",
    "        self.b=0\n",
    "        \n",
    "\n",
    "a=Test1()\n",
    "b=Test2()"
   ]
  },
  {
   "cell_type": "code",
   "execution_count": null,
   "id": "4828de45",
   "metadata": {},
   "outputs": [],
   "source": [
    "dir(a)"
   ]
  },
  {
   "cell_type": "code",
   "execution_count": null,
   "id": "65bb4158",
   "metadata": {},
   "outputs": [],
   "source": [
    "dir(b)"
   ]
  },
  {
   "cell_type": "code",
   "execution_count": null,
   "id": "51ad9c84",
   "metadata": {},
   "outputs": [],
   "source": [
    "class Test1:\n",
    "    def __init__(self):\n",
    "        self.x=0\n",
    "        self.y=0\n",
    "\n",
    "class Test2(Test1) :\n",
    "    def __init__(self):\n",
    "        self.a=0\n",
    "        self.b=0\n",
    "        super().__init__()\n",
    "\n",
    "a=Test1()\n",
    "b=Test2()"
   ]
  },
  {
   "cell_type": "code",
   "execution_count": null,
   "id": "01fc8758",
   "metadata": {},
   "outputs": [],
   "source": [
    "dir(a)"
   ]
  },
  {
   "cell_type": "code",
   "execution_count": null,
   "id": "97e43b61",
   "metadata": {},
   "outputs": [],
   "source": [
    "dir(b)"
   ]
  },
  {
   "cell_type": "code",
   "execution_count": null,
   "id": "37500a46",
   "metadata": {},
   "outputs": [],
   "source": [
    "class Test1:\n",
    "    def __init__(self):\n",
    "        self.x=0\n",
    "        self.y=0\n",
    "\n",
    "class Test2(Test1) :\n",
    "    def __init__(self):\n",
    "        self.a=0\n",
    "        self.b=0\n",
    "        super().__init__()\n",
    "\n",
    "class Test3(Test1):\n",
    "    def __init__(self):\n",
    "        self.i = 0\n",
    "        self.j = 0\n",
    "        super().__init__()\n",
    "a=Test1()\n",
    "b=Test2()\n",
    "c=Test3()"
   ]
  },
  {
   "cell_type": "code",
   "execution_count": null,
   "id": "76c11336",
   "metadata": {},
   "outputs": [],
   "source": [
    "dir(c)"
   ]
  },
  {
   "cell_type": "code",
   "execution_count": null,
   "id": "e53add52",
   "metadata": {},
   "outputs": [],
   "source": [
    "# 클래스 이론\n",
    "\n",
    "# 계산기라는 객체를 만들수 있는 클래스 만들 것이다.\n",
    "\n",
    "# 클래스 이름은 Fourcal 정하겠다.\n",
    "\n",
    "# class Fourcal:\n",
    "# \tpass\n",
    "\n",
    "\n",
    "# 이 계산기는 두개의 숫자를 입력함으로써 계산이 되는 것이다.\n",
    "\n",
    "# 필요한 것은 개별의 계산기에 두개의 숫자를 어떻게 입력할 수 있겠도록 할 것이냐?\n",
    "\n",
    "# 두개의 숫자를 입력할 수 있는 함수를 만들어보자.(클래스 내에서 정의된 함수를 메서드라고 표현함)\n",
    "\n",
    "\n",
    "# class Fourcal:\n",
    "# \tdef setdata(self,num1,num2):\n",
    "# \t\tself.num1=num1\n",
    "# \t\tself.num2=num2\n",
    "# \t\tself.result=0\n",
    "\n",
    "# 메서드 사용방법\n",
    "\n",
    "# 1. 객체이름.메서드(self를 제외한 매개변수에 대한 인수)\n",
    "\n",
    "# a=Fourcal()\n",
    "# a.setdata(3,10)\n",
    "\n",
    "# 2. 클래스이름.메서드(객체이름,매개변수에 대한 인수)\n",
    "\n",
    "# b=Fourcal()\n",
    "# Fourcal.setdata(b,4,20)\n",
    "\n",
    "# 2개의 수를 입력할 수 있는 함수(메서드) 정의 완료\n",
    "\n",
    "# 2개의 수로 계산할 수 있는 함수 생성해야 함\n",
    "\n",
    "# class Fourcal:\n",
    "# \tdef setdata(self,num1,num2):\n",
    "# \t\tself.num1=num1\n",
    "# \t\tself.num2=num2\n",
    "# \t\tself.result=0\n",
    "\n",
    "# \tdef add(self):\n",
    "# \t\tself.result=self.num1+self.num2\n",
    "# \t\treturn self.result\n",
    "\n",
    "# self.변수명 => 객체변수라고 함.\n",
    "\n",
    "# 객체변수로 선언되면 클래스 내에 메서드들에서 얼마든지 사용할 수 있음.\n",
    "# 단 객체변수가 아닌 것은 해당 메서드안에서만 사용할 수 있고 다른 메서드에서는 사용할 수 없음.\n",
    "\n",
    "# 생성자\n",
    "\n",
    "# 생성자 메서드: 클래스가 객체를 만들때 자동적으로 실행되는 메서드\n",
    "\n",
    "# class Fourcal:\n",
    "# \tdef __init__(self,num1,num2):\n",
    "# \t\tself.num1=num1\n",
    "# \t\tself.num2=num2\n",
    "# 생성자 메서드의 이름은 __init__ 임\n",
    "\n",
    "# 자식클래스 : 부모 클래스의 모든 속성을 상속을 받는 클래스\n",
    "\n",
    "# 자식클래스 정의 방법\n",
    "\n",
    "# class 클래스이름(부모클래스이름):\n",
    "# \tpass\n",
    "\n",
    "\n",
    "# 메소드 오버라이딩 : 부모와 자식 클래스에 같은 이름의 메소드가 있을 때\n",
    "#                     자식 클래스의 객체는 자신이 속한 자식클래스의 메소드가\n",
    "#                     실행"
   ]
  },
  {
   "cell_type": "code",
   "execution_count": null,
   "id": "292b3844",
   "metadata": {},
   "outputs": [],
   "source": []
  },
  {
   "cell_type": "code",
   "execution_count": 8,
   "id": "183e3f10",
   "metadata": {
    "scrolled": false
   },
   "outputs": [
    {
     "name": "stdout",
     "output_type": "stream",
     "text": [
      "a 30 남\n"
     ]
    }
   ],
   "source": [
    "# class 실습\n",
    "\n",
    "# 사람 (Human) 클래스의 인스턴스를 \"생성\" 하고 이를 areum 변수로 바인딩해보세요.\n",
    "\n",
    "# class Human:\n",
    "#     pass\n",
    "\n",
    "# areum = Human()\n",
    "\n",
    "# 사람 (Human) 클래스에 (이름, 나이, 성별)을 받는 setInfo 메소드를 추가하세요.\n",
    "\n",
    "# class Human():\n",
    "    \n",
    "#     def set_info(self):\n",
    "#         name = input(\"이름 : \")\n",
    "#         age = input(\"나이 : \")\n",
    "#         gender = input(\"성별 : \")\n",
    "\n",
    "    \n",
    "\n",
    "# areum = Human()\n",
    "# areum.set_info()\n",
    "\n",
    "\n",
    "# 사람 (Human) 클래스에 \"응애응애\"를 출력하는 생성자를 추가하세요.\n",
    "\n",
    "# class Human():\n",
    "\n",
    "#     def __init__(self):\n",
    "#         print(\"응애응애\")\n",
    "\n",
    "#     def set_info(self):\n",
    "#         name = input(\"이름 : \")\n",
    "#         age = input(\"나이 : \")\n",
    "#         gender = input(\"성별 : \")\n",
    "        \n",
    "\n",
    "    \n",
    "\n",
    "# areum = Human()\n",
    "# areum.set_info()\n",
    "\n",
    "\n",
    "\n",
    "# 사람 (Human) 클래스에 (이름, 나이, 성별)을 받는 생성자를 추가하세요.\n",
    "# import time\n",
    "\n",
    "# class Human():\n",
    "\n",
    "#     def set_info(self):\n",
    "#         print(time.ctime())\n",
    "#         name = input(\"이름 : \")\n",
    "#         age = input(\"나이 : \")\n",
    "#         gender = input(\"성별 : \")       \n",
    "    \n",
    "#     def __init__(self):\n",
    "#         print(\"응애응애\")    \n",
    "#         print(time.ctime())\n",
    "#         time.sleep(2)\n",
    "#     def __init__(self):\n",
    "#         name = input(\"이름 : \")\n",
    "#         age = input(\"나이 : \")\n",
    "#         gender = input(\"성별 : \")     \n",
    "\n",
    "# areum = Human()\n",
    "# areum.set_info()\n",
    "\n",
    "\n",
    "# 위에서 생성한 인스턴스의 이름, 나이, 성별을 출력하세요. 인스턴스 변수에 접근하여 값을 출력하면 됩니다.\n",
    "\n",
    "# name= input(\"이름 : \")\n",
    "# age= input(\"나이 : \")\n",
    "# gender = input(\"성별 : \") \n",
    "\n",
    "# name = \"준모\"\n",
    "# age = \"31\"\n",
    "# gender = []\n",
    "\n",
    "a =\"a\"\n",
    "b =\"b\"\n",
    "c =\"c\"\n",
    "# class Human():\n",
    "\n",
    "#     def set_info(self,name,age,gender):\n",
    "#         self.name = name\n",
    "#         print(name)\n",
    "        \n",
    "#         self.age = age\n",
    "            \n",
    "#         self.gender = gender\n",
    "#         print(id(gender))\n",
    "#         print(age)\n",
    "#     def __init__(self):\n",
    "#         print(\"응애응애\")\n",
    "        \n",
    "\n",
    "# areum = Human()\n",
    "\n",
    "\n",
    "# areum.set_info(a,b,c)\n",
    "\n",
    "# print(\"{} {} {} \".format(areum.name,areum.age, areum.gender))\n",
    "\n",
    "\n",
    "# 사람 (Human) 클래스에서 이름, 나이, 성별을 출력하는 who() 메소드를 추가하세요.\n",
    "\n",
    "class Human():\n",
    "\n",
    "    def __init__(self,name,age=\"30\",gender=\"남\"):\n",
    "        self.name = name\n",
    "        self.age = age\n",
    "        self.gender = gender\n",
    "\n",
    "    def who(self):\n",
    "        print(\"{} {} {}\".format(self.name,self.age,self.gender))\n",
    "        \n",
    "areum = Human(a)\n",
    "# areum = Human(a,b)         마지막 __init__ 이 매개변수를  3개를 받아야되기 때문에\n",
    "# areum = Human()\n",
    "areum.who()\n",
    "\n",
    "# 아래와 같은 에러가 발생한 원인에 대해 설명하세요.\n",
    "\n",
    "# class OMG : \n",
    "#     def print() :\n",
    "#         print(\"Oh my god\")\n",
    "\n",
    "# myStock = OMG()\n",
    "# myStock.print()\n",
    "# TypeError Traceback (most recent call last)\n",
    "# <ipython-input-233-c85c04535b22> in <module>()\n",
    "# ----> myStock.print()\n",
    "\n",
    "# TypeError: print() takes 0 positional arguments but 1 was given\n"
   ]
  },
  {
   "cell_type": "code",
   "execution_count": null,
   "id": "7e3fd7ec",
   "metadata": {},
   "outputs": [],
   "source": []
  },
  {
   "cell_type": "code",
   "execution_count": null,
   "id": "ffcec012",
   "metadata": {},
   "outputs": [],
   "source": [
    "class 부모:\n",
    "    def 호출(self):\n",
    "        print(\"부모호출\")\n",
    "\n",
    "class 자식(부모):\n",
    "    def 호출(self):\n",
    "        print(\"자식호출\")\n",
    "        \n",
    "나 = 자식()\n",
    "나.호출()\n"
   ]
  },
  {
   "cell_type": "code",
   "execution_count": null,
   "id": "7149ed60",
   "metadata": {},
   "outputs": [],
   "source": []
  },
  {
   "cell_type": "code",
   "execution_count": null,
   "id": "5be50995",
   "metadata": {},
   "outputs": [],
   "source": [
    "class A:\n",
    "    def B():\n",
    "        pass"
   ]
  },
  {
   "cell_type": "code",
   "execution_count": null,
   "id": "e12e7f88",
   "metadata": {},
   "outputs": [],
   "source": [
    "a=A()"
   ]
  },
  {
   "cell_type": "code",
   "execution_count": null,
   "id": "7d3bf46e",
   "metadata": {},
   "outputs": [],
   "source": [
    "a.B()"
   ]
  },
  {
   "cell_type": "code",
   "execution_count": null,
   "id": "a34d9574",
   "metadata": {},
   "outputs": [],
   "source": [
    "B()"
   ]
  },
  {
   "cell_type": "code",
   "execution_count": null,
   "id": "59c7c02b",
   "metadata": {},
   "outputs": [],
   "source": [
    "A.B()"
   ]
  },
  {
   "cell_type": "code",
   "execution_count": 1,
   "id": "d1175ce6",
   "metadata": {},
   "outputs": [],
   "source": [
    "class Human:\n",
    "    \n",
    "    def __init__(self):\n",
    "        name='준'\n",
    "\n",
    "        "
   ]
  },
  {
   "cell_type": "code",
   "execution_count": 2,
   "id": "7d2eaf3a",
   "metadata": {},
   "outputs": [],
   "source": [
    "a=Human()"
   ]
  },
  {
   "cell_type": "code",
   "execution_count": 3,
   "id": "193d867d",
   "metadata": {},
   "outputs": [
    {
     "ename": "AttributeError",
     "evalue": "'Human' object has no attribute 'name'",
     "output_type": "error",
     "traceback": [
      "\u001b[1;31m---------------------------------------------------------------------------\u001b[0m",
      "\u001b[1;31mAttributeError\u001b[0m                            Traceback (most recent call last)",
      "Cell \u001b[1;32mIn[3], line 1\u001b[0m\n\u001b[1;32m----> 1\u001b[0m a\u001b[38;5;241m.\u001b[39mname\n",
      "\u001b[1;31mAttributeError\u001b[0m: 'Human' object has no attribute 'name'"
     ]
    }
   ],
   "source": [
    "a.name "
   ]
  },
  {
   "cell_type": "code",
   "execution_count": 4,
   "id": "6d62fb68",
   "metadata": {},
   "outputs": [],
   "source": [
    "a.abc='123'"
   ]
  },
  {
   "cell_type": "code",
   "execution_count": 5,
   "id": "cfba4c03",
   "metadata": {},
   "outputs": [
    {
     "data": {
      "text/plain": [
       "'123'"
      ]
     },
     "execution_count": 5,
     "metadata": {},
     "output_type": "execute_result"
    }
   ],
   "source": [
    "a.abc"
   ]
  },
  {
   "cell_type": "code",
   "execution_count": 9,
   "id": "26d3be42",
   "metadata": {},
   "outputs": [
    {
     "name": "stdout",
     "output_type": "stream",
     "text": [
      "자식생성\n"
     ]
    }
   ],
   "source": [
    "\n",
    "# 다음 코드의 실행 결과를 예상해보세요.\n",
    "\n",
    "class 부모:\n",
    "    def __init__(self):\n",
    "        print(\"부모생성\")\n",
    "\n",
    "class 자식(부모):\n",
    "    def __init__(self):\n",
    "        print(\"자식생성\")\n",
    "나 = 자식()"
   ]
  },
  {
   "cell_type": "code",
   "execution_count": 1,
   "id": "840495c8",
   "metadata": {},
   "outputs": [
    {
     "name": "stdout",
     "output_type": "stream",
     "text": [
      "자식생성\n",
      "vbtggbb\n",
      "vbtggbb\n"
     ]
    }
   ],
   "source": [
    "# ------------------------------------------------------------\n",
    "\n",
    "# 다음 코드의 실행 결과를 예상해보세요.\n",
    "\n",
    "class 부모:\n",
    "    \n",
    "    def __init__(self):\n",
    "        print(\"부모생성\")\n",
    "        \n",
    "    def dkanrjsk(self):\n",
    "        print(\"vbtggbb\")\n",
    "        \n",
    "\n",
    "class 자식(부모):\n",
    "    def __init__(self):\n",
    "        print(\"자식생성\")\n",
    "        #super().__init__()                #__init__을 한게 아니고 super()로 불러서 순서대로 나온다?\n",
    "        super().dkanrjsk()\n",
    "        self.dkanrjsk()\n",
    "    \n",
    "    def dlfjswjfjs(self):\n",
    "        print(\"뚜둥\")\n",
    "        \n",
    "\n",
    "\n",
    "나 = 자식()\n",
    "\n",
    "\n"
   ]
  },
  {
   "cell_type": "code",
   "execution_count": 2,
   "id": "a70599fb",
   "metadata": {},
   "outputs": [
    {
     "data": {
      "text/plain": [
       "['__class__',\n",
       " '__delattr__',\n",
       " '__dict__',\n",
       " '__dir__',\n",
       " '__doc__',\n",
       " '__eq__',\n",
       " '__format__',\n",
       " '__ge__',\n",
       " '__getattribute__',\n",
       " '__getstate__',\n",
       " '__gt__',\n",
       " '__hash__',\n",
       " '__init__',\n",
       " '__init_subclass__',\n",
       " '__le__',\n",
       " '__lt__',\n",
       " '__module__',\n",
       " '__ne__',\n",
       " '__new__',\n",
       " '__reduce__',\n",
       " '__reduce_ex__',\n",
       " '__repr__',\n",
       " '__setattr__',\n",
       " '__sizeof__',\n",
       " '__str__',\n",
       " '__subclasshook__',\n",
       " '__weakref__',\n",
       " 'dkanrjsk']"
      ]
     },
     "execution_count": 2,
     "metadata": {},
     "output_type": "execute_result"
    }
   ],
   "source": [
    "dir(자식)"
   ]
  },
  {
   "cell_type": "code",
   "execution_count": null,
   "id": "2213e854",
   "metadata": {},
   "outputs": [],
   "source": [
    "# 다음 코드가 동작하도록 차 클래스를 정의하세요.\n",
    "\n",
    "# >> car = 차(2, 1000)\n",
    "# >> car.바퀴\n",
    "# 2\n",
    "# >> car.가격\n",
    "# 1000\n",
    "\n",
    "\n"
   ]
  },
  {
   "cell_type": "code",
   "execution_count": 6,
   "id": "eeb47e3b",
   "metadata": {},
   "outputs": [
    {
     "data": {
      "text/plain": [
       "1000"
      ]
     },
     "execution_count": 6,
     "metadata": {},
     "output_type": "execute_result"
    }
   ],
   "source": [
    "class 자동차:\n",
    "    def __init__(self, 바퀴, 가격):\n",
    "        self.바퀴 = 바퀴\n",
    "        self.가격 = 가격\n",
    "        \n",
    "car = 자동차(4, 1000)\n",
    "car.바퀴\n",
    "\n",
    "car.가격\n",
    "1000\n",
    "\n"
   ]
  },
  {
   "cell_type": "code",
   "execution_count": 13,
   "id": "c2688eae",
   "metadata": {},
   "outputs": [
    {
     "data": {
      "text/plain": [
       "2"
      ]
     },
     "execution_count": 13,
     "metadata": {},
     "output_type": "execute_result"
    }
   ],
   "source": [
    "# 차 클래스를 상속받은 자전차 클래스를 정의하세요.\n",
    "\n",
    "class 자전차(자동차):\n",
    "    pass\n",
    "\n",
    "# 다음 코드가 동작하도록 자전차 클래스를 정의하세요. 단 자전차 클래스는 차 클래스를 상속받습니다.\n",
    "\n",
    "\n",
    "bicycle = 자전차(2, 100)\n",
    "bicycle.바퀴\n",
    "\n",
    "\n"
   ]
  },
  {
   "cell_type": "code",
   "execution_count": 14,
   "id": "72e98443",
   "metadata": {},
   "outputs": [
    {
     "data": {
      "text/plain": [
       "'시마노'"
      ]
     },
     "execution_count": 14,
     "metadata": {},
     "output_type": "execute_result"
    }
   ],
   "source": [
    "# # ------------------------------------------------------------\n",
    "\n",
    "# # 다음 코드가 동작하도록 자전차 클래스를 정의하세요. 단 자전차 클래스는 차 클래스를 상속받습니다.\n",
    "\n",
    "# class 자전차(자동차):\n",
    "#     def __init__(self, 구동계, 바퀴, 가격):\n",
    "#         self.구동계 = \"시마노\"\n",
    "#         super().__init__(바퀴, 가격)\n",
    "\n",
    "# bicycle = 자전차(\"시마노\",2, 100)\n",
    "# bicycle.구동계\n",
    "# # 시마노\n"
   ]
  },
  {
   "cell_type": "code",
   "execution_count": 25,
   "id": "ba80c573",
   "metadata": {},
   "outputs": [
    {
     "name": "stdout",
     "output_type": "stream",
     "text": [
      "바퀴수 : 4\n",
      "가격 : 1000\n"
     ]
    }
   ],
   "source": [
    "# ----------------------------------------------------------------\n",
    "\n",
    "# 다음 코드가 동작하도록 차 클래스를 상속받는 자동차 클래스를 정의하세요.\n",
    "\n",
    "class 자동차:\n",
    "    def __init__(self, 바퀴, 가격):\n",
    "        self.바퀴 = 바퀴\n",
    "        self.가격 = 가격\n",
    "        \n",
    "\n",
    "class 차(자동차):\n",
    "    def __init__(self, 바퀴, 가격):\n",
    "        super().__init__(바퀴,가격)                        #self없는거 대가리 깨진다\n",
    "        \n",
    "    def 정보(self):\n",
    "        print(\"바퀴수 : {}\".format(self.바퀴))\n",
    "        print(\"가격 : {}\".format(self.가격))\n",
    "\n",
    "car = 차(4, 1000)\n",
    "car.정보()\n",
    "\n",
    "# 바퀴수 4\n",
    "# 가격 1000\n"
   ]
  },
  {
   "cell_type": "code",
   "execution_count": 32,
   "id": "1dd9aaf8",
   "metadata": {},
   "outputs": [
    {
     "name": "stdout",
     "output_type": "stream",
     "text": [
      "바퀴수 : 2\n",
      "가격 : 100\n"
     ]
    }
   ],
   "source": [
    "# -----------------------------------------------------------------\n",
    "\n",
    "# 다음 코드가 동작하도록 자전차 클래스를 수정하세요.\n",
    "\n",
    "# class 자전차(자동차):\n",
    "#     def __init__(self,바퀴, 가격, 구동계):\n",
    "#         self.구동계 = \"시마노\"\n",
    "#         super().__init__(바퀴, 가격)\n",
    "        \n",
    "#     def 정보(self):\n",
    "#         print(\"바퀴수 : {}\".format(self.바퀴))\n",
    "#         print(\"가격 : {}\".format(self.가격))\n",
    "\n",
    "    \n",
    "# bicycle = 자전차(2, 100, \"시마노\")\n",
    "# bicycle.정보()\n",
    "# # 바퀴수 2\n",
    "# # 가격 100\n",
    "\n"
   ]
  },
  {
   "cell_type": "code",
   "execution_count": 33,
   "id": "3aab9e9d",
   "metadata": {},
   "outputs": [
    {
     "name": "stdout",
     "output_type": "stream",
     "text": [
      "바퀴수 : 2\n",
      "가격 : 100\n",
      "구동계 : 시마노\n"
     ]
    }
   ],
   "source": [
    "\n",
    "# 자전차의 정보() 메서드로 구동계 정보까지 출력하도록 수정해보세요.\n",
    "\n",
    "\n",
    "class 자전차(자동차):\n",
    "    def __init__(self,바퀴, 가격, 구동계):\n",
    "        self.구동계 = \"시마노\"\n",
    "        super().__init__(바퀴, 가격)\n",
    "        \n",
    "    def 정보(self):\n",
    "        print(\"바퀴수 : {}\".format(self.바퀴))\n",
    "        print(\"가격 : {}\".format(self.가격))\n",
    "        print(\"구동계 : {}\".format(self.구동계))\n",
    "    \n",
    "bicycle = 자전차(2, 100, \"시마노\")\n",
    "bicycle.정보()\n",
    "# 바퀴수 2\n",
    "# 가격 100\n",
    "\n",
    "\n",
    "# >> bicycle = 자전차(2, 100, \"시마노\")\n",
    "# >> bicycle.정보()\n",
    "# 바퀴수 2\n",
    "# 가격 100\n",
    "# 구동계 시마노\n",
    "\n",
    "\n"
   ]
  },
  {
   "cell_type": "code",
   "execution_count": 2,
   "id": "9e9acb00",
   "metadata": {
    "scrolled": true
   },
   "outputs": [
    {
     "name": "stdout",
     "output_type": "stream",
     "text": [
      "\n",
      "차량등록\n",
      "A.차량등록\n",
      "B.차주검색\n",
      "C.나가기\n",
      "\n",
      "항목을 선택하시오. : c\n",
      "\n"
     ]
    }
   ],
   "source": [
    "# 클래스 실습\n",
    "\n",
    "# 메뉴\n",
    "\n",
    "# A.차량등록\n",
    "# B.차주검색\n",
    "\n",
    "# 차량등록\n",
    "\n",
    "# 차주 :\n",
    "# 색깔 : \n",
    "# 차종 :(sports,suv,truck 중 택일)\n",
    "# 차량스펙은 자동으로 입력\n",
    "\n",
    "#           sports   suv      truck  \n",
    "# 배기량    5000cc   3000cc   6000cc\n",
    "# 구동      후륜     4륜      4륜\n",
    "# 최고속도  300km/h  200km/h  200km/h\n",
    "\n",
    "# 차주검색\n",
    "\n",
    "# ex)\n",
    "# 차주 검색 : \n",
    "# 차량주인 : XXX\n",
    "# 차량색깔 : XX\n",
    "# 차종 : sports\n",
    "# 배기량 : 5000cc\n",
    "# 구동 : 후륜\n",
    "# 최고속도 : 500km\n",
    "\n",
    "\n",
    "class Car:\n",
    "    def __init__(self,name,color,car_value):\n",
    "        self.name=name\n",
    "        self.color=color\n",
    "        self.car_value=car_value\n",
    "\n",
    "class Sports(Car):\n",
    "    cc='5000cc'\n",
    "    action='후륜'\n",
    "    speed='300km/h'\n",
    "    \n",
    "    def car_info(self,**car):\n",
    "        return car\n",
    "    \n",
    "class Suv(Car):\n",
    "    cc='3000cc'\n",
    "    action='4륜'\n",
    "    speed='200km'\n",
    "    \n",
    "    def car_info(self,**car):\n",
    "        return car\n",
    "\n",
    "class Truck(Car):\n",
    "    cc='6000cc'\n",
    "    action='4륜'\n",
    "    speed='200km/h'\n",
    "\n",
    "    def car_info(self,**car):\n",
    "        return car\n",
    "\n",
    "car_info_list=[]\n",
    "        \n",
    "while True:\n",
    "    menu1=input(\"\"\"\n",
    "차량등록\n",
    "A.차량등록\n",
    "B.차주검색\n",
    "C.나가기\n",
    "\n",
    "항목을 선택하시오. : \"\"\")\n",
    "    print(\"\")\n",
    "    if menu1 == 'C' or menu1 == 'c':\n",
    "        break\n",
    "    while True:\n",
    "        if menu1 == 'A' or menu1 == 'a':\n",
    "            name=input(\"차주 : \")\n",
    "            color=input(\"색깔 : \")\n",
    "            \n",
    "            while True:\n",
    "                car_value=input(\"차종 : \")\n",
    "                if car_value == 'sports':\n",
    "                    sports=Sports(name,color,car_value)\n",
    "                    car_info_list.append(sports.car_info(차주=sports.name,색깔=sports.color,차종=sports.car_value,출력=sports.cc,구동=sports.action,최고속도=sports.speed))\n",
    "                    \n",
    "                elif car_value == 'suv':\n",
    "                    suv=Suv(name,color,car_value)\n",
    "                    car_info_list.append(suv.car_info(차주=suv.name,색깔=suv.color,차종=suv.car_value,출력=suv.cc,구동=suv.action,최고속도=suv.speed))\n",
    "                \n",
    "                elif car_value == 'truck':\n",
    "                    truck=Truck(name,color,car_value)\n",
    "                    car_info_list.append(truck.car_info(차주=truck.name,색깔=truck.color,차종=truck.car_value,출력=truck.cc,구동=truck.action,최고속도=truck.speed))\n",
    "                \n",
    "                else:\n",
    "                    print(\"\\n다시 차종을 선택하세요\\n\")\n",
    "                    continue\n",
    "\n",
    "                break    \n",
    "            print(car_info_list)\n",
    "            break    \n",
    "\n",
    "        else:\n",
    "            name1=input(\"차주 검색 : \")\n",
    "            print(\"\")\n",
    "            for info_dic in car_info_list:\n",
    "                if name1 in list(info_dic.values()):\n",
    "                    for i,j in info_dic.items():\n",
    "                        print(\"{}:{}\".format(i,j))\n",
    "                    break\n",
    "                \n",
    "            break    \n"
   ]
  },
  {
   "cell_type": "code",
   "execution_count": null,
   "id": "fa9bf7b4",
   "metadata": {},
   "outputs": [],
   "source": []
  },
  {
   "cell_type": "markdown",
   "id": "731efd6f",
   "metadata": {},
   "source": [
    "클래스는 객체를 표현하기 위한 문법\n",
    "\n",
    "클래스\n",
    "속성 메서드 \n",
    "\n",
    "소유권이 정해져 있기 때문에 클래스를 사용한다고?\n",
    "\n",
    "class 클래스명 :\n",
    "    pass\n",
    "    \n",
    "가장 기본적인 형태\n",
    "\n",
    "a= 클래스명()  >>>>>  객체는 클래스로 만들며 1개의 클래스는 무수히 많은 객체를 만들어 낼 수 있음\n",
    "\n",
    "클래스를 통해 만들어진 각 객체들은 서로 독립적이다. >> 당연한 애길"
   ]
  },
  {
   "cell_type": "code",
   "execution_count": 4,
   "id": "8a6c3313",
   "metadata": {},
   "outputs": [
    {
     "data": {
      "text/plain": [
       "__main__.Test"
      ]
     },
     "execution_count": 4,
     "metadata": {},
     "output_type": "execute_result"
    }
   ],
   "source": [
    "class Test:\n",
    "    pass\n",
    "\n",
    "a = Test()\n",
    "\n",
    "type(a)"
   ]
  },
  {
   "cell_type": "code",
   "execution_count": 5,
   "id": "0903a22c",
   "metadata": {},
   "outputs": [],
   "source": [
    "b= Test()\n",
    "c =Test()"
   ]
  },
  {
   "cell_type": "markdown",
   "id": "b7b94c09",
   "metadata": {},
   "source": [
    "객체와 인스턴스의 차이\n",
    "\n",
    "a 는 Test의 인스턴스\n",
    "인스턴스 -> 관계를 설명할때?"
   ]
  },
  {
   "cell_type": "code",
   "execution_count": 6,
   "id": "0b883e94",
   "metadata": {},
   "outputs": [
    {
     "data": {
      "text/plain": [
       "['__class__',\n",
       " '__delattr__',\n",
       " '__dict__',\n",
       " '__dir__',\n",
       " '__doc__',\n",
       " '__eq__',\n",
       " '__format__',\n",
       " '__ge__',\n",
       " '__getattribute__',\n",
       " '__getstate__',\n",
       " '__gt__',\n",
       " '__hash__',\n",
       " '__init__',\n",
       " '__init_subclass__',\n",
       " '__le__',\n",
       " '__lt__',\n",
       " '__module__',\n",
       " '__ne__',\n",
       " '__new__',\n",
       " '__reduce__',\n",
       " '__reduce_ex__',\n",
       " '__repr__',\n",
       " '__setattr__',\n",
       " '__sizeof__',\n",
       " '__str__',\n",
       " '__subclasshook__',\n",
       " '__weakref__']"
      ]
     },
     "execution_count": 6,
     "metadata": {},
     "output_type": "execute_result"
    }
   ],
   "source": [
    "class Cal:\n",
    "    pass\n",
    "c1 = Cal()\n",
    "dir(c1)"
   ]
  },
  {
   "cell_type": "code",
   "execution_count": 7,
   "id": "1b6b180a",
   "metadata": {},
   "outputs": [
    {
     "data": {
      "text/plain": [
       "['__class__',\n",
       " '__delattr__',\n",
       " '__dict__',\n",
       " '__dir__',\n",
       " '__doc__',\n",
       " '__eq__',\n",
       " '__format__',\n",
       " '__ge__',\n",
       " '__getattribute__',\n",
       " '__getstate__',\n",
       " '__gt__',\n",
       " '__hash__',\n",
       " '__init__',\n",
       " '__init_subclass__',\n",
       " '__le__',\n",
       " '__lt__',\n",
       " '__module__',\n",
       " '__ne__',\n",
       " '__new__',\n",
       " '__reduce__',\n",
       " '__reduce_ex__',\n",
       " '__repr__',\n",
       " '__setattr__',\n",
       " '__sizeof__',\n",
       " '__str__',\n",
       " '__subclasshook__',\n",
       " '__weakref__',\n",
       " 'setdata']"
      ]
     },
     "execution_count": 7,
     "metadata": {},
     "output_type": "execute_result"
    }
   ],
   "source": [
    "class Cal:\n",
    "    def setdata(self, num1,num2):\n",
    "        self.num1 = num1\n",
    "        self.num2 = num2\n",
    "\n",
    "c1= Cal()\n",
    "dir(c1)\n",
    "\n",
    "    "
   ]
  },
  {
   "cell_type": "code",
   "execution_count": 8,
   "id": "964b563b",
   "metadata": {},
   "outputs": [],
   "source": [
    "c2 = Cal()\n",
    "c1.setdata(30,40)"
   ]
  },
  {
   "cell_type": "code",
   "execution_count": 9,
   "id": "5a067856",
   "metadata": {},
   "outputs": [
    {
     "name": "stdout",
     "output_type": "stream",
     "text": [
      "['__class__', '__delattr__', '__dict__', '__dir__', '__doc__', '__eq__', '__format__', '__ge__', '__getattribute__', '__getstate__', '__gt__', '__hash__', '__init__', '__init_subclass__', '__le__', '__lt__', '__module__', '__ne__', '__new__', '__reduce__', '__reduce_ex__', '__repr__', '__setattr__', '__sizeof__', '__str__', '__subclasshook__', '__weakref__', 'num1', 'num2', 'setdata']\n"
     ]
    }
   ],
   "source": [
    "print(dir(c1))"
   ]
  },
  {
   "cell_type": "code",
   "execution_count": 10,
   "id": "218a9f7e",
   "metadata": {},
   "outputs": [],
   "source": [
    "Cal.setdata(c2,50,100)"
   ]
  },
  {
   "cell_type": "markdown",
   "id": "7f1fa9b6",
   "metadata": {},
   "source": [
    "c1.setdata(30,40)   ==   Cal.setdata(c1,30,40)\n",
    "\n",
    "\n",
    "\n",
    "\n"
   ]
  },
  {
   "cell_type": "code",
   "execution_count": 21,
   "id": "8ab110bc",
   "metadata": {},
   "outputs": [],
   "source": [
    "class Cal:\n",
    "    def setdata(self, num1,num2):\n",
    "        self.num1 = num1\n",
    "        self.num2 = num2\n",
    "        \n",
    "    def add(self):\n",
    "        result = self.num1 + self.num2\n",
    "        return result\n",
    "    \n",
    "    def sub(self):\n",
    "        result = self.num1 - self.num2\n",
    "        return result"
   ]
  },
  {
   "cell_type": "code",
   "execution_count": 22,
   "id": "3e288634",
   "metadata": {},
   "outputs": [
    {
     "data": {
      "text/plain": [
       "70"
      ]
     },
     "execution_count": 22,
     "metadata": {},
     "output_type": "execute_result"
    }
   ],
   "source": [
    "c1 = Cal()\n",
    "c1.setdata(30,40)\n",
    "c1.add()"
   ]
  },
  {
   "cell_type": "code",
   "execution_count": 23,
   "id": "32099bbd",
   "metadata": {},
   "outputs": [
    {
     "data": {
      "text/plain": [
       "-10"
      ]
     },
     "execution_count": 23,
     "metadata": {},
     "output_type": "execute_result"
    }
   ],
   "source": [
    "c1.sub()"
   ]
  },
  {
   "cell_type": "code",
   "execution_count": 26,
   "id": "824b1b2e",
   "metadata": {},
   "outputs": [
    {
     "name": "stdout",
     "output_type": "stream",
     "text": [
      "생성자 실행\n"
     ]
    }
   ],
   "source": [
    "class Cal:\n",
    "    def __init__(self,num1,num2):\n",
    "        self.num1 = num1\n",
    "        self.num2 = num2\n",
    "        print (\"생성자 실행\")\n",
    "        \n",
    "c1 = Cal(100,200)"
   ]
  },
  {
   "cell_type": "code",
   "execution_count": 27,
   "id": "bdb71ee8",
   "metadata": {},
   "outputs": [],
   "source": [
    "class Char:\n",
    "    def __init__(self):\n",
    "        self.hp=0\n",
    "        self.mp=0\n",
    "        \n",
    "        \n",
    "class Baba(Char):\n",
    "    def bash1(self):\n",
    "        print(\"베기\")\n",
    "    def jump(self):\n",
    "        print(\"점프\")\n",
    "        \n",
    "class Mag(Char):\n",
    "    def fire(self):\n",
    "        print(\"파이어볼\")\n",
    "    def wind(self):\n",
    "        print(\"윈디\")\n",
    "        \n",
    "char1 = Char()\n",
    "    "
   ]
  },
  {
   "cell_type": "code",
   "execution_count": 28,
   "id": "3c3feff7",
   "metadata": {},
   "outputs": [
    {
     "name": "stdout",
     "output_type": "stream",
     "text": [
      "['__class__', '__delattr__', '__dict__', '__dir__', '__doc__', '__eq__', '__format__', '__ge__', '__getattribute__', '__getstate__', '__gt__', '__hash__', '__init__', '__init_subclass__', '__le__', '__lt__', '__module__', '__ne__', '__new__', '__reduce__', '__reduce_ex__', '__repr__', '__setattr__', '__sizeof__', '__str__', '__subclasshook__', '__weakref__', 'hp', 'mp']\n"
     ]
    }
   ],
   "source": [
    "print(dir(char1))"
   ]
  },
  {
   "cell_type": "code",
   "execution_count": 29,
   "id": "d5778303",
   "metadata": {},
   "outputs": [],
   "source": [
    "war1 = Baba()\n",
    "mag1 = Mag()"
   ]
  },
  {
   "cell_type": "code",
   "execution_count": 30,
   "id": "b9cc5391",
   "metadata": {},
   "outputs": [
    {
     "name": "stdout",
     "output_type": "stream",
     "text": [
      "['__class__', '__delattr__', '__dict__', '__dir__', '__doc__', '__eq__', '__format__', '__ge__', '__getattribute__', '__getstate__', '__gt__', '__hash__', '__init__', '__init_subclass__', '__le__', '__lt__', '__module__', '__ne__', '__new__', '__reduce__', '__reduce_ex__', '__repr__', '__setattr__', '__sizeof__', '__str__', '__subclasshook__', '__weakref__', 'bash1', 'hp', 'jump', 'mp']\n"
     ]
    }
   ],
   "source": [
    "print(dir(war1))"
   ]
  },
  {
   "cell_type": "code",
   "execution_count": 31,
   "id": "64a8d1b9",
   "metadata": {},
   "outputs": [
    {
     "name": "stdout",
     "output_type": "stream",
     "text": [
      "['__class__', '__delattr__', '__dict__', '__dir__', '__doc__', '__eq__', '__format__', '__ge__', '__getattribute__', '__getstate__', '__gt__', '__hash__', '__init__', '__init_subclass__', '__le__', '__lt__', '__module__', '__ne__', '__new__', '__reduce__', '__reduce_ex__', '__repr__', '__setattr__', '__sizeof__', '__str__', '__subclasshook__', '__weakref__', 'fire', 'hp', 'mp', 'wind']\n"
     ]
    }
   ],
   "source": [
    "print(dir(mag1))"
   ]
  },
  {
   "cell_type": "code",
   "execution_count": 32,
   "id": "ce446670",
   "metadata": {},
   "outputs": [
    {
     "name": "stdout",
     "output_type": "stream",
     "text": [
      "베기\n"
     ]
    }
   ],
   "source": [
    "war1.bash1()"
   ]
  },
  {
   "cell_type": "code",
   "execution_count": 33,
   "id": "88df9fa0",
   "metadata": {},
   "outputs": [
    {
     "name": "stdout",
     "output_type": "stream",
     "text": [
      "점프\n"
     ]
    }
   ],
   "source": [
    "war1.jump()"
   ]
  },
  {
   "cell_type": "code",
   "execution_count": 34,
   "id": "3bfa1325",
   "metadata": {},
   "outputs": [
    {
     "name": "stdout",
     "output_type": "stream",
     "text": [
      "윈디\n"
     ]
    }
   ],
   "source": [
    "mag1.wind()"
   ]
  },
  {
   "cell_type": "code",
   "execution_count": 36,
   "id": "a782ddfc",
   "metadata": {},
   "outputs": [],
   "source": [
    "class Char:\n",
    "    def __init__(self):\n",
    "        self.hp=0\n",
    "        self.mp=0\n",
    "    def name1(self):\n",
    "        print(\"캐릭터 생성창\")\n",
    "        \n",
    "class Baba(Char):\n",
    "    def bash1(self):\n",
    "        print(\"베기\")\n",
    "    def jump(self):\n",
    "        print(\"점프\")\n",
    "    def name1(self):\n",
    "        print(\"전사이빈다.\")\n",
    "        \n",
    "        \n",
    "class Mag(Char):\n",
    "    def fire(self):\n",
    "        print(\"파이어볼\")\n",
    "    def wind(self):\n",
    "        print(\"윈디\")\n",
    "    def name1(self):\n",
    "        print(\"법사이빈다.\")\n",
    "        \n",
    "        \n",
    "        \n",
    "char1 = Char()"
   ]
  },
  {
   "cell_type": "code",
   "execution_count": 37,
   "id": "5defcacd",
   "metadata": {},
   "outputs": [],
   "source": [
    "war1 =Baba()\n",
    "mag1 = Mag()"
   ]
  },
  {
   "cell_type": "code",
   "execution_count": 38,
   "id": "7a2af535",
   "metadata": {},
   "outputs": [
    {
     "name": "stdout",
     "output_type": "stream",
     "text": [
      "['__class__', '__delattr__', '__dict__', '__dir__', '__doc__', '__eq__', '__format__', '__ge__', '__getattribute__', '__getstate__', '__gt__', '__hash__', '__init__', '__init_subclass__', '__le__', '__lt__', '__module__', '__ne__', '__new__', '__reduce__', '__reduce_ex__', '__repr__', '__setattr__', '__sizeof__', '__str__', '__subclasshook__', '__weakref__', 'hp', 'mp', 'name1']\n",
      "['__class__', '__delattr__', '__dict__', '__dir__', '__doc__', '__eq__', '__format__', '__ge__', '__getattribute__', '__getstate__', '__gt__', '__hash__', '__init__', '__init_subclass__', '__le__', '__lt__', '__module__', '__ne__', '__new__', '__reduce__', '__reduce_ex__', '__repr__', '__setattr__', '__sizeof__', '__str__', '__subclasshook__', '__weakref__', 'bash1', 'hp', 'jump', 'mp', 'name1']\n",
      "['__class__', '__delattr__', '__dict__', '__dir__', '__doc__', '__eq__', '__format__', '__ge__', '__getattribute__', '__getstate__', '__gt__', '__hash__', '__init__', '__init_subclass__', '__le__', '__lt__', '__module__', '__ne__', '__new__', '__reduce__', '__reduce_ex__', '__repr__', '__setattr__', '__sizeof__', '__str__', '__subclasshook__', '__weakref__', 'fire', 'hp', 'mp', 'name1', 'wind']\n"
     ]
    }
   ],
   "source": [
    "print (dir(char1))\n",
    "print (dir(war1))\n",
    "print (dir(mag1))"
   ]
  },
  {
   "cell_type": "code",
   "execution_count": 39,
   "id": "2ad00a3b",
   "metadata": {},
   "outputs": [
    {
     "name": "stdout",
     "output_type": "stream",
     "text": [
      "캐릭터 생성창\n"
     ]
    }
   ],
   "source": [
    "char1.name1()"
   ]
  },
  {
   "cell_type": "code",
   "execution_count": 40,
   "id": "cfdea8c4",
   "metadata": {},
   "outputs": [
    {
     "name": "stdout",
     "output_type": "stream",
     "text": [
      "전사이빈다.\n"
     ]
    }
   ],
   "source": [
    "war1.name1()"
   ]
  },
  {
   "cell_type": "code",
   "execution_count": 41,
   "id": "245be3f7",
   "metadata": {},
   "outputs": [
    {
     "name": "stdout",
     "output_type": "stream",
     "text": [
      "법사이빈다.\n"
     ]
    }
   ],
   "source": [
    "mag1.name1()"
   ]
  },
  {
   "cell_type": "code",
   "execution_count": 42,
   "id": "175fe35e",
   "metadata": {},
   "outputs": [],
   "source": [
    "class Char:\n",
    "    def __init__(self):\n",
    "        self.hp=0\n",
    "        self.mp=0\n",
    "    def name1(self):\n",
    "        print(\"캐릭터 생성창\")\n",
    "        \n",
    "class Baba(Char):\n",
    "    def bash1(self):\n",
    "        print(\"베기\")\n",
    "    def jump(self):\n",
    "        print(\"점프\")\n",
    "    def name1(self):\n",
    "        print(\"전사이빈다.\")\n",
    "        \n",
    "        \n",
    "class Mag(Char):\n",
    "    def fire(self):\n",
    "        print(\"파이어볼\")\n",
    "    def wind(self):\n",
    "        print(\"윈디\")\n",
    "    def name1(self):\n",
    "        print(\"법사이빈다.\")"
   ]
  },
  {
   "cell_type": "code",
   "execution_count": 47,
   "id": "3f228097",
   "metadata": {},
   "outputs": [],
   "source": [
    "class Tset:\n",
    "    def __init__ (self,a,b):\n",
    "        self.a = a\n",
    "        self.b = b\n",
    "        \n",
    "class Test1 (Test):\n",
    "    def __init__ (self,c,a,b):\n",
    "        sself.c =c\n",
    "        super().__init__(a,b)\n",
    "        "
   ]
  },
  {
   "cell_type": "code",
   "execution_count": null,
   "id": "6fb05bb7",
   "metadata": {},
   "outputs": [],
   "source": [
    "a = Test(1,2,3)"
   ]
  }
 ],
 "metadata": {
  "kernelspec": {
   "display_name": "Python 3 (ipykernel)",
   "language": "python",
   "name": "python3"
  },
  "language_info": {
   "codemirror_mode": {
    "name": "ipython",
    "version": 3
   },
   "file_extension": ".py",
   "mimetype": "text/x-python",
   "name": "python",
   "nbconvert_exporter": "python",
   "pygments_lexer": "ipython3",
   "version": "3.11.3"
  }
 },
 "nbformat": 4,
 "nbformat_minor": 5
}
