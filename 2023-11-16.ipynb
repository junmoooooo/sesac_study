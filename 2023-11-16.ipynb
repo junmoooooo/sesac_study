{
 "cells": [
  {
   "cell_type": "code",
   "execution_count": 2,
   "id": "d258c53b",
   "metadata": {},
   "outputs": [
    {
     "data": {
      "text/plain": [
       "{'수원님': 'T'}"
      ]
     },
     "execution_count": 2,
     "metadata": {},
     "output_type": "execute_result"
    }
   ],
   "source": [
    "subarksu = ({\"수원님\":\"T\"})\n",
    "\n",
    "subarksu"
   ]
  },
  {
   "cell_type": "code",
   "execution_count": 17,
   "id": "dfae7a0f",
   "metadata": {},
   "outputs": [
    {
     "name": "stdout",
     "output_type": "stream",
     "text": [
      "('a1', 'b1', 'c1', 'a2', 'b2', 'c2')\n",
      "('a1', 'b1', 'c1', 'a2', 'b2', 'c2', 'a1', 'b1', 'c1', 'a2', 'b2', 'c2', 'a1', 'b1', 'c1', 'a2', 'b2', 'c2')\n",
      "('a1', 'b1', 'c1', 'a2', 'b2', 'c2', 'a1', 'b1', 'c1', 'a2', 'b2', 'c2', 'a1', 'b1', 'c1', 'a2', 'b2', 'c2', [1, 2, 3], ['a', 'b', 'c'])\n",
      "('a1', 'b1', 'c1', 'a2', 'b2', 'c2', 'a1', 'b1', 'c1', 'a2', 'b2', 'c2', 'a1', 'b1', 'c1', 'a2', 'b2', 'c2', [5, 2, 3], ['a', 'd', 'c'])\n"
     ]
    }
   ],
   "source": [
    "# 튜플 실습\n",
    "\n",
    "tu1=('a1','b1','c1')\n",
    "tu2=('a2','b2','c2')\n",
    "\n",
    "# tu1와 tu2를 합쳐서 tu3을 만드시오.\n",
    "tu3 = tu1 + tu2\n",
    "print(tu3)\n",
    "\n",
    "# tu3 대상\n",
    "# 4번째 자리의 구성요소는 무엇인가?\n",
    "tu3[4]\n",
    "\n",
    "# 3번째부터 6번째까지의 구성요소는 무엇인가?\n",
    "tu3[3:6]\n",
    "\n",
    "# tu3을 3번 반복해서 tu4를 만드시오.\n",
    "tu4 = tu3*3\n",
    "print(tu4)\n",
    "\n",
    "# tu4에 'a1'이 몇개 있는지 확인해보시오.\n",
    "tu4.count(\"a1\")\n",
    "\n",
    "# tu4에 첫번째 'b2'가 어느 위치에 있는 확인해보시오.\n",
    "tu4.index('b2')\n",
    "\n",
    "# tu4에 ([1,2,3],['a','b','c']) 를 추가해서 tu5를 만드시오.\n",
    "tu5 = tu4 + ([1,2,3], ['a','b','c'])\n",
    "print(tu5)\n",
    "\n",
    "# tu5 안에 있는 1을 5로 수정하고 'b'를 'd'로 수정하시오.\n",
    "tu5[-2][0] = 5\n",
    "tu5[-1][1] = 'd'\n",
    "print(tu5)\n"
   ]
  },
  {
   "cell_type": "code",
   "execution_count": 8,
   "id": "4dff5c3a",
   "metadata": {},
   "outputs": [
    {
     "name": "stdout",
     "output_type": "stream",
     "text": [
      "['a', 'b', 'c', 'd']\n",
      "[1, 2, 3, 4]\n",
      "추가해?y\n",
      "group\n",
      "python\n",
      "추가해?y\n",
      "name\n",
      "XXX\n",
      "추가해?y\n",
      "age\n",
      "XX\n",
      "추가해?y\n",
      "area\n",
      "XXX\n",
      "추가해?\n",
      "{'python': 'group', 'XXX': 'area', 'XX': 'age'}\n"
     ]
    }
   ],
   "source": [
    "# 딕셔너리 실습\n",
    "\n",
    "dic={\"a\":1,\"b\":2,\"c\":3,\"d\":4}\n",
    "\n",
    "# key 리스트를 출력하시오.\n",
    "print(list(dic.keys()))\n",
    "\n",
    "# value 리스트를 출력하시오.\n",
    "print(list(dic.values()))\n",
    "\n",
    "# \"e\"이 key에 있는 확인해보시오.\n",
    "'e' in dic\n",
    "\n",
    "# 5 가 value에 있는지 확인해보시오.\n",
    "5 in dic.values()\n",
    "\n",
    "# input() 을 통해서 \n",
    "\n",
    "# key     value   \n",
    "# group : python\n",
    "# name  : XXX\n",
    "# age   : XX\n",
    "# area  : XXX\n",
    "\n",
    "# 을 입력받은 후 해당 내용으로 info 라는 딕셔너리를 생성하고\n",
    "\n",
    "# info ={}\n",
    "# while input(\"추가할거야? y/엔터를 누르면 그만\"):\n",
    "#     info[input()] = input()\n",
    "    \n",
    "info_list= ['group', 'name','age', 'area']\n",
    "info_dic = {}\n",
    "\n",
    "for i in info_list :\n",
    "    info_dic[i] = input(\"{}: \". format(i))\n",
    "\n",
    "print(info_dic)\n",
    "\n",
    "# \"내 group은 python 입니다.\"    \n",
    "# \"내 name은 XXX 입니다.\"       \n",
    "# \"내 age는 XX 이며 X대입니다.\" \n",
    "# \"내 area은 XXX 입니다.\"       \n",
    "\n",
    "# 이 출력 되도록 하시오.\n",
    "\n",
    "# (hint :\n",
    "\n",
    "# \"내 group은 python 입니다.\"    => 내 key 은(는) value 입니다.\n",
    "# \"내 name은 XXX 입니다.\"       => 내 key 은(는) value 입니다.\n",
    "# \"내 age는 XX 이며 X대입니다.\"   => 내 key 은(는) value 이며 X대입니다..\n",
    "# \"내 area은 XXX 입니다.\"       => 내 key 은(는) value 입니다.\n",
    "\n",
    "\n",
    "for i,j in info_dic.items():\n",
    "    if i == 'age' :\n",
    "        print (\"내 {} 은/는 {}이고 {} 대 입니다.\".format(i,j,int(j)//10*10))\n",
    "    else :\n",
    "        print (\"내 {} 은/는 {} 입니다\".format(i,j))\n"
   ]
  },
  {
   "cell_type": "code",
   "execution_count": 46,
   "id": "d2fe0320",
   "metadata": {},
   "outputs": [
    {
     "name": "stdout",
     "output_type": "stream",
     "text": [
      "{'e', 't', 'u', 'b', ' ', 'm', 'o', 'a', ',', 's', 'i', 'y'}\n"
     ]
    },
    {
     "data": {
      "text/plain": [
       "{' ', ',', 'a', 'b', 'e', 'i', 'm', 'o', 's', 't', 'u', 'y'}"
      ]
     },
     "execution_count": 46,
     "metadata": {},
     "output_type": "execute_result"
    }
   ],
   "source": [
    "# 집합 실습\n",
    "\n",
    "s1= {'a','c','e','b','d','f',1} \n",
    "s2={1,2,3,'b','d','f'}\n",
    "\n",
    "# string1 = \"BOYS, BE AMBITIOUS\" 를 소문자로 변환 후에 집합 s3를 만드시오.\n",
    "string1 = \"BOYS, BE AMBITIOUS\" \n",
    "s3 = set(string1.lower())\n",
    "\n",
    "print (set(s3))\n",
    "\n",
    "# s1, s2, s3의 교집합을 구하시오.\n",
    "s1 & s2 & s3\n",
    "\n",
    "# s1, s2, s3의 합집합을 구하시오.\n",
    "s1 | s2 | s3\n",
    "\n",
    "# s3, s2, s1 순으로 차집합을 구하시오.\n",
    "s3 - s2 -s1\n",
    "\n",
    "s3-(s2-s1)\n",
    "\n",
    "s3.difference(s2.difference(s1))\n",
    "# s1에 'g','h'문자열을 추가하시오.\n",
    "s1.update(['g','h'])\n",
    "\n",
    "# s2에 'A' 문자열을 추가하시오.\n",
    "s2.update(['A'])\n",
    " "
   ]
  },
  {
   "cell_type": "code",
   "execution_count": null,
   "id": "537a8df5",
   "metadata": {},
   "outputs": [],
   "source": []
  },
  {
   "cell_type": "code",
   "execution_count": null,
   "id": "751210e8",
   "metadata": {},
   "outputs": [],
   "source": []
  },
  {
   "cell_type": "markdown",
   "id": "c62f49ac",
   "metadata": {},
   "source": [
    "if 조건1 :\n",
    "    코드A\n",
    "elif 조건2:\n",
    "    코드 B\n",
    "elif 조건3:\n",
    "    코드 C\n",
    "else:\n",
    "    코드 D"
   ]
  },
  {
   "cell_type": "code",
   "execution_count": 47,
   "id": "5380dbc8",
   "metadata": {},
   "outputs": [
    {
     "name": "stdout",
     "output_type": "stream",
     "text": [
      "점수 : 65\n",
      "result :  success\n"
     ]
    }
   ],
   "source": [
    "score = int (input(\"점수 : \"))\n",
    "if score >= 60:\n",
    "    result = \"success\"\n",
    "else:\n",
    "    resuit = \"failure\"\n",
    "print(\"result : \", result)"
   ]
  },
  {
   "cell_type": "markdown",
   "id": "dd02827d",
   "metadata": {},
   "source": [
    "while 1 :\n",
    "    code 1\n",
    "    code 2\n",
    "    while 2:\n",
    "        code 3\n",
    "        code 4\n",
    "        if 조건1 : \n",
    "            break1   //while2의 반복만 벗어난다.\n",
    "        code5\n",
    "    if 조건2:\n",
    "        break2"
   ]
  },
  {
   "cell_type": "markdown",
   "id": "b83efe23",
   "metadata": {},
   "source": [
    "while 1:\n",
    "    code1\n",
    "    code2\n",
    "    if 조건1:\n",
    "        continue\n",
    "    code3\n",
    "    code4\n",
    "    \n",
    "1 2 조건1 X 3 4 / 1 2 조건1 O / 1 2 조건1 O / 1 2 조건1 x 3 4"
   ]
  },
  {
   "cell_type": "code",
   "execution_count": 54,
   "id": "e8d41bf8",
   "metadata": {},
   "outputs": [
    {
     "data": {
      "text/plain": [
       "[0, 1, 2, 3, 4, 5, 6, 7, 8, 9, 10, 11, 12, 13]"
      ]
     },
     "execution_count": 54,
     "metadata": {},
     "output_type": "execute_result"
    }
   ],
   "source": [
    "#range(시작번호,종료번호(-1), 간격)\n",
    "range ( 0,10)\n",
    "list(range(1, 11, 2))\n",
    "\n",
    "list1 = list(\"abcdeggdsjklgj\")\n",
    "list(range(len(list1)))"
   ]
  },
  {
   "cell_type": "code",
   "execution_count": 56,
   "id": "22c11272",
   "metadata": {},
   "outputs": [
    {
     "name": "stdout",
     "output_type": "stream",
     "text": [
      "a\n",
      "b\n",
      "c\n",
      "d\n",
      "e\n",
      "g\n",
      "g\n",
      "d\n",
      "s\n",
      "j\n",
      "k\n",
      "l\n",
      "g\n",
      "j\n",
      "a\n",
      "b\n",
      "c\n",
      "d\n",
      "e\n",
      "g\n",
      "g\n",
      "d\n",
      "s\n",
      "j\n",
      "k\n",
      "l\n",
      "g\n",
      "j\n"
     ]
    }
   ],
   "source": [
    "for int1 in list1:\n",
    "    print(int1)\n",
    "    \n",
    "for i in range(len(list1)):\n",
    "    print(list1[i])"
   ]
  },
  {
   "cell_type": "code",
   "execution_count": 59,
   "id": "cfd3702c",
   "metadata": {},
   "outputs": [
    {
     "name": "stdout",
     "output_type": "stream",
     "text": [
      "1 학생은 합격 점수는90\n",
      "3 학생은 합격 점수는67\n",
      "5 학생은 합격 점수는80\n"
     ]
    }
   ],
   "source": [
    "marks = [90,25,67,45,80]\n",
    "for i in range(len(marks)):\n",
    "    if marks[i] < 60 :\n",
    "        continue\n",
    "    print(\"{} 학생은 합격 점수는{}\".format(i+1,marks[i]))\n",
    "    "
   ]
  },
  {
   "cell_type": "code",
   "execution_count": 60,
   "id": "ede56556",
   "metadata": {},
   "outputs": [
    {
     "name": "stdout",
     "output_type": "stream",
     "text": [
      "2 X 1 = 2\n",
      "2 X 2 = 4\n",
      "2 X 3 = 6\n",
      "2 X 4 = 8\n",
      "2 X 5 = 10\n",
      "2 X 6 = 12\n",
      "2 X 7 = 14\n",
      "2 X 8 = 16\n",
      "2 X 9 = 18\n",
      "3 X 1 = 3\n",
      "3 X 2 = 6\n",
      "3 X 3 = 9\n",
      "3 X 4 = 12\n",
      "3 X 5 = 15\n",
      "3 X 6 = 18\n",
      "3 X 7 = 21\n",
      "3 X 8 = 24\n",
      "3 X 9 = 27\n",
      "4 X 1 = 4\n",
      "4 X 2 = 8\n",
      "4 X 3 = 12\n",
      "4 X 4 = 16\n",
      "4 X 5 = 20\n",
      "4 X 6 = 24\n",
      "4 X 7 = 28\n",
      "4 X 8 = 32\n",
      "4 X 9 = 36\n",
      "5 X 1 = 5\n",
      "5 X 2 = 10\n",
      "5 X 3 = 15\n",
      "5 X 4 = 20\n",
      "5 X 5 = 25\n",
      "5 X 6 = 30\n",
      "5 X 7 = 35\n",
      "5 X 8 = 40\n",
      "5 X 9 = 45\n",
      "6 X 1 = 6\n",
      "6 X 2 = 12\n",
      "6 X 3 = 18\n",
      "6 X 4 = 24\n",
      "6 X 5 = 30\n",
      "6 X 6 = 36\n",
      "6 X 7 = 42\n",
      "6 X 8 = 48\n",
      "6 X 9 = 54\n",
      "7 X 1 = 7\n",
      "7 X 2 = 14\n",
      "7 X 3 = 21\n",
      "7 X 4 = 28\n",
      "7 X 5 = 35\n",
      "7 X 6 = 42\n",
      "7 X 7 = 49\n",
      "7 X 8 = 56\n",
      "7 X 9 = 63\n",
      "8 X 1 = 8\n",
      "8 X 2 = 16\n",
      "8 X 3 = 24\n",
      "8 X 4 = 32\n",
      "8 X 5 = 40\n",
      "8 X 6 = 48\n",
      "8 X 7 = 56\n",
      "8 X 8 = 64\n",
      "8 X 9 = 72\n",
      "9 X 1 = 9\n",
      "9 X 2 = 18\n",
      "9 X 3 = 27\n",
      "9 X 4 = 36\n",
      "9 X 5 = 45\n",
      "9 X 6 = 54\n",
      "9 X 7 = 63\n",
      "9 X 8 = 72\n",
      "9 X 9 = 81\n"
     ]
    }
   ],
   "source": [
    "for i in range(2,10):\n",
    "    for j in range(1,10):\n",
    "        print(\"{} X {} = {}\".format(i,j , i*j))\n",
    "        "
   ]
  },
  {
   "cell_type": "code",
   "execution_count": 64,
   "id": "9ebd680a",
   "metadata": {},
   "outputs": [
    {
     "name": "stdout",
     "output_type": "stream",
     "text": [
      "2 X 1 = 2               2 X 2 = 4               2 X 3 = 6               2 X 4 = 8               2 X 5 = 10               2 X 6 = 12               2 X 7 = 14               2 X 8 = 16               2 X 9 = 18               3 X 1 = 3               3 X 2 = 6               3 X 3 = 9               3 X 4 = 12               3 X 5 = 15               3 X 6 = 18               3 X 7 = 21               3 X 8 = 24               3 X 9 = 27               4 X 1 = 4               4 X 2 = 8               4 X 3 = 12               4 X 4 = 16               4 X 5 = 20               4 X 6 = 24               4 X 7 = 28               4 X 8 = 32               4 X 9 = 36               5 X 1 = 5               5 X 2 = 10               5 X 3 = 15               5 X 4 = 20               5 X 5 = 25               5 X 6 = 30               5 X 7 = 35               5 X 8 = 40               5 X 9 = 45               6 X 1 = 6               6 X 2 = 12               6 X 3 = 18               6 X 4 = 24               6 X 5 = 30               6 X 6 = 36               6 X 7 = 42               6 X 8 = 48               6 X 9 = 54               7 X 1 = 7               7 X 2 = 14               7 X 3 = 21               7 X 4 = 28               7 X 5 = 35               7 X 6 = 42               7 X 7 = 49               7 X 8 = 56               7 X 9 = 63               8 X 1 = 8               8 X 2 = 16               8 X 3 = 24               8 X 4 = 32               8 X 5 = 40               8 X 6 = 48               8 X 7 = 56               8 X 8 = 64               8 X 9 = 72               9 X 1 = 9               9 X 2 = 18               9 X 3 = 27               9 X 4 = 36               9 X 5 = 45               9 X 6 = 54               9 X 7 = 63               9 X 8 = 72               9 X 9 = 81               "
     ]
    }
   ],
   "source": [
    "for i in range(2,10):\n",
    "    for j in range(1,10):\n",
    "        print(\"{} X {} = {}\".format(i,j , i*j),end='')"
   ]
  },
  {
   "cell_type": "code",
   "execution_count": 66,
   "id": "b90bfb09",
   "metadata": {},
   "outputs": [
    {
     "name": "stdout",
     "output_type": "stream",
     "text": [
      "2 X 1 = 2   2 X 2 = 4   2 X 3 = 6   2 X 4 = 8   2 X 5 = 10   2 X 6 = 12   2 X 7 = 14   2 X 8 = 16   2 X 9 = 18    \n",
      "3 X 1 = 3   3 X 2 = 6   3 X 3 = 9   3 X 4 = 12   3 X 5 = 15   3 X 6 = 18   3 X 7 = 21   3 X 8 = 24   3 X 9 = 27    \n",
      "4 X 1 = 4   4 X 2 = 8   4 X 3 = 12   4 X 4 = 16   4 X 5 = 20   4 X 6 = 24   4 X 7 = 28   4 X 8 = 32   4 X 9 = 36    \n",
      "5 X 1 = 5   5 X 2 = 10   5 X 3 = 15   5 X 4 = 20   5 X 5 = 25   5 X 6 = 30   5 X 7 = 35   5 X 8 = 40   5 X 9 = 45    \n",
      "6 X 1 = 6   6 X 2 = 12   6 X 3 = 18   6 X 4 = 24   6 X 5 = 30   6 X 6 = 36   6 X 7 = 42   6 X 8 = 48   6 X 9 = 54    \n",
      "7 X 1 = 7   7 X 2 = 14   7 X 3 = 21   7 X 4 = 28   7 X 5 = 35   7 X 6 = 42   7 X 7 = 49   7 X 8 = 56   7 X 9 = 63    \n",
      "8 X 1 = 8   8 X 2 = 16   8 X 3 = 24   8 X 4 = 32   8 X 5 = 40   8 X 6 = 48   8 X 7 = 56   8 X 8 = 64   8 X 9 = 72    \n",
      "9 X 1 = 9   9 X 2 = 18   9 X 3 = 27   9 X 4 = 36   9 X 5 = 45   9 X 6 = 54   9 X 7 = 63   9 X 8 = 72   9 X 9 = 81    \n"
     ]
    }
   ],
   "source": [
    "for i in range(2,10):\n",
    "    for j in range(1,10):\n",
    "        print(\"{} X {} = {}\".format(i,j , i*j),end = '   ')\n",
    "    print(' ')"
   ]
  },
  {
   "cell_type": "code",
   "execution_count": 67,
   "id": "ab02d614",
   "metadata": {},
   "outputs": [
    {
     "data": {
      "text/plain": [
       "[0, 1, 2, 3, 4, 5, 6, 7, 8, 9]"
      ]
     },
     "execution_count": 67,
     "metadata": {},
     "output_type": "execute_result"
    }
   ],
   "source": [
    "[i for i in range(10)]"
   ]
  },
  {
   "cell_type": "code",
   "execution_count": null,
   "id": "1c52a31a",
   "metadata": {},
   "outputs": [],
   "source": [
    "# 1. print(3 == 5)\n",
    "print(3 == 5)\n",
    "\n",
    "\n",
    "# 2. print(3 < 5)\n",
    "print(3 < 5)\n",
    "\n",
    "\n",
    "# 3.\n",
    "x = 4\n",
    "print(1 < x < 5)\n",
    "\n",
    "\n",
    "\n",
    "# 4.\n",
    "# print ((3 == 3) and (4 != 3))\n",
    "print ((3 == 3) and (4 != 3))\n",
    "\n",
    "\n",
    "# 5.\n",
    "\n",
    "if 4 < 3:\n",
    "    print(\"Hello World.\")\n",
    "else:\n",
    "    print(\"Hi, there.\")"
   ]
  },
  {
   "cell_type": "code",
   "execution_count": null,
   "id": "018f22ab",
   "metadata": {},
   "outputs": [],
   "source": [
    "# 6. input()을 통해서  \"안녕하세요\"를 입력한 경우 2번씩 출력 하도록 하시오.\n",
    "\n",
    "input1 = input()\n",
    "\n",
    "for i in range(2):\n",
    "    print(\"내가 입력한 것은 {}\".format(input1))\n",
    "\n",
    "\n",
    "# 7. input()을 통해서  하나의 숫자를 입력 받고 짝수/홀수를 판별하는 코드를 작성해보시오.\n",
    "\n",
    "num1 = input()\n",
    "\n",
    "if (int)(num1)%2 == 0 :\n",
    "    print(\"짝수\")\n",
    "else :\n",
    "    print(\"홀수\")\n",
    "\n",
    "\n",
    "# 8. input()을 통해서 숫자를 입력받은 후 해당 값에 20을 더한 값을 출력하시오.\n",
    "#     단 입력한 값과 20을 더한 계산 값이 255를 초과하는 경우 255를 출력되도록 해야합니다.\n",
    "num2 = input()\n",
    "\n",
    "if (int)(num2) + 20 > 255:\n",
    "    print(255)\n",
    "else:\n",
    "    print((int)(num2)+20)\n",
    "\n",
    "\n",
    "# 9. input()을 통해서 하나의 값을 입력받은 후 해당 값에 20을 뺀 값을 출력하라. \n",
    "#     단 출력 값의 범위는 0~255으로 예를 들어 결괏값이 0보다 작은 값이되는 경우 0을 출력하고 255보다 큰 값이 되는 경우 255를 출력해야 합니다.\n",
    "\n",
    "num4 =input()\n",
    "if (int)(num4) -20 < 0 :\n",
    "    print(0)\n",
    "elif (int)(num4) -20 > 255 :\n",
    "    print(255)\n",
    "else :\n",
    "    print((int)(num4) -20)"
   ]
  },
  {
   "cell_type": "code",
   "execution_count": 106,
   "id": "f4a1d7ef",
   "metadata": {},
   "outputs": [
    {
     "name": "stdout",
     "output_type": "stream",
     "text": [
      "가을\n",
      "정답입니다\n"
     ]
    }
   ],
   "source": [
    "# 10. fruit 딕셔너리가 정의되어 있습니다.\n",
    "#     input()을 통해서 입력한 값이 딕셔너리 키 (key) 값에 포함되었다면 \"정답입니다\"를 아닐 경우 \"오답입니다\" 출력\n",
    "fruit = {\"봄\" : \"딸기\", \"여름\" : \"토마토\", \"가을\" : \"사과\"}\n",
    "\n",
    "season = input()\n",
    "\n",
    "list(fruit.keys()).count(\"봄\")\n",
    "\n",
    "for i in range(len(list(fruit.keys()))):\n",
    "    if list(fruit.keys()).count(season) != 0:\n",
    "        print(\"정답입니다\")\n",
    "        break\n",
    "    else :\n",
    "        print (\"오답입니다.\")\n",
    "        \n",
    "\n"
   ]
  },
  {
   "cell_type": "code",
   "execution_count": 109,
   "id": "03b24757",
   "metadata": {},
   "outputs": [
    {
     "name": "stdout",
     "output_type": "stream",
     "text": [
      "54\n",
      "C\n"
     ]
    }
   ],
   "source": [
    "# 11. 점수 구간에 해당하는 학점이 아래와 같이 정의되어 있습니다. input()을 통해서 score를 입력받아 학점을 출력해보시오.\n",
    "    \n",
    "# 점수\t학점\n",
    "# 81~100\tA\n",
    "# 61~80\tB\n",
    "# 41~60\tC\n",
    "# 21~40\tD\n",
    "# 0~20\tE\n",
    "\n",
    "score = input()\n",
    "\n",
    "if (int)(score) > 80 and (int)(score) <101:\n",
    "    print(\"A\")\n",
    "elif (int)(score) > 60 and (int)(score) <81:\n",
    "    print(\"B\")\n",
    "elif (int)(score) > 40 and (int)(score) <61:\n",
    "    print(\"C\")\n",
    "elif (int)(score) > 20 and (int)(score) <41:\n",
    "    print(\"D\")\n",
    "else :\n",
    "    print(\"E\")\n"
   ]
  },
  {
   "cell_type": "code",
   "execution_count": 5,
   "id": "f3989b17",
   "metadata": {},
   "outputs": [
    {
     "name": "stdout",
     "output_type": "stream",
     "text": [
      "5\n",
      "5835 달라\n",
      "5.48 엔\n",
      "6340 유로\n",
      "855 위안\n"
     ]
    }
   ],
   "source": [
    "# 12. input()을 통해서 달러, 엔, 유로, 또는 위안 금액을 입력받은 후 이를 원으로 변환하는 프로그램을 작성\n",
    "#     각 통화별 환율은 다음과 같습니다.\n",
    "#     100 달러, 1000 엔, 13 유로, 100 위안과 같이 금액과 통화명 사이에 공백을 넣어 입력한다고 가정\n",
    "\n",
    "# 통화명\t환율\n",
    "# 달러\t1167\n",
    "# 엔\t1.096\n",
    "# 유로\t1268\n",
    "# 위안\t171\n",
    "\n",
    "USD = 1167\n",
    "JPY = 1.096\n",
    "EUR = 1268\n",
    "CNY = 171\n",
    "\n",
    "ko = input()\n",
    "K = (int)(ko)\n",
    "print (\"{} 달라\".format(USD*K))\n",
    "print (\"{} 엔\".format(JPY*K))\n",
    "print (\"{} 유로\".format(EUR*K))\n",
    "print (\"{} 위안\".format(CNY*K))\n"
   ]
  },
  {
   "cell_type": "code",
   "execution_count": null,
   "id": "aa4094fe",
   "metadata": {},
   "outputs": [],
   "source": [
    "# 해당 결과를 예측하시오\n",
    "\n",
    "# 13 \n",
    "과일 = [\"사과\", \"귤\", \"수박\"]\n",
    "for i in 과일:\n",
    "     print(i)\n",
    "\n",
    "\n",
    "\n",
    "# 14\n",
    "for i in [\"A\", \"B\", \"C\"]:\n",
    "    b = i.lower()\n",
    "    print(\"변환:\", b)\n",
    "\n"
   ]
  },
  {
   "cell_type": "code",
   "execution_count": 10,
   "id": "01177f21",
   "metadata": {},
   "outputs": [
    {
     "name": "stdout",
     "output_type": "stream",
     "text": [
      "변수 = 10\n",
      "print(10)\n",
      "변수 = 20\n",
      "print(20)\n",
      "변수 = 30\n",
      "print(30)\n"
     ]
    }
   ],
   "source": [
    "# 15. 다음 코드를 for문으로 작성하라.\n",
    "\n",
    "# 변수 = 10\n",
    "# print(변수)\n",
    "\n",
    "# 변수 = 20\n",
    "# print(변수)\n",
    "\n",
    "# 변수 = 30\n",
    "# print(변수)\n",
    "\n",
    "for i in range(3) :\n",
    "    sum = input(\"변수 = \")\n",
    "    print(\"print({})\".format(sum))"
   ]
  },
  {
   "cell_type": "code",
   "execution_count": 6,
   "id": "4bd4f922",
   "metadata": {},
   "outputs": [
    {
     "name": "stdout",
     "output_type": "stream",
     "text": [
      "10 20 30\n",
      "print(10)\n",
      "print(\"------\")\n",
      "print(20)\n",
      "print(\"------\")\n",
      "print(30)\n",
      "print(\"------\")\n"
     ]
    }
   ],
   "source": [
    "# 16. 다음 코드를 for문으로 작성하라.\n",
    "\n",
    "# print(10)\n",
    "# print(\"-------\")\n",
    "# print(20)\n",
    "# print(\"-------\")\n",
    "# print(30)\n",
    "# print(\"-------\")\n",
    "\n",
    "s= input().split()\n",
    "\n",
    "    \n",
    "for i in s :\n",
    "    print(\"print({})\".format(i))\n",
    "    print('print(\"------\")')\n",
    "\n"
   ]
  },
  {
   "cell_type": "code",
   "execution_count": 7,
   "id": "1c5cb1eb",
   "metadata": {},
   "outputs": [
    {
     "name": "stdout",
     "output_type": "stream",
     "text": [
      "10 20 30\n",
      "++++\n",
      "print(10)\n",
      "print(20)\n",
      "print(30)\n"
     ]
    }
   ],
   "source": [
    "# 17. 다음 코드를 for문으로 작성하라.\n",
    "\n",
    "# print(\"++++\")\n",
    "# print(10)\n",
    "# print(20)\n",
    "# print(30)\n",
    "\n",
    "a= input().split()\n",
    "\n",
    "print(\"++++\")\n",
    "for i in a :\n",
    "    print(\"print({})\".format(i))"
   ]
  },
  {
   "cell_type": "code",
   "execution_count": 23,
   "id": "e17842d7",
   "metadata": {},
   "outputs": [
    {
     "ename": "SyntaxError",
     "evalue": "cannot assign to expression (285831760.py, line 17)",
     "output_type": "error",
     "traceback": [
      "\u001b[1;36m  Cell \u001b[1;32mIn[23], line 17\u001b[1;36m\u001b[0m\n\u001b[1;33m    for i/2 in range(len(han)) :\u001b[0m\n\u001b[1;37m        ^\u001b[0m\n\u001b[1;31mSyntaxError\u001b[0m\u001b[1;31m:\u001b[0m cannot assign to expression\n"
     ]
    }
   ],
   "source": [
    "# 18. 리스트에는 네 개의 문자열이 바인딩돼 있습니다.\n",
    "han = [\"가\", \"나\", \"다\", \"라\"]\n",
    "# 다음과 같이 출력하시오.\n",
    "\n",
    "# 나\n",
    "# 다\n",
    "# 라\n",
    "\n",
    "# for i in range(len(han)-1) : \n",
    "#     print(han[i+1])\n",
    "\n",
    "# 19. han list를 이용해서 다음과 같은 결과가 나오도록 하시오.\n",
    "\n",
    "# 가\n",
    "# 다\n",
    "\n",
    "for i in range(len(han)): \n",
    "    print(han[i])\n",
    "\n",
    "\n",
    "# 20. han list를 이용해서 다음과 같은 결과가 나오도록 하시오.\n",
    "\n",
    "# 라\n",
    "# 다\n",
    "# 나\n",
    "# 가\n",
    "\n",
    "\n",
    "# for i in range(len(han)) : \n",
    "#     print(han[-(i+1)])"
   ]
  },
  {
   "cell_type": "code",
   "execution_count": null,
   "id": "68559348",
   "metadata": {},
   "outputs": [],
   "source": []
  },
  {
   "cell_type": "code",
   "execution_count": null,
   "id": "fe47452c",
   "metadata": {},
   "outputs": [],
   "source": []
  },
  {
   "cell_type": "code",
   "execution_count": 96,
   "id": "ff1f19ca",
   "metadata": {},
   "outputs": [
    {
     "name": "stdout",
     "output_type": "stream",
     "text": [
      "봅\n",
      "오답입니다.\n",
      "오답입니다.\n",
      "오답입니다.\n",
      "55\n",
      "A\n"
     ]
    }
   ],
   "source": [
    "# 21. str1 = [\"I\", \"study\", \"python\", \"language\", \"!\"] 에서 세 글자 이상의 문자를 화면에 출력하시오\n",
    "\n",
    "\n",
    "\n",
    "# 22, file = ['intra.h', 'intra.c', 'define.h', 'run.py']에서 확장자가 .h인 파일 이름을 출력하시오.\n",
    "\n",
    "\n",
    "\n",
    "# 23. file = ['intra.h', 'intra.c', 'define.h', 'run.py']에서 확장자가 .h나 .c인 파일을 화면에 출력하시오.\n",
    "\n",
    "\n",
    "\n",
    "# 24. for문과 range 구문을 사용해서 0~99까지 한 라인에 하나씩 순차적으로 출력하는 프로그램을 작성하시오.\n",
    "\n",
    "\n",
    "\n",
    "# 25. 월드컵은 4년에 한 번 개최됩니다. \n",
    "#     range()를 사용하여 2002~2050년까지 중 월드컵이 개최되는 연도를 출력하시오.\n",
    "\n",
    "\n",
    "\n",
    "# 26. 리스트에 저장된 데이터를 아래와 같이 출력하시오.\n",
    "\n",
    "# apart = [ [101, 102], [201, 202], [301, 302] ]\n",
    "# 101 호\n",
    "# 102 호\n",
    "# 201 호\n",
    "# 202 호\n",
    "# 301 호\n",
    "# 302 호\n",
    "\n",
    "\n",
    "\n",
    "# 27. 리스트에 저장된 데이터를 아래와 같이 출력하시오.\n",
    "\n",
    "# apart = [ [101, 102], [201, 202], [301, 302] ]\n",
    "# 301 호\n",
    "# 302 호\n",
    "# 201 호\n",
    "# 202 호\n",
    "# 101 호\n",
    "# 102 호\n",
    "\n",
    "\n",
    "\n",
    "# 28. 리스트에 저장된 데이터를 아래와 같이 출력하시오.\n",
    "\n",
    "# apart = [ [101, 102], [201, 202], [301, 302] ]\n",
    "# 302 호\n",
    "# 301 호\n",
    "# 202 호\n",
    "# 201 호\n",
    "# 102 호\n",
    "# 101 호\n",
    "\n",
    "\n",
    "\n",
    "# 29. 리스트에 저장된 데이터를 아래와 같이 출력하시오.\n",
    "\n",
    "# apart = [ [101, 102], [201, 202], [301, 302] ]\n",
    "# 101 호\n",
    "# -----\n",
    "# 102 호\n",
    "# -----\n",
    "# 201 호\n",
    "# -----\n",
    "# 202 호\n",
    "# -----\n",
    "# 301 호\n",
    "# -----\n",
    "# 302 호\n",
    "# -----\n",
    "\n",
    "\n",
    "\n",
    "\n",
    "# 30. 리스트에 저장된 데이터를 아래와 같이 출력하시오.\n",
    "\n",
    "# apart = [ [101, 102], [201, 202], [301, 302] ]\n",
    "# 101 호\n",
    "# 102 호\n",
    "# -----\n",
    "# 201 호\n",
    "# 202 호\n",
    "# -----\n",
    "# 301 호\n",
    "# 302 호\n",
    "# -----\n",
    "\n",
    "\n",
    "\n",
    "\n",
    "# 31. 리스트에 저장된 데이터를 아래와 같이 출력하시오.\n",
    "\n",
    "# apart = [ [101, 102], [201, 202], [301, 302] ]\n",
    "# 101 호\n",
    "# 102 호\n",
    "# 201 호\n",
    "# 202 호\n",
    "# 301 호\n",
    "# 302 호\n",
    "# -----\n",
    "\n",
    "\n",
    "\n",
    "\n",
    "\n",
    "# 32. 1~100 까지의 숫자 중에서 짝수만 더한 수를 출력하시오.\n",
    "\n",
    "\n",
    "\n",
    "# 33. input() 함수를 통해서 4를 입력했을 때만 while 문이 정지되도록 하시오.\n",
    "\n",
    "\n",
    "\n",
    "\n",
    "# 34. while을 이용해서 구구단을 출력해보시오.\n",
    "\n",
    "\n",
    "\n",
    "# 35. while을 이용해서 짝수에 대한 구구단을 출력해보시오.\n",
    "\n",
    "\n",
    "\n",
    "\n",
    "# 36. input() 함수를 통해서 짝수를 입력했을 경우에는 해당 숫자에 대한 구구단을 출력하고 홀수를 입력했을 경우에는 다시 입력창이 뜨도록 하시오. \n",
    "#    단 1자리 숫자에 대해서만 해당 프로그램을 진행하고 2자리 이상을 입력했을 경우에는 프로그램이 종료되도록 하시오.\n"
   ]
  },
  {
   "cell_type": "code",
   "execution_count": null,
   "id": "d1a233bc",
   "metadata": {},
   "outputs": [],
   "source": [
    "# 가위 바위 보\n",
    "\n",
    "srp1=['가위','바위','바위','바위','보','가위','가위','보','가위','보']\n",
    "\n",
    "# input()으로 입력할때 마다 srp1의 구성요소 하나씩 차례대로 비교해서 10번 진행하고 승패에 대해서 결과를 출력하겠끔 작성하시오.\n",
    "\n",
    "# X승 X패 X비김 (잘못냈을 경우도 패로 인정)\n",
    "\n",
    "# (hint: for srp  in  srp1:)\n",
    "\n",
    "w = 0\n",
    "l = 0\n",
    "d = 0\n",
    "\n",
    "for srp in srp1:\n",
    "    user = input(\"가위,바위,보 : \")\n",
    "    if user not in ['가위', '바위', '보']:\n",
    "        print(\"잘못 냈습니다\")\n",
    "        l = l +1\n",
    "    elif user == srp :\n",
    "        print(\"비겼습니다\")\n",
    "        d = d +1\n",
    "    elif user =='가위':\n",
    "        if srp == '보':\n",
    "            print(\"이겼습니다\")\n",
    "            w = w+1\n",
    "        else:\n",
    "            print(\"졌습니다\")\n",
    "            l = l+1\n",
    "    elif user =='바위':\n",
    "        if srp == '가위':\n",
    "            print(\"이겼습니다\")\n",
    "            w = w+1\n",
    "        else:\n",
    "            print(\"졌습니다\")\n",
    "            l = l+1\n",
    "    elif user =='보':\n",
    "        if srp == '바위':\n",
    "            print(\"이겼습니다\")\n",
    "            w = w+1\n",
    "        else:\n",
    "            print(\"졌습니다\")\n",
    "            l = l+1\n",
    "            \n",
    "print (\" {}승 {}패 {}비김\".format(w,l,d))"
   ]
  },
  {
   "cell_type": "code",
   "execution_count": 1,
   "id": "5e987c94",
   "metadata": {},
   "outputs": [],
   "source": [
    "# 통장에서 10,000원이 들어있다. \n",
    "\n",
    "# input()를 통해서 입력을 '출금'과 '입금'을 입력받고 금액부분을 입력받도록 하시오.\n",
    "\n",
    "# 출금을 하면 \"XXX원이 출금되었습니다. 현재 잔고는 XXX입니다.\" 출력\n",
    "\n",
    "# 예금을 하면 \"XXX원이 입금되었습니다. 현재 잔고는 XXX입니다.\" 출력\n",
    "\n",
    "# 출금시에 잔고가 부족하면 \"현재 잔고 부족입니다. XXX가 부족합니다.\" 라고 출력\n",
    "\n",
    "# 통장잔고가 0원이 되면 \"통장을 파기합니다\" 출력\n",
    "\n",
    "\n",
    "atm = 10000\n",
    "\n",
    "while True:\n",
    "\tcmd = input(\"입금, 출금을 선택해주세요 : \")\n",
    "\tif cmd not in [\"입금\",\"출금\"]:\n",
    "\t\tprint(\"잘못 입력하셨습니다.\")\n",
    "\telif cmd == \"입금\":\n",
    "\t\tinmoney = int(input(\"입금 금액 : \"))\n",
    "\t\tatm=atm+inmoney\n",
    "\t\tprint(\"{}가 입금되었습니다. 현재 잔고는 {}입니다.\".format(inmoney,atm))\n",
    "\telse:\n",
    "\t\toutmoney=int(input(\"출금 금액 : \"))\n",
    "\t\tif atm >= outmoney:\n",
    "\t\t\tatm=atm-outmoney\n",
    "\t\t\tprint(\"{}가 출금되었습니다. 현재 잔고는 {}입니다.\".format(outmoney,atm))\n",
    "\t\telse:\n",
    "\t\t\tprint(\"{}을 요청하셨지만 잔액이 {} 부족합니다. 현재 잔고는 {}입니다.\".format(outmoney,outmoney-atm,atm))\n",
    "\n",
    "\tif atm == 0:\n",
    "\t\tprint(\"현재 잔고가 {} 입니다. 통장을 파기 합니다\".format(atm))\n",
    "\t\tbreak\n"
   ]
  },
  {
   "cell_type": "code",
   "execution_count": null,
   "id": "4d06ac39",
   "metadata": {},
   "outputs": [],
   "source": []
  }
 ],
 "metadata": {
  "kernelspec": {
   "display_name": "Python 3 (ipykernel)",
   "language": "python",
   "name": "python3"
  },
  "language_info": {
   "codemirror_mode": {
    "name": "ipython",
    "version": 3
   },
   "file_extension": ".py",
   "mimetype": "text/x-python",
   "name": "python",
   "nbconvert_exporter": "python",
   "pygments_lexer": "ipython3",
   "version": "3.11.3"
  }
 },
 "nbformat": 4,
 "nbformat_minor": 5
}
