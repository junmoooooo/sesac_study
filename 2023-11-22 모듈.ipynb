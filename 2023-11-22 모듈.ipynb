{
 "cells": [
  {
   "cell_type": "code",
   "execution_count": null,
   "id": "34d73603",
   "metadata": {},
   "outputs": [],
   "source": [
    "import mod1"
   ]
  },
  {
   "cell_type": "code",
   "execution_count": null,
   "id": "cf854d93",
   "metadata": {},
   "outputs": [],
   "source": [
    "mod1.add(3,4)"
   ]
  },
  {
   "cell_type": "code",
   "execution_count": null,
   "id": "75c5db97",
   "metadata": {},
   "outputs": [],
   "source": [
    "from mod1 import add"
   ]
  },
  {
   "cell_type": "code",
   "execution_count": null,
   "id": "6e275549",
   "metadata": {},
   "outputs": [],
   "source": [
    "add(10.20)"
   ]
  },
  {
   "cell_type": "code",
   "execution_count": null,
   "id": "e8d61aa6",
   "metadata": {},
   "outputs": [],
   "source": [
    "import mod1 as m1"
   ]
  },
  {
   "cell_type": "code",
   "execution_count": null,
   "id": "0d0b23e9",
   "metadata": {},
   "outputs": [],
   "source": [
    "m1.add(3,10)"
   ]
  },
  {
   "cell_type": "code",
   "execution_count": null,
   "id": "39ca26f6",
   "metadata": {},
   "outputs": [],
   "source": [
    "#import 모듈명\n",
    "# from 모듈명 import 변수,함수,클래스\n",
    "# import 모듈명 as 치환명"
   ]
  },
  {
   "cell_type": "code",
   "execution_count": null,
   "id": "eba90933",
   "metadata": {},
   "outputs": [],
   "source": [
    "import mod1"
   ]
  },
  {
   "cell_type": "code",
   "execution_count": 1,
   "id": "94b494fe",
   "metadata": {},
   "outputs": [],
   "source": [
    "import mod1"
   ]
  },
  {
   "cell_type": "code",
   "execution_count": 2,
   "id": "343f92dd",
   "metadata": {},
   "outputs": [
    {
     "data": {
      "text/plain": [
       "['C:\\\\Users\\\\SBA\\\\Documents\\\\p_study',\n",
       " 'C:\\\\Users\\\\SBA\\\\anaconda3\\\\python311.zip',\n",
       " 'C:\\\\Users\\\\SBA\\\\anaconda3\\\\DLLs',\n",
       " 'C:\\\\Users\\\\SBA\\\\anaconda3\\\\Lib',\n",
       " 'C:\\\\Users\\\\SBA\\\\anaconda3',\n",
       " '',\n",
       " 'C:\\\\Users\\\\SBA\\\\anaconda3\\\\Lib\\\\site-packages',\n",
       " 'C:\\\\Users\\\\SBA\\\\anaconda3\\\\Lib\\\\site-packages\\\\win32',\n",
       " 'C:\\\\Users\\\\SBA\\\\anaconda3\\\\Lib\\\\site-packages\\\\win32\\\\lib',\n",
       " 'C:\\\\Users\\\\SBA\\\\anaconda3\\\\Lib\\\\site-packages\\\\Pythonwin']"
      ]
     },
     "execution_count": 2,
     "metadata": {},
     "output_type": "execute_result"
    }
   ],
   "source": [
    "import sys\n",
    "sys.path"
   ]
  },
  {
   "cell_type": "code",
   "execution_count": 6,
   "id": "7bd6a337",
   "metadata": {},
   "outputs": [],
   "source": [
    "sys.path.append(\"C:\\\\Users\\\\SBA\\\\doit\")\n",
    "C:\\Users\\SBA\\doit"
   ]
  },
  {
   "cell_type": "code",
   "execution_count": 7,
   "id": "df8a5a97",
   "metadata": {},
   "outputs": [
    {
     "data": {
      "text/plain": [
       "['C:\\\\Users\\\\SBA\\\\Documents\\\\p_study',\n",
       " 'C:\\\\Users\\\\SBA\\\\anaconda3\\\\python311.zip',\n",
       " 'C:\\\\Users\\\\SBA\\\\anaconda3\\\\DLLs',\n",
       " 'C:\\\\Users\\\\SBA\\\\anaconda3\\\\Lib',\n",
       " 'C:\\\\Users\\\\SBA\\\\anaconda3',\n",
       " '',\n",
       " 'C:\\\\Users\\\\SBA\\\\anaconda3\\\\Lib\\\\site-packages',\n",
       " 'C:\\\\Users\\\\SBA\\\\anaconda3\\\\Lib\\\\site-packages\\\\win32',\n",
       " 'C:\\\\Users\\\\SBA\\\\anaconda3\\\\Lib\\\\site-packages\\\\win32\\\\lib',\n",
       " 'C:\\\\Users\\\\SBA\\\\anaconda3\\\\Lib\\\\site-packages\\\\Pythonwin',\n",
       " 'C:\\\\User\\\\SBA\\\\doit',\n",
       " 'C:\\\\Users\\\\SBA\\\\doit']"
      ]
     },
     "execution_count": 7,
     "metadata": {},
     "output_type": "execute_result"
    }
   ],
   "source": [
    "sys.path"
   ]
  },
  {
   "cell_type": "code",
   "execution_count": 8,
   "id": "51714e58",
   "metadata": {},
   "outputs": [],
   "source": [
    "import mod1"
   ]
  },
  {
   "cell_type": "code",
   "execution_count": 1,
   "id": "10f0bfe5",
   "metadata": {},
   "outputs": [
    {
     "data": {
      "text/plain": [
       "['C:\\\\Users\\\\SBA\\\\Documents\\\\p_study',\n",
       " 'C:\\\\Users\\\\SBA\\\\anaconda3\\\\python311.zip',\n",
       " 'C:\\\\Users\\\\SBA\\\\anaconda3\\\\DLLs',\n",
       " 'C:\\\\Users\\\\SBA\\\\anaconda3\\\\Lib',\n",
       " 'C:\\\\Users\\\\SBA\\\\anaconda3',\n",
       " '',\n",
       " 'C:\\\\Users\\\\SBA\\\\anaconda3\\\\Lib\\\\site-packages',\n",
       " 'C:\\\\Users\\\\SBA\\\\anaconda3\\\\Lib\\\\site-packages\\\\win32',\n",
       " 'C:\\\\Users\\\\SBA\\\\anaconda3\\\\Lib\\\\site-packages\\\\win32\\\\lib',\n",
       " 'C:\\\\Users\\\\SBA\\\\anaconda3\\\\Lib\\\\site-packages\\\\Pythonwin',\n",
       " 'C:\\\\Users\\\\SBA\\\\doit']"
      ]
     },
     "execution_count": 1,
     "metadata": {},
     "output_type": "execute_result"
    }
   ],
   "source": [
    "import sys\n",
    "sys.path\n",
    "sys.path.append(\"C:\\\\Users\\\\SBA\\\\doit\")\n",
    "sys.path"
   ]
  },
  {
   "cell_type": "code",
   "execution_count": 10,
   "id": "449dfb35",
   "metadata": {},
   "outputs": [
    {
     "ename": "ModuleNotFoundError",
     "evalue": "No module named 'Game.graphic.render.render_f'; 'Game.graphic.render' is not a package",
     "output_type": "error",
     "traceback": [
      "\u001b[1;31m---------------------------------------------------------------------------\u001b[0m",
      "\u001b[1;31mModuleNotFoundError\u001b[0m                       Traceback (most recent call last)",
      "Cell \u001b[1;32mIn[10], line 1\u001b[0m\n\u001b[1;32m----> 1\u001b[0m \u001b[38;5;28;01mimport\u001b[39;00m \u001b[38;5;21;01mGame\u001b[39;00m\u001b[38;5;21;01m.\u001b[39;00m\u001b[38;5;21;01mgraphic\u001b[39;00m\u001b[38;5;21;01m.\u001b[39;00m\u001b[38;5;21;01mrender\u001b[39;00m\u001b[38;5;21;01m.\u001b[39;00m\u001b[38;5;21;01mrender_f\u001b[39;00m\n\u001b[0;32m      2\u001b[0m render_f()\n",
      "\u001b[1;31mModuleNotFoundError\u001b[0m: No module named 'Game.graphic.render.render_f'; 'Game.graphic.render' is not a package"
     ]
    }
   ],
   "source": [
    "import Game.graphic.render.render_f\n"
   ]
  },
  {
   "cell_type": "code",
   "execution_count": 6,
   "id": "a4925ab3",
   "metadata": {},
   "outputs": [
    {
     "name": "stdout",
     "output_type": "stream",
     "text": [
      "action test\n"
     ]
    }
   ],
   "source": [
    "from Game.play import action\n",
    "action.action_f()"
   ]
  },
  {
   "cell_type": "code",
   "execution_count": 7,
   "id": "90ce194a",
   "metadata": {},
   "outputs": [
    {
     "name": "stdout",
     "output_type": "stream",
     "text": [
      "echo test\n"
     ]
    }
   ],
   "source": [
    "from Game.sound.echo import echo_f\n",
    "echo_f()"
   ]
  },
  {
   "cell_type": "code",
   "execution_count": null,
   "id": "72021e88",
   "metadata": {},
   "outputs": [],
   "source": [
    "import game.graphic.render as ggr\n",
    "ggr.render_f()"
   ]
  }
 ],
 "metadata": {
  "kernelspec": {
   "display_name": "Python 3 (ipykernel)",
   "language": "python",
   "name": "python3"
  },
  "language_info": {
   "codemirror_mode": {
    "name": "ipython",
    "version": 3
   },
   "file_extension": ".py",
   "mimetype": "text/x-python",
   "name": "python",
   "nbconvert_exporter": "python",
   "pygments_lexer": "ipython3",
   "version": "3.11.3"
  }
 },
 "nbformat": 4,
 "nbformat_minor": 5
}
