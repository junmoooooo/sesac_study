{
 "cells": [
  {
   "cell_type": "code",
   "execution_count": 1,
   "id": "9b0c9ec7",
   "metadata": {},
   "outputs": [],
   "source": [
    "import sys\n",
    "sys.path.append(\"C:\\\\Users\\\\SBA\\\\doit\")"
   ]
  },
  {
   "cell_type": "code",
   "execution_count": 2,
   "id": "005b28d4",
   "metadata": {},
   "outputs": [
    {
     "data": {
      "text/plain": [
       "['C:\\\\Users\\\\SBA\\\\Documents\\\\p_study',\n",
       " 'C:\\\\Users\\\\SBA\\\\anaconda3\\\\python311.zip',\n",
       " 'C:\\\\Users\\\\SBA\\\\anaconda3\\\\DLLs',\n",
       " 'C:\\\\Users\\\\SBA\\\\anaconda3\\\\Lib',\n",
       " 'C:\\\\Users\\\\SBA\\\\anaconda3',\n",
       " '',\n",
       " 'C:\\\\Users\\\\SBA\\\\anaconda3\\\\Lib\\\\site-packages',\n",
       " 'C:\\\\Users\\\\SBA\\\\anaconda3\\\\Lib\\\\site-packages\\\\win32',\n",
       " 'C:\\\\Users\\\\SBA\\\\anaconda3\\\\Lib\\\\site-packages\\\\win32\\\\lib',\n",
       " 'C:\\\\Users\\\\SBA\\\\anaconda3\\\\Lib\\\\site-packages\\\\Pythonwin',\n",
       " 'C:\\\\Users\\\\SBA\\\\doit']"
      ]
     },
     "execution_count": 2,
     "metadata": {},
     "output_type": "execute_result"
    }
   ],
   "source": [
    "sys.path"
   ]
  },
  {
   "cell_type": "code",
   "execution_count": 3,
   "id": "a3c8b9d9",
   "metadata": {},
   "outputs": [],
   "source": [
    "# import game.graphic,render\n",
    "# from game.graphic import render\n",
    "#from game.graphio,renfer import renfer_f\n",
    "# import game.grphic.render as ggr\n",
    "\n",
    "import Game.graphic.render as ggr"
   ]
  },
  {
   "cell_type": "code",
   "execution_count": 4,
   "id": "a94fe30b",
   "metadata": {},
   "outputs": [
    {
     "name": "stdout",
     "output_type": "stream",
     "text": [
      "render test\n",
      "action test\n",
      "echo test\n"
     ]
    }
   ],
   "source": [
    "ggr.render_f()"
   ]
  },
  {
   "cell_type": "code",
   "execution_count": 2,
   "id": "ff934017",
   "metadata": {},
   "outputs": [
    {
     "name": "stdout",
     "output_type": "stream",
     "text": [
      "num5 : 5\n"
     ]
    },
    {
     "data": {
      "text/plain": [
       "9"
      ]
     },
     "execution_count": 2,
     "metadata": {},
     "output_type": "execute_result"
    }
   ],
   "source": [
    "# 모듈 실습\n",
    "\n",
    "# doit 폴더에  아래 내용을 fourcal.py 라는 이름으로 모듈을 생성하시오.\n",
    "\n",
    "\n",
    "\n",
    "# fourcal.py 를 모듈로 등록\n",
    "\n",
    "# 1. 모듈만 등록\n",
    "\n",
    "import sys\n",
    "sys.path.append(\"C:\\\\Users\\\\SBA\\\\doit\")\n",
    "\n",
    "# 2. 모듈명을 기입하지 않고 모듈에 존재하는 모든 요소를 사용할 수 있도록 등록\n",
    "import fourcal \n",
    "\n",
    "\n",
    "# 3. fourcal.py에 존재하는 변수를 가지고 사칙연산에 대한 결과를 출력하시오.(반드시 결과가 나와야 합니다.)\n",
    "\n",
    "\n",
    "\n",
    "\n",
    "fourcal.num_input(5)\n",
    "\n",
    "fourcal.add(4,5)\n",
    "add(4,5)\n",
    "\n",
    "\n",
    "# 4. 모듈 실행시 나오는 출력값이 나오지 않도록 설정하시오.\n",
    "\n",
    "\n",
    "#ㅇㅇ\n",
    "\n",
    "# 5. fourcal 모듈을 이용해서 계산기 코딩해보시오.\n",
    "\n",
    "menu =\"\"\"\n",
    "메뉴\n",
    "1. add\n",
    "2. sub\n",
    "3. mul\n",
    "4. div\n",
    "5. quit\n",
    "\"\"\"\n",
    "\n",
    "num1 = input(\"num1 : \")\n",
    "num2 = input(\"num2 : \")\n",
    "choice = input(menu)\n",
    "while 1 :\n",
    "    if choice not in \"12345\":\n",
    "        print(\"다시누르셈\")\n",
    "    else :\n",
    "        if choice == 5:\n",
    "            print(\"ok bye\")\n",
    "            break\n",
    "            \n",
    "        else :\n",
    "            if choice == 1 :\n",
    "                fourcal.add(num1,num2)\n",
    "            if choice == 2 :\n",
    "                fourcal.sub(num1,num2)\n",
    "            if choice == 3 :\n",
    "                fourcal.mul(num1,num2)\n",
    "            if choice == 4 :\n",
    "                fourcal.div(num1,num2)\n",
    "            \n",
    "# 예) 1번 선택\n",
    "# num1:\n",
    "# num2:\n",
    "# result: 결과값\n",
    "\n",
    "\n",
    "\n",
    "# -------------------------------------\n",
    "\n",
    "# doit 폴더 안에\n",
    "\n",
    "# A/AA/AAA\n",
    "\n",
    "# 폴더 생성\n",
    "\n",
    "# A폴더 안에 \n",
    "\n",
    "# #B.py\n",
    "\n",
    "# a=\"B.py의 a변수\"\n",
    "# b=\"B.py의 b변수\"\n",
    "\n",
    "\n",
    "# AA폴더 안에\n",
    "\n",
    "# #BB.py\n",
    "\n",
    "# def bb_print(a,b):\n",
    "# \tprint(a)\n",
    "# \tprint(b)\n",
    "\n",
    "# AAA폴더 안에\n",
    "\n",
    "# #BBB.py\n",
    "\n",
    "# print(bb_print(a,b))\n",
    "\n",
    "\n",
    "# BBB.py 실행결과가 다음과 같이 나오도록 설정하시오.\n",
    "\n",
    "# =>\"B.py의 a변수\"\n",
    "#   \"B.py의 b변수\""
   ]
  },
  {
   "cell_type": "code",
   "execution_count": null,
   "id": "a2da553f",
   "metadata": {},
   "outputs": [],
   "source": []
  }
 ],
 "metadata": {
  "kernelspec": {
   "display_name": "Python 3 (ipykernel)",
   "language": "python",
   "name": "python3"
  },
  "language_info": {
   "codemirror_mode": {
    "name": "ipython",
    "version": 3
   },
   "file_extension": ".py",
   "mimetype": "text/x-python",
   "name": "python",
   "nbconvert_exporter": "python",
   "pygments_lexer": "ipython3",
   "version": "3.11.3"
  }
 },
 "nbformat": 4,
 "nbformat_minor": 5
}
