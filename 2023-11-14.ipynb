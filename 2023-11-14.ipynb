{
 "cells": [
  {
   "cell_type": "code",
   "execution_count": 1,
   "id": "9589af82",
   "metadata": {},
   "outputs": [
    {
     "data": {
      "text/plain": [
       "140707772142408"
      ]
     },
     "execution_count": 1,
     "metadata": {},
     "output_type": "execute_result"
    }
   ],
   "source": [
    "a=2\n",
    "id(a)"
   ]
  },
  {
   "cell_type": "code",
   "execution_count": 2,
   "id": "5a91f1bd",
   "metadata": {},
   "outputs": [
    {
     "data": {
      "text/plain": [
       "3"
      ]
     },
     "execution_count": 2,
     "metadata": {},
     "output_type": "execute_result"
    }
   ],
   "source": [
    "a= a+1\n",
    "a"
   ]
  },
  {
   "cell_type": "code",
   "execution_count": 3,
   "id": "033a240a",
   "metadata": {},
   "outputs": [
    {
     "data": {
      "text/plain": [
       "140707772142376"
      ]
     },
     "execution_count": 3,
     "metadata": {},
     "output_type": "execute_result"
    }
   ],
   "source": [
    "id(1)"
   ]
  },
  {
   "cell_type": "code",
   "execution_count": 4,
   "id": "5f589088",
   "metadata": {},
   "outputs": [
    {
     "data": {
      "text/plain": [
       "140707772142376"
      ]
     },
     "execution_count": 4,
     "metadata": {},
     "output_type": "execute_result"
    }
   ],
   "source": [
    "id(1)"
   ]
  },
  {
   "cell_type": "code",
   "execution_count": 5,
   "id": "168a6877",
   "metadata": {},
   "outputs": [],
   "source": [
    "del(a)"
   ]
  },
  {
   "cell_type": "code",
   "execution_count": 6,
   "id": "aa860c9c",
   "metadata": {},
   "outputs": [
    {
     "name": "stdout",
     "output_type": "stream",
     "text": [
      "7\n"
     ]
    }
   ],
   "source": [
    "def test2(x,y):\n",
    "    print(x+y)\n",
    "    \n",
    "test2(3,4)"
   ]
  },
  {
   "cell_type": "code",
   "execution_count": 28,
   "id": "5efcdeee",
   "metadata": {},
   "outputs": [
    {
     "name": "stdout",
     "output_type": "stream",
     "text": [
      "\n",
      "    나의 이름은 전준모 입니다\n",
      "    나의 나이는  31 이며 30 대입니다\n",
      "    나의 생일은 930511 입니다\n",
      "    \n"
     ]
    }
   ],
   "source": [
    "name = \"전준모\"\n",
    "age = \"31\"\n",
    "birth = \"930511\"\n",
    "\n",
    "\n",
    "\n",
    "def wkrlthro(name, age, birth):\n",
    "    print('''\n",
    "    나의 이름은 {} 입니다\n",
    "    나의 나이는  {} 이며 {} 대입니다\n",
    "    나의 생일은 {} 입니다\n",
    "    '''.format(name,age,(int)(age)//10*10,birth))\n",
    "\n",
    "wkrlthro(\"전준모\", \"31\", \"930511\")\n",
    "\n"
   ]
  },
  {
   "cell_type": "code",
   "execution_count": null,
   "id": "a5906196",
   "metadata": {},
   "outputs": [],
   "source": [
    "week=['월','화','수','목','금','토','일']\n",
    "\n",
    "print (\"솔로몬 그런디는\")\n",
    "for i in week:\n",
    "    if i == '월':\n",
    "        print(\"월요일에 태어나서\")\n",
    "    if i == '화':\n",
    "        print(\"화요일에 태어나서\")\n",
    "    if i == '수':\n",
    "        print(\"수요일에 태어나서\")\n",
    "    if i == '목':\n",
    "        print(\"목요일에 태어나서\")\n",
    "    if i == '금':\n",
    "        print(\"금요일에 태어나서\")\n",
    "    if i == '토':\n",
    "        print(\"토요일에 태어나서\")\n",
    "    if i == '일':\n",
    "        print(\"일요일에 태어나서\")\n",
    "print (\"솔로몬 그런디는 그렇게 살다 갔네\")"
   ]
  },
  {
   "cell_type": "code",
   "execution_count": 38,
   "id": "6ad10a1b",
   "metadata": {},
   "outputs": [
    {
     "name": "stdout",
     "output_type": "stream",
     "text": [
      "1 Victory\n",
      "2 Victory\n",
      "3 Victory\n",
      "4 Victory\n",
      "5 Victory\n",
      "6 Victory\n",
      "7 Victory\n",
      "8 Victory\n",
      "9 Victory\n",
      "10 Victory\n",
      "11 Victory\n",
      "12 Victory\n",
      "13 Victory\n",
      "14 Victory\n",
      "15 Victory\n",
      "16 Victory\n",
      "17 Victory\n",
      "18 Victory\n",
      "19 Victory\n",
      "20 Victory\n",
      "21 Victory\n",
      "22 Victory\n",
      "23 Victory\n",
      "24 Victory\n",
      "25 Victory\n",
      "26 Victory\n",
      "27 Victory\n",
      "28 Victory\n",
      "29 Victory\n",
      "30 Victory\n",
      "31 Victory\n",
      "32 Victory\n",
      "33 Victory\n",
      "34 Victory\n",
      "35 Victory\n",
      "36 Victory\n",
      "37 Victory\n",
      "38 Victory\n",
      "39 Victory\n",
      "40 Victory\n",
      "41 Victory\n",
      "42 Victory\n",
      "43 Victory\n",
      "44 Victory\n",
      "45 Victory\n",
      "46 Victory\n",
      "47 Victory\n",
      "48 Victory\n",
      "49 Victory\n",
      "50 Victory\n"
     ]
    }
   ],
   "source": [
    "# for  i in range(0, 51):\n",
    "#     print(\"Victory\")\n",
    "    \n",
    "j=0    \n",
    "while j < 50 :\n",
    "    j = j+1\n",
    "    print (j, \"Victory\")"
   ]
  },
  {
   "cell_type": "code",
   "execution_count": 35,
   "id": "51541dd1",
   "metadata": {},
   "outputs": [
    {
     "name": "stdout",
     "output_type": "stream",
     "text": [
      "0번째 숫자를 입력하시오 : 546\n",
      "1번째 숫자를 입력하시오 : 456\n",
      "2번째 숫자를 입력하시오 : 43214\n",
      "3번째 숫자를 입력하시오 : 1456\n",
      "4번째 숫자를 입력하시오 : 21\n",
      "45693\n"
     ]
    }
   ],
   "source": [
    "#아무 숫자나 입력을 5번 받아서 모두 더한 다음에 평균을 구하시오.\n",
    "sum = 0\n",
    "imsi = 0\n",
    "for i in range(5):\n",
    "    imsi = (int)(input(\"{}번째 숫자를 입력하시오 : \".format(i)))\n",
    "    sum =sum + imsi\n",
    "print(sum/5)"
   ]
  },
  {
   "cell_type": "code",
   "execution_count": 47,
   "id": "dfa418f8",
   "metadata": {},
   "outputs": [
    {
     "name": "stdout",
     "output_type": "stream",
     "text": [
      "0번째 숫자를 입력하시오 : 12\n",
      "1번째 숫자를 입력하시오 : 12\n",
      "2번째 숫자를 입력하시오 : 12\n",
      "3번째 숫자를 입력하시오 : 12\n",
      "4번째 숫자를 입력하시오 : 12\n",
      "12.0\n"
     ]
    }
   ],
   "source": [
    "def agv ():\n",
    "    sum = 0\n",
    "    imsi = 0\n",
    "    for i in range(5):\n",
    "        imsi = (int)(input(\"{}번째 숫자를 입력하시오 : \".format(i)))\n",
    "        sum =sum + imsi\n",
    "    print(sum/5)\n",
    "agv()"
   ]
  },
  {
   "cell_type": "code",
   "execution_count": 18,
   "id": "121632ed",
   "metadata": {},
   "outputs": [
    {
     "data": {
      "text/plain": [
       "1152921504606846976000000000000000000000000000000"
      ]
     },
     "execution_count": 18,
     "metadata": {},
     "output_type": "execute_result"
    }
   ],
   "source": [
    "num1 = 40\n",
    "\n",
    "num2 = 30\n",
    "\n",
    "a = num1 + num2 \n",
    "b = num1 - num2\n",
    "c = num1 * num2\n",
    "d = num1 / num2\n",
    "\n",
    "e = num1 % num2\n",
    "f =num1 // num2\n",
    "g =num1 ** num2\n",
    "\n"
   ]
  },
  {
   "cell_type": "code",
   "execution_count": 40,
   "id": "8958f9a8",
   "metadata": {},
   "outputs": [],
   "source": [
    "string1 = \"My life\"\n",
    "\n",
    "string2 =  \" is mine.\" \n",
    "\n",
    "string3 = string1 + string2\n",
    "string3[0:7]\n",
    "string4 = string3[-5:-1]\n"
   ]
  },
  {
   "cell_type": "code",
   "execution_count": 46,
   "id": "19593ca0",
   "metadata": {},
   "outputs": [
    {
     "data": {
      "text/plain": [
       "'yours'"
      ]
     },
     "execution_count": 46,
     "metadata": {},
     "output_type": "execute_result"
    }
   ],
   "source": [
    "str1 = \"Your life is yours\"\n",
    "\n",
    "str1[0:12]\n",
    "(str1[0:4]+str1[-1]).lower()"
   ]
  },
  {
   "cell_type": "code",
   "execution_count": null,
   "id": "8166271e",
   "metadata": {},
   "outputs": [],
   "source": [
    "'''\"나는 아침마다 1잔의 우유를 마시고 네이버뉴스를 봅니다.\" 에서 1과 네이버뉴스를 \n",
    "    포맷팅을 이용해서 작성해보시오.\n",
    "\n",
    "'hello'문자열을 총 14칸으로 설정하고 왼쪽 붙임으로 포맷팅을 이용해서 작성해보시오.\n",
    "\n",
    "'bye' 문자열을 총 10칸으로 설정하고 오른쪽 붙임으로 포맷팅을 이용해서 작성해보시오.\n",
    "\n",
    "2.5679856 라는 소수를 소수점 5자리까지만 출력되도록 포맷팅을 이용해서 작성해보시오.\n",
    "\n",
    "총 15칸으로 설정하고 소수점 3자리리까지만 출력되도록 포맷팅을 이용해서 작성해보시오.\n",
    "'''"
   ]
  },
  {
   "cell_type": "code",
   "execution_count": null,
   "id": "0f3062d6",
   "metadata": {},
   "outputs": [],
   "source": []
  },
  {
   "cell_type": "code",
   "execution_count": 48,
   "id": "90c5fd2d",
   "metadata": {},
   "outputs": [
    {
     "data": {
      "text/plain": [
       "'---신문---'"
      ]
     },
     "execution_count": 48,
     "metadata": {},
     "output_type": "execute_result"
    }
   ],
   "source": [
    "\"---%s---\"%'신문'"
   ]
  },
  {
   "cell_type": "code",
   "execution_count": 49,
   "id": "d7faee63",
   "metadata": {},
   "outputs": [
    {
     "data": {
      "text/plain": [
       "'---13---'"
      ]
     },
     "execution_count": 49,
     "metadata": {},
     "output_type": "execute_result"
    }
   ],
   "source": [
    "\"---%d---\"%13"
   ]
  },
  {
   "cell_type": "code",
   "execution_count": 53,
   "id": "ddd14cd2",
   "metadata": {},
   "outputs": [
    {
     "data": {
      "text/plain": [
       "'---바나나---100'"
      ]
     },
     "execution_count": 53,
     "metadata": {},
     "output_type": "execute_result"
    }
   ],
   "source": [
    "st1 = '바나나'\n",
    "int1 = 100\n",
    "\n",
    "\"---%s---\"%st1\n",
    "\"---%d---\"%int1\n",
    "\"---%s---%d\"%(st1,int1)"
   ]
  },
  {
   "cell_type": "code",
   "execution_count": 56,
   "id": "3933f95e",
   "metadata": {},
   "outputs": [
    {
     "name": "stdout",
     "output_type": "stream",
     "text": [
      "---       100---\n",
      "---100       ---\n"
     ]
    }
   ],
   "source": [
    "print(\"---%10d---\"%int1)\n",
    "print(\"---%-10d---\"%int1)"
   ]
  },
  {
   "cell_type": "code",
   "execution_count": 63,
   "id": "a4a88837",
   "metadata": {},
   "outputs": [
    {
     "name": "stdout",
     "output_type": "stream",
     "text": [
      "---3.141592---\n",
      "---3.142---\n",
      "---3.141592330000---\n",
      "---      3.141592330000---\n",
      "---3.141592330000---\n",
      "---      3.141592330000%---\n"
     ]
    }
   ],
   "source": [
    "print(\"---%f---\"%3.14159233)\n",
    "print(\"---%.3f---\"%3.14159233)\n",
    "print(\"---%.12f---\"%3.14159233)\n",
    "print(\"---%20.12f---\"%3.14159233)\n",
    "print(\"---%3.12f---\"%3.14159233)\n",
    "print(\"---%20.12f%%---\"%3.14159233)"
   ]
  },
  {
   "cell_type": "code",
   "execution_count": 66,
   "id": "2f11d892",
   "metadata": {},
   "outputs": [
    {
     "data": {
      "text/plain": [
       "'30 10 20'"
      ]
     },
     "execution_count": 66,
     "metadata": {},
     "output_type": "execute_result"
    }
   ],
   "source": [
    "\"{2} {0} {1}\".format(10,20,30)"
   ]
  },
  {
   "cell_type": "code",
   "execution_count": 67,
   "id": "4f649845",
   "metadata": {},
   "outputs": [],
   "source": [
    "a= \"abc\"\n",
    "srt1 = a*3"
   ]
  },
  {
   "cell_type": "code",
   "execution_count": 69,
   "id": "5d17cf3a",
   "metadata": {},
   "outputs": [
    {
     "ename": "ValueError",
     "evalue": "substring not found",
     "output_type": "error",
     "traceback": [
      "\u001b[1;31m---------------------------------------------------------------------------\u001b[0m",
      "\u001b[1;31mValueError\u001b[0m                                Traceback (most recent call last)",
      "Cell \u001b[1;32mIn[69], line 2\u001b[0m\n\u001b[0;32m      1\u001b[0m srt1\u001b[38;5;241m.\u001b[39mfind(\u001b[38;5;124m\"\u001b[39m\u001b[38;5;124mZ\u001b[39m\u001b[38;5;124m\"\u001b[39m)\n\u001b[1;32m----> 2\u001b[0m srt1\u001b[38;5;241m.\u001b[39mindex(\u001b[38;5;124m\"\u001b[39m\u001b[38;5;124mz\u001b[39m\u001b[38;5;124m\"\u001b[39m)\n",
      "\u001b[1;31mValueError\u001b[0m: substring not found"
     ]
    }
   ],
   "source": [
    "srt1.find(\"Z\")\n",
    "srt1.index(\"z\")"
   ]
  },
  {
   "cell_type": "code",
   "execution_count": 73,
   "id": "2cb06e96",
   "metadata": {},
   "outputs": [
    {
     "name": "stdout",
     "output_type": "stream",
     "text": [
      "Y\n",
      "o\n",
      "u\n",
      "r\n",
      " \n",
      "l\n",
      "i\n",
      "f\n",
      "e\n",
      " \n",
      "i\n",
      "s\n",
      " \n",
      "y\n",
      "o\n",
      "u\n",
      "r\n",
      "s\n"
     ]
    },
    {
     "data": {
      "text/plain": [
       "'a/b/c'"
      ]
     },
     "execution_count": 73,
     "metadata": {},
     "output_type": "execute_result"
    }
   ],
   "source": [
    "print('\\n'.join(str1))\n",
    "'/'.join(['a','b','c'])"
   ]
  },
  {
   "cell_type": "code",
   "execution_count": 74,
   "id": "c6ac47b4",
   "metadata": {},
   "outputs": [
    {
     "data": {
      "text/plain": [
       "'aBcDeFgH'"
      ]
     },
     "execution_count": 74,
     "metadata": {},
     "output_type": "execute_result"
    }
   ],
   "source": [
    "str2 = \"AbCdEfGh\"\n",
    "str2.upper()\n",
    "str2.lower()\n",
    "str2.swapcase()"
   ]
  },
  {
   "cell_type": "code",
   "execution_count": 77,
   "id": "a5ca9888",
   "metadata": {},
   "outputs": [
    {
     "data": {
      "text/plain": [
       "'123  def hij'"
      ]
     },
     "execution_count": 77,
     "metadata": {},
     "output_type": "execute_result"
    }
   ],
   "source": [
    "str3= '         132          '\n",
    "str3.strip()\n",
    "str4 = 'abc  def hij'\n",
    "str4.replace('abc', '123')"
   ]
  },
  {
   "cell_type": "code",
   "execution_count": 78,
   "id": "ea1f8ef3",
   "metadata": {},
   "outputs": [
    {
     "data": {
      "text/plain": [
       "['1', '2', '3', '4', '5', '6', '7']"
      ]
     },
     "execution_count": 78,
     "metadata": {},
     "output_type": "execute_result"
    }
   ],
   "source": [
    "str5 = '1,2,3,4,5,6,7'\n",
    "str5.split(',')"
   ]
  },
  {
   "cell_type": "code",
   "execution_count": null,
   "id": "6d07f954",
   "metadata": {},
   "outputs": [],
   "source": []
  },
  {
   "cell_type": "code",
   "execution_count": 83,
   "id": "469bcfe7",
   "metadata": {},
   "outputs": [
    {
     "data": {
      "text/plain": [
       "True"
      ]
     },
     "execution_count": 83,
     "metadata": {},
     "output_type": "execute_result"
    }
   ],
   "source": [
    "'1'.isdigit()"
   ]
  },
  {
   "cell_type": "code",
   "execution_count": null,
   "id": "e995bee6",
   "metadata": {},
   "outputs": [],
   "source": [
    "num1 = 40\n",
    "\n",
    "num2 = 30\n",
    "\n",
    "a = num1 + num2 \n",
    "b = num1 - num2\n",
    "c = num1 * num2\n",
    "d = num1 / num2\n",
    "\n",
    "e = num1 % num2\n",
    "f =num1 // num2\n",
    "g =num1 ** num2\n",
    "\n"
   ]
  },
  {
   "cell_type": "code",
   "execution_count": null,
   "id": "ff4130dc",
   "metadata": {},
   "outputs": [],
   "source": [
    "string1 = \"My life\"\n",
    "\n",
    "string2 =  \" is mine.\" \n",
    "\n",
    "string3 = string1 + string2\n",
    "string3[0:7]\n",
    "string4 = string3[-5:-1]"
   ]
  },
  {
   "cell_type": "code",
   "execution_count": null,
   "id": "377d6173",
   "metadata": {},
   "outputs": [],
   "source": [
    "str1 = \"Your life is yours\"\n",
    "\n",
    "str1[0:12]\n",
    "(str1[0:4]+str1[-1]).lower()"
   ]
  },
  {
   "cell_type": "code",
   "execution_count": null,
   "id": "f006c865",
   "metadata": {},
   "outputs": [],
   "source": [
    "'''\"나는 아침마다 1잔의 우유를 마시고 네이버뉴스를 봅니다.\" 에서 1과 네이버뉴스를 \n",
    "    포맷팅을 이용해서 작성해보시오.\n",
    "\n",
    "'hello'문자열을 총 14칸으로 설정하고 왼쪽 붙임으로 포맷팅을 이용해서 작성해보시오.\n",
    "\n",
    "'bye' 문자열을 총 10칸으로 설정하고 오른쪽 붙임으로 포맷팅을 이용해서 작성해보시오.\n",
    "\n",
    "2.5679856 라는 소수를 소수점 5자리까지만 출력되도록 포맷팅을 이용해서 작성해보시오.\n",
    "\n",
    "총 15칸으로 설정하고 소수점 3자리리까지만 출력되도록 포맷팅을 이용해서 작성해보시오.\n",
    "'''"
   ]
  },
  {
   "cell_type": "code",
   "execution_count": 1,
   "id": "dee3163e",
   "metadata": {},
   "outputs": [
    {
     "data": {
      "text/plain": [
       "'1네이버뉴스'"
      ]
     },
     "execution_count": 1,
     "metadata": {},
     "output_type": "execute_result"
    }
   ],
   "source": [
    "news = \"나는 아침마다 1잔의 우유를 마시고 네이버뉴스를 봅니다.\" \n",
    "\n",
    "news[8] + news[20:25]"
   ]
  },
  {
   "cell_type": "code",
   "execution_count": 4,
   "id": "95887e1f",
   "metadata": {},
   "outputs": [
    {
     "name": "stdout",
     "output_type": "stream",
     "text": [
      "나는 아침마다 1잔의 우유를 마시고 네이버뉴스를 봅니다.\n",
      "hello               \n",
      "       bye\n",
      "2.56799\n",
      "2.568          \n"
     ]
    }
   ],
   "source": [
    "print(\"나는 아침마다 %s잔의 우유를 마시고 %s를 봅니다.\" % (1,\"네이버뉴스\"))\n",
    "\n",
    "print(\"%-20s\"%\"hello\")\n",
    "\n",
    "print(\"%10s\"%\"bye\")\n",
    "\n",
    "print(\"%.5f\"%2.5679856)\n",
    "\n",
    "print(\"%-15.3f\"%2.5679856)"
   ]
  },
  {
   "cell_type": "code",
   "execution_count": null,
   "id": "cd039bee",
   "metadata": {},
   "outputs": [],
   "source": [
    "# 문자열 함수 실습\n",
    "\n",
    "# string1 = \"My life is mine.\"\n",
    "\n",
    "# string1을 소문자를 모두 대문자로 변환한 값을 string2로 만드시오.\n",
    "\n",
    "# string2을 대문자를 모두 소문자로 변환한 값을 string3로 만드시오.\n",
    "\n",
    "# string1을 소문자는 대문자로, 대문자는 소문자로 변환한 값을 string4로 만드시오.\n",
    "\n",
    "# string2에서 m의 갯수는?\n",
    "\n",
    "# string3에서 M 이 처음으로 나오는 자리는?\n",
    "\n",
    "# 12345 사이에 ; 으로 구분자를 만드시오.\n",
    "\n",
    "# string1에서 My를 Your로 변환시켜서 string4에 넣으시오.\n"
   ]
  },
  {
   "cell_type": "code",
   "execution_count": 7,
   "id": "4df25dad",
   "metadata": {},
   "outputs": [
    {
     "data": {
      "text/plain": [
       "'MY LIFE IS MINE.'"
      ]
     },
     "execution_count": 7,
     "metadata": {},
     "output_type": "execute_result"
    }
   ],
   "source": [
    "string1 = \"My life is mine.\"\n",
    "string2 = string1.upper()\n",
    "string3 = string2.lower()\n",
    "string4 = string1.swapcase()"
   ]
  },
  {
   "cell_type": "code",
   "execution_count": null,
   "id": "beb55d82",
   "metadata": {},
   "outputs": [],
   "source": [
    "# \"192.168.100.40\" 을 리스트 형태로 만들어보시오.\n",
    "\n",
    "# \"abcdef\"를 리스트 형태['a','b','c','d','e','f']로 만들어보시오"
   ]
  },
  {
   "cell_type": "code",
   "execution_count": 13,
   "id": "9e6bdeb9",
   "metadata": {},
   "outputs": [
    {
     "data": {
      "text/plain": [
       "['a', 'b', 'c', 'd', 'e', 'f']"
      ]
     },
     "execution_count": 13,
     "metadata": {},
     "output_type": "execute_result"
    }
   ],
   "source": [
    "a =\"192.168.100.40\"\n",
    "a.split()\n",
    "b = \"abcdef\"\n",
    "list(b)"
   ]
  },
  {
   "cell_type": "code",
   "execution_count": null,
   "id": "663071e1",
   "metadata": {},
   "outputs": [],
   "source": [
    "# number=[1,2,3,4,5,6,7,8,9,10] 선언\n",
    "\n",
    "# number 와 alpha 를 합쳐서 numalp 리스트 생성\n",
    "\n",
    "# numalp 리스트에서\n",
    "\n",
    "# 9번째 부터 11번째 까지 삭제할 것\n",
    "\n",
    "# 8번째에 [11,12,13] 리스트 형태로 추가 할 것\n",
    "\n",
    "# 1,2,3 번째 자리에 구성요소를 21,22,23 으로 교체 할 것\n",
    "\n",
    "# numalp 리스트 끝에 100 추가 할 것\n",
    "\n",
    "# number 리스트에서 모든 구성요소 모두 삭제 할 것\n",
    "\n",
    "# numalp 리스트를 순서대로 정렬해볼 것\n",
    "\n",
    "# numalp 리스트의 순서를 거꾸로 바꿔볼 것"
   ]
  },
  {
   "cell_type": "code",
   "execution_count": 13,
   "id": "2c0f63f1",
   "metadata": {},
   "outputs": [
    {
     "name": "stdout",
     "output_type": "stream",
     "text": [
      "[1, 2, 3, 4, 5, 6, 7, 8, 9, 10, 'a', 'b', 'c', 'd', 'e']\n"
     ]
    }
   ],
   "source": [
    "#alpha1=\"abcde\" 로 alpha=['a','b','c','d','e']를 만드시오\n",
    "alpha1=\"abcde\" \n",
    "alpha = list(alpha1)\n",
    "\n",
    "number=[1,2,3,4,5,6,7,8,9,10] \n",
    "numalp = number + alpha\n",
    "print (numalp)"
   ]
  },
  {
   "cell_type": "code",
   "execution_count": 14,
   "id": "e6cd4f3e",
   "metadata": {},
   "outputs": [],
   "source": [
    "numalp[9:11] = []"
   ]
  },
  {
   "cell_type": "code",
   "execution_count": 15,
   "id": "5c6873ec",
   "metadata": {},
   "outputs": [
    {
     "name": "stdout",
     "output_type": "stream",
     "text": [
      "[1, 2, 3, 4, 5, 6, 7, 8, 9, 'b', 'c', 'd', 'e']\n"
     ]
    }
   ],
   "source": [
    "print (numalp)"
   ]
  },
  {
   "cell_type": "code",
   "execution_count": 16,
   "id": "524671b8",
   "metadata": {},
   "outputs": [],
   "source": [
    "numalp.insert(8,[11,12,13])\n"
   ]
  },
  {
   "cell_type": "code",
   "execution_count": 17,
   "id": "a8cba8fa",
   "metadata": {},
   "outputs": [
    {
     "name": "stdout",
     "output_type": "stream",
     "text": [
      "[1, 2, 3, 4, 5, 6, 7, 8, [11, 12, 13], 9, 'b', 'c', 'd', 'e']\n"
     ]
    }
   ],
   "source": [
    "print (numalp)"
   ]
  },
  {
   "cell_type": "code",
   "execution_count": 18,
   "id": "104d497e",
   "metadata": {},
   "outputs": [],
   "source": [
    "numalp[1:3] = [21,22,23]"
   ]
  },
  {
   "cell_type": "code",
   "execution_count": 19,
   "id": "8ed18adc",
   "metadata": {},
   "outputs": [
    {
     "name": "stdout",
     "output_type": "stream",
     "text": [
      "[1, 21, 22, 23, 4, 5, 6, 7, 8, [11, 12, 13], 9, 'b', 'c', 'd', 'e']\n"
     ]
    }
   ],
   "source": [
    "print (numalp)"
   ]
  },
  {
   "cell_type": "code",
   "execution_count": 20,
   "id": "491289c8",
   "metadata": {},
   "outputs": [],
   "source": [
    "numalp.append(100)"
   ]
  },
  {
   "cell_type": "code",
   "execution_count": 21,
   "id": "f0b2ba56",
   "metadata": {},
   "outputs": [
    {
     "name": "stdout",
     "output_type": "stream",
     "text": [
      "[1, 21, 22, 23, 4, 5, 6, 7, 8, [11, 12, 13], 9, 'b', 'c', 'd', 'e', 100]\n"
     ]
    }
   ],
   "source": [
    "print (numalp)"
   ]
  },
  {
   "cell_type": "code",
   "execution_count": 24,
   "id": "39bf1af7",
   "metadata": {},
   "outputs": [
    {
     "data": {
      "text/plain": [
       "[]"
      ]
     },
     "execution_count": 24,
     "metadata": {},
     "output_type": "execute_result"
    }
   ],
   "source": [
    "number.clear()\n",
    "number"
   ]
  },
  {
   "cell_type": "code",
   "execution_count": 26,
   "id": "822f9fa3",
   "metadata": {},
   "outputs": [],
   "source": [
    "#numalp.sort()"
   ]
  },
  {
   "cell_type": "code",
   "execution_count": 27,
   "id": "68a91562",
   "metadata": {},
   "outputs": [],
   "source": [
    "numalp.insert(2,['ㄱ','ㄴ','ㄷ'])"
   ]
  },
  {
   "cell_type": "code",
   "execution_count": 28,
   "id": "e2ddef76",
   "metadata": {},
   "outputs": [
    {
     "name": "stdout",
     "output_type": "stream",
     "text": [
      "[1, 4, ['ㄱ', 'ㄴ', 'ㄷ'], 5, 6, 7, 8, 21, 22, 23, [11, 12, 13], 9, 'b', 'c', 'd', 'e', 100]\n"
     ]
    }
   ],
   "source": [
    "print (numalp)"
   ]
  },
  {
   "cell_type": "code",
   "execution_count": 29,
   "id": "65904dae",
   "metadata": {},
   "outputs": [
    {
     "data": {
      "text/plain": [
       "['ㄱ', 'ㄴ', 'ㄷ']"
      ]
     },
     "execution_count": 29,
     "metadata": {},
     "output_type": "execute_result"
    }
   ],
   "source": [
    "numalp.pop(2)"
   ]
  },
  {
   "cell_type": "code",
   "execution_count": 30,
   "id": "e02f9e8d",
   "metadata": {},
   "outputs": [
    {
     "data": {
      "text/plain": [
       "[1, 4, 5, 6, 7, 8, 21, 22, 23, [11, 12, 13], 9, 'b', 'c', 'd', 'e', 100]"
      ]
     },
     "execution_count": 30,
     "metadata": {},
     "output_type": "execute_result"
    }
   ],
   "source": [
    "numalp"
   ]
  },
  {
   "cell_type": "code",
   "execution_count": 44,
   "id": "d5826adf",
   "metadata": {},
   "outputs": [
    {
     "ename": "IndexError",
     "evalue": "list assignment index out of range",
     "output_type": "error",
     "traceback": [
      "\u001b[1;31m---------------------------------------------------------------------------\u001b[0m",
      "\u001b[1;31mIndexError\u001b[0m                                Traceback (most recent call last)",
      "Cell \u001b[1;32mIn[44], line 4\u001b[0m\n\u001b[0;32m      2\u001b[0m ssss \u001b[38;5;241m=\u001b[39m[]\n\u001b[0;32m      3\u001b[0m \u001b[38;5;28;01mfor\u001b[39;00m i \u001b[38;5;129;01min\u001b[39;00m \u001b[38;5;28mrange\u001b[39m(\u001b[38;5;28mlen\u001b[39m(numalp)):\n\u001b[1;32m----> 4\u001b[0m     renumalp[i] \u001b[38;5;241m=\u001b[39m numalp[\u001b[38;5;241m-\u001b[39m(i\u001b[38;5;241m+\u001b[39m\u001b[38;5;241m1\u001b[39m)]\n\u001b[0;32m      5\u001b[0m     ssss \u001b[38;5;241m=\u001b[39m ssss \u001b[38;5;241m+\u001b[39m renumalp[i]\n",
      "\u001b[1;31mIndexError\u001b[0m: list assignment index out of range"
     ]
    }
   ],
   "source": [
    "renumalp = []\n",
    "ssss =[]\n",
    "for i in range(len(numalp)):\n",
    "    renumalp[i] = numalp[-(i+1)]\n",
    "    ssss = ssss + renumalp[i]"
   ]
  },
  {
   "cell_type": "code",
   "execution_count": null,
   "id": "873f74c2",
   "metadata": {},
   "outputs": [],
   "source": [
    "ssss"
   ]
  },
  {
   "cell_type": "code",
   "execution_count": null,
   "id": "add65d34",
   "metadata": {},
   "outputs": [],
   "source": [
    "list1=[]\n",
    "for i in numalp :\n",
    "    list.insert(0,i)\n",
    "\n"
   ]
  },
  {
   "cell_type": "code",
   "execution_count": null,
   "id": "15bd71f5",
   "metadata": {},
   "outputs": [],
   "source": [
    "lst_len = len(numalp)\n",
    "for i in range(lst_len//2):\n",
    "    numalp[i], numalp[lst_len-i-1] = numalp[lst_len-i-1], numalp[i]\n",
    "print(numalp)"
   ]
  },
  {
   "cell_type": "code",
   "execution_count": null,
   "id": "58af6404",
   "metadata": {},
   "outputs": [],
   "source": [
    "for i in range((lst_len:=len(numalp))//2):\n",
    "    numalp[i], numalp[lst_len-i-1] = numalp[lst_len-i-1], numalp[i]\n",
    "print(numalp)\n"
   ]
  },
  {
   "cell_type": "code",
   "execution_count": null,
   "id": "5c50b6b0",
   "metadata": {},
   "outputs": [],
   "source": [
    "alpha3 = alpha*3\n",
    "alpha3.sort()\n",
    "str1=\"\"\n",
    "\n",
    "for i in alpha3:\n",
    "    str1=str1+i"
   ]
  },
  {
   "cell_type": "code",
   "execution_count": 23,
   "id": "4ee7eb8d",
   "metadata": {},
   "outputs": [
    {
     "data": {
      "text/plain": [
       "['a']"
      ]
     },
     "execution_count": 23,
     "metadata": {},
     "output_type": "execute_result"
    }
   ],
   "source": [
    "a=1\n",
    "b='a'\n",
    "c= [1,2,3,4,]\n",
    "\n",
    "list1 = [a,b,c]\n",
    "\n",
    "list1[1:2]"
   ]
  },
  {
   "cell_type": "code",
   "execution_count": 24,
   "id": "fe21b3d4",
   "metadata": {},
   "outputs": [],
   "source": [
    "list3 = [1,2,3,[4,5,6,[7,8,9]]]"
   ]
  },
  {
   "cell_type": "code",
   "execution_count": 25,
   "id": "15b4d1f2",
   "metadata": {},
   "outputs": [
    {
     "data": {
      "text/plain": [
       "[1, 'a', [1, 2, 3, 4]]"
      ]
     },
     "execution_count": 25,
     "metadata": {},
     "output_type": "execute_result"
    }
   ],
   "source": [
    "list1"
   ]
  },
  {
   "cell_type": "code",
   "execution_count": null,
   "id": "04db57f9",
   "metadata": {},
   "outputs": [],
   "source": []
  },
  {
   "cell_type": "code",
   "execution_count": 1,
   "id": "212558f7",
   "metadata": {},
   "outputs": [
    {
     "name": "stdout",
     "output_type": "stream",
     "text": [
      "name : lee\n",
      "age : 45\n",
      "area : bu\n",
      "[['lee', '45', 'bu']]\n",
      "[['lee', '45', 'bu']]\n",
      "name : kim\n",
      "age : 35\n",
      "area : ku\n",
      "[['lee', '45', 'bu'], ['kim', '35', 'ku']]\n",
      "[['lee', '45', 'bu'], ['kim', '35', 'ku']]\n"
     ]
    }
   ],
   "source": [
    "list1=[]\n",
    "list2=[]\n",
    "info_list=['name', 'age', 'area']\n",
    "i=0\n",
    "\n",
    "\n",
    "while i <2:\n",
    "    for j  in info_list:\n",
    "        list1.append(input(\"{} : \".format(j)))\n",
    "    list2.append(list1)\n",
    "    print(list2)\n",
    "    i=i+1\n",
    "    list1= []\n",
    "    print(list2)\n",
    "    "
   ]
  },
  {
   "cell_type": "code",
   "execution_count": null,
   "id": "a73a61dd",
   "metadata": {},
   "outputs": [],
   "source": []
  }
 ],
 "metadata": {
  "kernelspec": {
   "display_name": "Python 3 (ipykernel)",
   "language": "python",
   "name": "python3"
  },
  "language_info": {
   "codemirror_mode": {
    "name": "ipython",
    "version": 3
   },
   "file_extension": ".py",
   "mimetype": "text/x-python",
   "name": "python",
   "nbconvert_exporter": "python",
   "pygments_lexer": "ipython3",
   "version": "3.11.3"
  }
 },
 "nbformat": 4,
 "nbformat_minor": 5
}
