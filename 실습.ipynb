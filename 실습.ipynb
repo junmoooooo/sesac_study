{
 "cells": [
  {
   "cell_type": "markdown",
   "id": "82b3e028",
   "metadata": {},
   "source": [
    "가위 바위 보\n",
    "\n",
    "srp1=['가위','바위','바위','바위','보','가위','가위','보','가위','보']\n",
    "\n",
    "input()으로 입력할때 마다 srp1의 구성요소 하나씩 차례대로 비교해서 10번 진행하고 승패에 대해서 결과를 출력하겠끔 작성하시오.\n",
    "\n",
    "X승 X패 X비김 (잘못냈을 경우도 패로 인정)\n",
    "\n",
    "(hint: for srp  in  srp1:)\n",
    "\n"
   ]
  },
  {
   "cell_type": "code",
   "execution_count": 1,
   "id": "670f9649",
   "metadata": {},
   "outputs": [
    {
     "name": "stdout",
     "output_type": "stream",
     "text": [
      "가위,바위,보 : 가위\n",
      "비겼습니다\n",
      "가위,바위,보 : 가위\n",
      "졌습니다.\n",
      "가위,바위,보 : 가위\n",
      "졌습니다.\n",
      "가위,바위,보 : 가위\n",
      "졌습니다.\n",
      "가위,바위,보 : 가위\n",
      "이겼습니다\n",
      "가위,바위,보 : 가위\n",
      "비겼습니다\n",
      "가위,바위,보 : 가위\n",
      "비겼습니다\n",
      "가위,바위,보 : 가위\n",
      "이겼습니다\n",
      "가위,바위,보 : 가위\n",
      "비겼습니다\n",
      "가위,바위,보 : 가위\n",
      "이겼습니다\n",
      "3 승 3 패 4 비김\n"
     ]
    }
   ],
   "source": [
    "srp1=['가위','바위','바위','바위','보','가위','가위','보','가위','보']\n",
    "w=0\n",
    "l=0\n",
    "d=0\n",
    "\n",
    "for srp in srp1:\n",
    "\tuser=input(\"가위,바위,보 : \")\n",
    "\tif user not in ['가위','바위','보']:\n",
    "\t\tprint(\"잘못내셨습니다. 패배\")\n",
    "\t\tl=l+1\n",
    "\telse:\n",
    "\t\tif user==srp :\n",
    "\t\t\tprint(\"비겼습니다\")\n",
    "\t\t\td=d+1\n",
    "\t\telse:\n",
    "\t\t\tif user == '가위':\n",
    "\t\t\t\tif srp == '보':\n",
    "\t\t\t\t\tprint(\"이겼습니다\")\n",
    "\t\t\t\t\tw=w+1\n",
    "\t\t\t\telse:\n",
    "\t\t\t\t\tprint(\"졌습니다.\")\n",
    "\t\t\t\t\tl=l+1\n",
    "\t\t\telse:\n",
    "\t\t\t\tif user=='바위':\n",
    "\t\t\t\t\tif srp == '가위':\n",
    "\t\t\t\t\t\tprint(\"이겼습니다.\")\n",
    "\t\t\t\t\t\tw=w+1\n",
    "\t\t\t\t\telse:\n",
    "\t\t\t\t\t\tprint(\"졌습니다.\")\n",
    "\t\t\t\t\t\tl=l+1\n",
    "\t\t\t\telse:\n",
    "\t\t\t\t\tif srp == '바위':\n",
    "\t\t\t\t\t\tprint(\"이겼습니다.\")\n",
    "\t\t\t\t\t\tw=w+1\n",
    "\t\t\t\t\telse:\n",
    "\t\t\t\t\t\tprint(\"졌습니다.\")\n",
    "\t\t\t\t\t\tl=l+1\n",
    "\n",
    "print(\"{} 승 {} 패 {} 비김\".format(w,l,d))"
   ]
  },
  {
   "cell_type": "markdown",
   "id": "8153f50f",
   "metadata": {},
   "source": [
    "통장에서 10,000원이 들어있다. \n",
    "\n",
    "input()를 통해서 입력을 '출금'과 '입금'을 입력받고 금액부분을 입력받도록 하시오.\n",
    "\n",
    "출금을 하면 \"XXX원이 출금되었습니다. 현재 잔고는 XXX입니다.\" 출력\n",
    "\n",
    "예금을 하면 \"XXX원이 입금되었습니다. 현재 잔고는 XXX입니다.\" 출력\n",
    "\n",
    "출금시에 잔고가 부족하면 \"현재 잔고 부족입니다. XXX가 부족합니다.\" 라고 출력\n",
    "\n",
    "통장잔고가 0원이 되면 \"통장을 파기합니다\" 출력"
   ]
  },
  {
   "cell_type": "code",
   "execution_count": 2,
   "id": "07231e6e",
   "metadata": {
    "scrolled": true
   },
   "outputs": [
    {
     "name": "stdout",
     "output_type": "stream",
     "text": [
      "입금, 출금을 선택해주세요 : 500\n",
      "잘못 입력하셨습니다.\n",
      "입금, 출금을 선택해주세요 : 입금\n",
      "입금 금액 : 500\n",
      "500가 입금되었습니다. 현재 잔고는 10500입니다.\n",
      "입금, 출금을 선택해주세요 : 출금\n",
      "출금 금액 : 10500\n",
      "10500가 출금되었습니다. 현재 잔고는 0입니다.\n",
      "현재 잔고가 0 입니다. 통장을 파기 합니다\n"
     ]
    }
   ],
   "source": [
    "atm = 10000\n",
    "\n",
    "while True:\n",
    "\tcmd = input(\"입금, 출금을 선택해주세요 : \")\n",
    "\tif cmd not in [\"입금\",\"출금\"]:\n",
    "\t\tprint(\"잘못 입력하셨습니다.\")\n",
    "\telif cmd == \"입금\":\n",
    "\t\tinmoney = int(input(\"입금 금액 : \"))\n",
    "\t\tatm=atm+inmoney\n",
    "\t\tprint(\"{}가 입금되었습니다. 현재 잔고는 {}입니다.\".format(inmoney,atm))\n",
    "\telse:\n",
    "\t\toutmoney=int(input(\"출금 금액 : \"))\n",
    "\t\tif atm >= outmoney:\n",
    "\t\t\tatm=atm-outmoney\n",
    "\t\t\tprint(\"{}가 출금되었습니다. 현재 잔고는 {}입니다.\".format(outmoney,atm))\n",
    "\t\telse:\n",
    "\t\t\tprint(\"{}을 요청하셨지만 잔액이 {} 부족합니다. 현재 잔고는 {}입니다.\".format(outmoney,outmoney-atm,atm))\n",
    "\n",
    "\tif atm == 0:\n",
    "\t\tprint(\"현재 잔고가 {} 입니다. 통장을 파기 합니다\".format(atm))\n",
    "\t\tbreak\n"
   ]
  },
  {
   "cell_type": "markdown",
   "id": "06a3df45",
   "metadata": {},
   "source": [
    "계산기를 만들어보시오.\n",
    "\n",
    "출력 결과\n",
    "\n",
    "-----------------\n",
    "메뉴\n",
    "1.더하기\n",
    "2.빼기\n",
    "3.곱하기\n",
    "4.나누기\n",
    "5.자승\n",
    "6.나가기\n",
    "-----------------\n",
    "\n",
    "메뉴에서 옵션 선택 후 숫자 2개를 입력하면 계산 값이 나오도록 할 것.\n",
    "\n",
    "- 메뉴 항목에서 메뉴 번호 외에 선택하게 되면 다시 선택하도록 할 것\n",
    "- 계산될 숫자 입력시 숫자 외에 것을 입력하면 \"숫자가 아닙니다. 다시 입력해주세요.\" 라는 메세지가 뜨도록 해서 숫자로 입력 했을 때만 통과\n"
   ]
  },
  {
   "cell_type": "code",
   "execution_count": 4,
   "id": "f8737ac3",
   "metadata": {},
   "outputs": [
    {
     "name": "stdout",
     "output_type": "stream",
     "text": [
      "-----------------\n",
      "메뉴\n",
      "1.더하기\n",
      "2.빼기\n",
      "3.곱하기\n",
      "4.나누기\n",
      "5.자승\n",
      "6.나가기\n",
      "-----------------\n",
      "메뉴를 선택하세요. : 6\n",
      "종료합니다\n"
     ]
    }
   ],
   "source": [
    "MENU = \"\"\"-----------------\n",
    "메뉴\n",
    "1.더하기\n",
    "2.빼기\n",
    "3.곱하기\n",
    "4.나누기\n",
    "5.자승\n",
    "6.나가기\n",
    "-----------------\n",
    "메뉴를 선택하세요. : \"\"\"\n",
    "\n",
    "choice = 0\n",
    "\n",
    "while True:\n",
    "\tchoice = 0\n",
    "\tnum1=num2=0\n",
    "\twhile True:\n",
    "\t\tchoice=input(MENU)\n",
    "\t\tif choice not in \"123456\":\n",
    "\t\t\tprint(\"잘못 선택하셨습니다. 다시 선택해주세요.\")\t\n",
    "\t\telse:\n",
    "\t\t\tbreak\n",
    "\tif choice == '6':\n",
    "\t\tprint(\"종료합니다\")\n",
    "\t\tbreak\n",
    "\twhile True:\n",
    "\t\tnum1=input(\"num1 : \")\n",
    "\t\tfor c in num1:\n",
    "\t\t\ta=1\n",
    "\t\t\tif c not in \"0123456789\":\t\n",
    "\t\t\t\tprint(\" 숫자를 입력하지 않았습니다.\")\n",
    "\t\t\t\ta=a-1\n",
    "\t\t\t\tbreak\t\n",
    "\t\tif a ==1:\n",
    "\t\t\tbreak\n",
    "\twhile True:\n",
    "\t\tnum2=input(\"num2 : \")\n",
    "\t\tfor c in num2:\n",
    "\t\t\ta=1\n",
    "\t\t\tif c not in \"0123456789\":\n",
    "\t\t\t\tprint(\" 숫자를 입력하지 않았습니다.\")\n",
    "\t\t\t\ta=a-1\n",
    "\t\t\t\tbreak\t\n",
    "\t\tif a ==1:\n",
    "\t\t\tbreak\t\n",
    "\tnuma=int(num1)\n",
    "\tnumb=int(num2)\n",
    "\tif choice == '1':\n",
    "\t\tprint(\"{} 와 {}의 합은 {} 입니다.\\n\".format(numa,numb,numa+numb))\n",
    "\tif choice == '2':\n",
    "\t\tprint(\"{} 와 {}의 차는 {} 입니다.\\n\".format(numa,numb,numa-numb))\t\n",
    "\tif choice == '3':\n",
    "\t\tprint(\"{} 와 {}의 곱은 {} 입니다.\\n\".format(numa,numb,numa*numb))\n",
    "\tif choice == '4':\n",
    "\t\tprint(\"{} 에서 {}를 나눈 값은 {} 입니다.\\n\".format(numa,numb,numa/numb))\n",
    "\tif choice == '5':\n",
    "\t\tprint(\"{} 의 {}승은 {} 입니다.\\n\".format(numa,numb,numa**numb))"
   ]
  },
  {
   "cell_type": "code",
   "execution_count": 5,
   "id": "1423f7b5",
   "metadata": {},
   "outputs": [
    {
     "name": "stdout",
     "output_type": "stream",
     "text": [
      "국어 : 55\n",
      "영어 : 46\n",
      "수학 : 70\n",
      "과학 : 80\n",
      "사회 : 90\n",
      "60점 이상 과목들은  수학 과학 사회  \n",
      "평균 점수는 68.2 입니다\n"
     ]
    }
   ],
   "source": [
    "# 국어:점수\n",
    "# 영어:점수\n",
    "# 수학:점수\n",
    "# 과학:점수\n",
    "# 사회:점수\n",
    "# 입력 받고 60점 이상의 과목이 어떠한 것이 있는지 출력하고 평균을 계산한 후 출력이 되도록 작성하시오.\n",
    "\n",
    "\n",
    "study=['국어','영어','수학','과학','사회']\n",
    "studyscore={}\n",
    "avg = 0\n",
    "\n",
    "for i in study:\n",
    "\tstudyscore[i]=int(input(\"{} : \".format(i)))\n",
    "\n",
    "print(\"60점 이상 과목들은 \",end=\" \")\t\n",
    "for stu,score in studyscore.items():\n",
    "\tavg = avg + score\n",
    "\tif score < 60 :\n",
    "\t\tcontinue\n",
    "\tprint(stu, end=\" \")\n",
    "\n",
    "print(\" \")\t\n",
    "print(\"평균 점수는 {} 입니다\".format(avg/len(study)))"
   ]
  },
  {
   "cell_type": "code",
   "execution_count": null,
   "id": "6aee8483",
   "metadata": {},
   "outputs": [],
   "source": []
  }
 ],
 "metadata": {
  "kernelspec": {
   "display_name": "Python 3 (ipykernel)",
   "language": "python",
   "name": "python3"
  },
  "language_info": {
   "codemirror_mode": {
    "name": "ipython",
    "version": 3
   },
   "file_extension": ".py",
   "mimetype": "text/x-python",
   "name": "python",
   "nbconvert_exporter": "python",
   "pygments_lexer": "ipython3",
   "version": "3.11.3"
  }
 },
 "nbformat": 4,
 "nbformat_minor": 5
}
