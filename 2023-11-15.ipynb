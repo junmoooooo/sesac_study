{
 "cells": [
  {
   "cell_type": "code",
   "execution_count": 1,
   "id": "e349e133",
   "metadata": {},
   "outputs": [
    {
     "data": {
      "text/plain": [
       "'---filve---'"
      ]
     },
     "execution_count": 1,
     "metadata": {},
     "output_type": "execute_result"
    }
   ],
   "source": [
    "\"---%s---\"%\"filve\""
   ]
  },
  {
   "cell_type": "code",
   "execution_count": 2,
   "id": "b789e793",
   "metadata": {},
   "outputs": [
    {
     "data": {
      "text/plain": [
       "'---256---'"
      ]
     },
     "execution_count": 2,
     "metadata": {},
     "output_type": "execute_result"
    }
   ],
   "source": [
    "\"---%d---\"%256"
   ]
  },
  {
   "cell_type": "code",
   "execution_count": 7,
   "id": "e017d92c",
   "metadata": {},
   "outputs": [
    {
     "data": {
      "text/plain": [
       "'---256---'"
      ]
     },
     "execution_count": 7,
     "metadata": {},
     "output_type": "execute_result"
    }
   ],
   "source": [
    "a1 = \"five\"\n",
    "a2 = 256\n",
    "\n",
    "\"---%s\"%a1\n",
    "\"---%d\"%a2"
   ]
  },
  {
   "cell_type": "code",
   "execution_count": 10,
   "id": "9980c38e",
   "metadata": {},
   "outputs": [
    {
     "data": {
      "text/plain": [
       "'---five      ---'"
      ]
     },
     "execution_count": 10,
     "metadata": {},
     "output_type": "execute_result"
    }
   ],
   "source": [
    "\"---%10s---\"%a1\n",
    "\"---%-10s---\"%a1"
   ]
  },
  {
   "cell_type": "code",
   "execution_count": 12,
   "id": "ea395129",
   "metadata": {},
   "outputs": [
    {
     "data": {
      "text/plain": [
       "'---98.765432---'"
      ]
     },
     "execution_count": 12,
     "metadata": {},
     "output_type": "execute_result"
    }
   ],
   "source": [
    "f1 =98.765432\n",
    "\"---%f---\"%f1"
   ]
  },
  {
   "cell_type": "code",
   "execution_count": 17,
   "id": "bb15a84e",
   "metadata": {},
   "outputs": [
    {
     "data": {
      "text/plain": [
       "'---98.77%---'"
      ]
     },
     "execution_count": 17,
     "metadata": {},
     "output_type": "execute_result"
    }
   ],
   "source": [
    "\"---%.2f%%---\"%f1"
   ]
  },
  {
   "cell_type": "code",
   "execution_count": 19,
   "id": "8bb922af",
   "metadata": {},
   "outputs": [
    {
     "data": {
      "text/plain": [
       "'60 60 60'"
      ]
     },
     "execution_count": 19,
     "metadata": {},
     "output_type": "execute_result"
    }
   ],
   "source": [
    "\"{1} {1} {1}\".format(30, 60, 70)"
   ]
  },
  {
   "cell_type": "code",
   "execution_count": 20,
   "id": "80d9db90",
   "metadata": {},
   "outputs": [
    {
     "data": {
      "text/plain": [
       "'60 60 60 60'"
      ]
     },
     "execution_count": 20,
     "metadata": {},
     "output_type": "execute_result"
    }
   ],
   "source": [
    "\"{1} {1} {1} {1}\".format(30,60)"
   ]
  },
  {
   "cell_type": "code",
   "execution_count": 21,
   "id": "81af1ede",
   "metadata": {},
   "outputs": [
    {
     "data": {
      "text/plain": [
       "4"
      ]
     },
     "execution_count": 21,
     "metadata": {},
     "output_type": "execute_result"
    }
   ],
   "source": [
    "str1 =\"avcd\"*5\n",
    "\n",
    "str1.count(\"cda\")"
   ]
  },
  {
   "cell_type": "code",
   "execution_count": 23,
   "id": "24afb58e",
   "metadata": {},
   "outputs": [
    {
     "data": {
      "text/plain": [
       "2"
      ]
     },
     "execution_count": 23,
     "metadata": {},
     "output_type": "execute_result"
    }
   ],
   "source": [
    "str1.find(\"cda\")"
   ]
  },
  {
   "cell_type": "code",
   "execution_count": 25,
   "id": "d8f0f03b",
   "metadata": {},
   "outputs": [
    {
     "data": {
      "text/plain": [
       "'a:b:c:d:e:f:g'"
      ]
     },
     "execution_count": 25,
     "metadata": {},
     "output_type": "execute_result"
    }
   ],
   "source": [
    "\":\".join(\"abcdefg\")"
   ]
  },
  {
   "cell_type": "code",
   "execution_count": 26,
   "id": "da9a9a33",
   "metadata": {},
   "outputs": [
    {
     "data": {
      "text/plain": [
       "'123 456 789'"
      ]
     },
     "execution_count": 26,
     "metadata": {},
     "output_type": "execute_result"
    }
   ],
   "source": [
    "\" \".join([\"123\",\"456\",\"789\"])"
   ]
  },
  {
   "cell_type": "code",
   "execution_count": 27,
   "id": "86bbb53a",
   "metadata": {},
   "outputs": [
    {
     "data": {
      "text/plain": [
       "'aBcDeFgH'"
      ]
     },
     "execution_count": 27,
     "metadata": {},
     "output_type": "execute_result"
    }
   ],
   "source": [
    "str2 = \"AbCdEfGh\"\n",
    "\n",
    "str2.swapcase()"
   ]
  },
  {
   "cell_type": "code",
   "execution_count": 29,
   "id": "f77d14f9",
   "metadata": {},
   "outputs": [
    {
     "data": {
      "text/plain": [
       "'avcdavcdavcdavcdavcdavcdavcdavcdavcdavcdavcdavcdavcdavcdavcd'"
      ]
     },
     "execution_count": 29,
     "metadata": {},
     "output_type": "execute_result"
    }
   ],
   "source": [
    "sr1 = str1*3\n",
    "sr1"
   ]
  },
  {
   "cell_type": "code",
   "execution_count": 30,
   "id": "b2f701b2",
   "metadata": {},
   "outputs": [
    {
     "data": {
      "text/plain": [
       "'abcdabcdabcdabcdabcdabcdabcdabcdabcdabcdabcdabcdabcdabcdabcd'"
      ]
     },
     "execution_count": 30,
     "metadata": {},
     "output_type": "execute_result"
    }
   ],
   "source": [
    "sr1.replace('vc', 'bc')"
   ]
  },
  {
   "cell_type": "code",
   "execution_count": 31,
   "id": "aea83177",
   "metadata": {},
   "outputs": [
    {
     "data": {
      "text/plain": [
       "['a', 'b', 'c', 'd', 'e', 'f']"
      ]
     },
     "execution_count": 31,
     "metadata": {},
     "output_type": "execute_result"
    }
   ],
   "source": [
    "sr2 = \"abcdef\"\n",
    "list(sr2)"
   ]
  },
  {
   "cell_type": "code",
   "execution_count": 32,
   "id": "5775b6af",
   "metadata": {},
   "outputs": [
    {
     "data": {
      "text/plain": [
       "['a', 'b', 'c', 'd', 'e', 'f']"
      ]
     },
     "execution_count": 32,
     "metadata": {},
     "output_type": "execute_result"
    }
   ],
   "source": [
    "\" \".join(\"abcdef\").split()"
   ]
  },
  {
   "cell_type": "code",
   "execution_count": 98,
   "id": "43bd80cc",
   "metadata": {},
   "outputs": [
    {
     "name": "stdout",
     "output_type": "stream",
     "text": [
      "나는 오늘 영어 시험을 보았다 \n",
      "나의 점수는 98점으로 0.1%상위 점수이다.\n"
     ]
    }
   ],
   "source": [
    "# 나는 오늘 영어 시험을 보았다. \n",
    "# 나의 점수는 98점으로 상위 0.1% 점수이다.\n",
    "# 문장을 문자 포맷팅을 통해서 작성하시오. (문자열 포맷팅 대상, 오늘, 영어, 98, 0.1 )\n",
    "\n",
    "\n",
    "\n",
    "print(\"나는 %s %s 시험을 보았다 \\n나의 점수는 %d점으로 %.1f%%상위 점수이다.\"%('오늘','영어',98,0.1))"
   ]
  },
  {
   "cell_type": "code",
   "execution_count": 72,
   "id": "45ee317d",
   "metadata": {},
   "outputs": [
    {
     "data": {
      "text/plain": [
       "'today         '"
      ]
     },
     "execution_count": 72,
     "metadata": {},
     "output_type": "execute_result"
    }
   ],
   "source": [
    "# day = 'today' 라는 문자열을 통해서 다음 문자열 포맷팅을  하시오.\n",
    "\n",
    "# 총 9칸 오른쪽 붙임\n",
    "\n",
    "# 총 14칸 왼쪽 붙임\n",
    "\n",
    "\n",
    "day = 'today'\n",
    "\"%9s\"%day\n",
    "\"%-14s\"%day\n"
   ]
  },
  {
   "cell_type": "code",
   "execution_count": 73,
   "id": "9076c9c6",
   "metadata": {},
   "outputs": [
    {
     "data": {
      "text/plain": [
       "'1.2346    '"
      ]
     },
     "execution_count": 73,
     "metadata": {},
     "output_type": "execute_result"
    }
   ],
   "source": [
    "# float1 = 1.2345678 라는 실수를 통해서 다음 문자열 포맷팅을 하시오.\n",
    "\n",
    "# 총 8칸 소수점 5자리 오른쪽 붙임\n",
    "\n",
    "# 총 10칸 소수점 4자리 왼쪽 붙임\n",
    "\n",
    "\"%8.5f\"%1.2345678\n",
    "\"%-10.4f\"%1.2345678"
   ]
  },
  {
   "cell_type": "code",
   "execution_count": 94,
   "id": "00da29d1",
   "metadata": {},
   "outputs": [
    {
     "name": "stdout",
     "output_type": "stream",
     "text": [
      "['a', 'b', 'c', 'd', 'e', 'f', 'g', 'h', 'i', 'j', 'k', 'l', 'm', 'n', 'o', 'p', 'q', 'r', 's', 't', 'u', 'v', 'w', 'x', 'y', 'z']\n"
     ]
    },
    {
     "data": {
      "text/plain": [
       "['a',\n",
       " 'b',\n",
       " 'c',\n",
       " 'd',\n",
       " 'e',\n",
       " 'f',\n",
       " 'g',\n",
       " 'h',\n",
       " 'i',\n",
       " 'j',\n",
       " 'k',\n",
       " 'l',\n",
       " 'm',\n",
       " 'n',\n",
       " 'o',\n",
       " 'p',\n",
       " 'q',\n",
       " 'r',\n",
       " 's',\n",
       " 't',\n",
       " 'u',\n",
       " 'v',\n",
       " 'w',\n",
       " 'x',\n",
       " 'y',\n",
       " 'z']"
      ]
     },
     "execution_count": 94,
     "metadata": {},
     "output_type": "execute_result"
    }
   ],
   "source": [
    "# 문자열 함수 실습\n",
    "\n",
    "alph = \"abcd efg hijk lmnop qrs tuv wxyz\"\n",
    "number = \"1234 567 89\"\n",
    "boy = \"BOYS, BE AMBITIOUS\"\n",
    "\n",
    "# alph 문자열을 대문자로 변환 후에 alph1에 넣으시오.\n",
    "\n",
    "# boy 와 alph1를 더한 값을 string1에 넣으시오.\n",
    "\n",
    "# string1 에서 B가 몇개 있는지 확인해보시오.\n",
    "\n",
    "# string1 에서 첫번째 A가 어느 위치에 있는지 확인해보시오.\n",
    "\n",
    "# boy 문자열에서 BOYS를 girls로 변환 후에 string2에 넣으시오.\n",
    "\n",
    "# string2에서 대문자는 소문자로, 소문자는 대문자로 변환시키시오.\n",
    "\n",
    "# alph 문자열로 alphlist = ['a','b','c','d','e','f','g','h','i','j','k','l','m','n','o','p','q','r','s','t','u','v','w','x','y','z']을 만들어보시오.\n",
    "\n",
    "\n",
    "alph1 = alph.upper()\n",
    "\n",
    "string1 = boy + alph1\n",
    "\n",
    "string1.count(\"B\")\n",
    "\n",
    "string1.index(\"A\")\n",
    "string1.find(\"A\")\n",
    "\n",
    "string2 = boy.replace(\"BOY\", \"girls\")\n",
    "\n",
    "string2.swapcase()\n",
    "\n",
    "print(\" \".join(s).split())\n",
    "\" \".join(s).split()"
   ]
  },
  {
   "cell_type": "code",
   "execution_count": 1,
   "id": "a359e14f",
   "metadata": {},
   "outputs": [
    {
     "name": "stdout",
     "output_type": "stream",
     "text": [
      "['0', '1', '2', '3', '4', '5', '6', '7', '8', '9', '10']\n",
      "3\n",
      "['5', '6', '7']\n",
      "35\n",
      "45\n",
      "['0', '1', '2', '31', '33', '34', '35', '36', '37', '8', '9', '10']\n",
      "['0', '1', '2', '31', '33', '34', '35', '36', '37', '33', '9', '10']\n",
      "['0', '1', '2', '31', '34', '35', '36', '37', '9', '10']\n",
      "['0', '1', '10', '2', '31', '34', '35', '36', '37', '9']\n",
      "['9', '37', '36', '35', '34', '31', '2', '10', '1', '0']\n",
      "['9', '37', '36', '35', ['a1', 'b1', 'c1'], '34', '31', '2', '10', '1', '0']\n",
      "['9', '37', '36', '35', ['a1', 'b1', 'c1'], ['a2', 'b2', 'c2'], '31', '2', '10', '1', '0']\n",
      "['a1', 'b1', 'c1']\n",
      "['9', '37', '36', '35', ['a2', 'b2', 'c2'], '31', '2', '10', '1', '0']\n"
     ]
    }
   ],
   "source": [
    "# list 실습\n",
    "\n",
    "num1='0,1,2,3,4,5,6,7,8,9,10'\n",
    "\n",
    "# num1 문자열을 num2 리스트로 만드시오.\n",
    "num2 = list(num1.split(\",\"))\n",
    "print(num2)\n",
    "# num2에서 3번째 자리의 숫자는 무엇인가?\n",
    "print(num2[3])\n",
    "# num2에서 5번째 부터 8번째 자리의 숫자는 무엇인가?\n",
    "print(num2[5:8])\n",
    "# num2에서 5번째와 7번째 숫자를 곱하시오.\n",
    "print((int)(num2[5])*(int)(num2[7]))\n",
    "# num2에서 6번째 숫자를 '45'로 변경하시오.\n",
    "num2[6] = '45'\n",
    "print(num2[6])\n",
    "# num2에서 3번째 부터 8번째 자리의 숫자들을 '31','33','34','35','36','37'로 변경하시오.\n",
    "num2[3:8] = ['31','33','34','35','36','37']\n",
    "print(num2)\n",
    "# num2에서 9번째 자리의 숫자를 '33'으로 수정하시오.\n",
    "num2[9] = '33'\n",
    "print(num2)\n",
    "# num2에서 '33'를 모두 제거해보시오.\n",
    "while (num2.count('33')):\n",
    "    num2.remove('33')\n",
    "print (num2)\n",
    "# num2를 정렬해보시오.\n",
    "num2.sort()\n",
    "print(num2)\n",
    "# num2를 역순으로 만들어보시오.\n",
    "num2.reverse()\n",
    "print(num2)\n",
    "# num2에서 4번째 자리에 ['a1','b1','c1']를 넣어보시오.\n",
    "num2.insert(4,['a1','b1','c1'])\n",
    "print(num2)\n",
    "# num2에서 5번째 자리에 있는 숫자를 ['a2','b2','c2']로 수정하시오.\n",
    "num2[5] = ['a2','b2','c2']\n",
    "print(num2)\n",
    "# ['a1','b1','c1']를 빼서 변수 a1에 넣은 후에 삭제 되도록 하시오.\n",
    "a1 = num2.pop(4)\n",
    "print (a1)\n",
    "print (num2)\n",
    "# num2를 정수로 이루어진 리스트인 num3로 바꾸시오.(['a2','b2','c2']를 삭제 후에 하시오)\n",
    "num2.remove(['a2','b2','c2'])\n"
   ]
  },
  {
   "cell_type": "code",
   "execution_count": 10,
   "id": "a6b51c4c",
   "metadata": {},
   "outputs": [
    {
     "name": "stdout",
     "output_type": "stream",
     "text": [
      "0,1,2,3,4,5,6,7,8,9,10\n",
      "['0', ',', '1', ',', '2', ',', '3', ',', '4', ',', '5', ',', '6', ',', '7', ',', '8', ',', '9', ',', '1', '0']\n"
     ]
    }
   ],
   "source": [
    "num3='0,1,2,3,4,5,6,7,8,9,10'\n",
    "\n",
    "num3.split(\",\")\n",
    "\n",
    "print(num3)\n",
    "num4 =list(num3)\n",
    "print(num4)\n"
   ]
  },
  {
   "cell_type": "code",
   "execution_count": 2,
   "id": "c269f291",
   "metadata": {},
   "outputs": [
    {
     "name": "stdout",
     "output_type": "stream",
     "text": [
      "원하는 문장을 작성해 보시오.I like Python\n",
      " like ython\n"
     ]
    }
   ],
   "source": [
    "alph = ['a','b','c','d','e','f','g','h','i','j','k','l','m','n','o','p','q','r','s','t','u','v','w','x','y','z',' ']\n",
    "\n",
    "want = input(\"원하는 문장을 작성해 보시오.\")\n",
    "s = list(want)\n",
    "this =\"\"\n",
    "anser=\"\"\n",
    "# 위에서 만든 리스트로 \"I like Python\" 을 작성해보시오.(hint : 인덱싱)\n",
    "for i in range(len(s)):\n",
    "    for j in range(len(alph)):\n",
    "        if s[i] == alph[j]:\n",
    "            if s[i]== alph[j].upper:\n",
    "                this = alph[j].upper()\n",
    "                anser = anser + this\n",
    "                \n",
    "            this = alph[j]\n",
    "            anser = anser + this\n",
    "print(anser)"
   ]
  },
  {
   "cell_type": "code",
   "execution_count": null,
   "id": "32df5cd7",
   "metadata": {},
   "outputs": [],
   "source": []
  },
  {
   "cell_type": "code",
   "execution_count": 6,
   "id": "ad94e0fe",
   "metadata": {},
   "outputs": [
    {
     "name": "stdout",
     "output_type": "stream",
     "text": [
      "1\n"
     ]
    },
    {
     "data": {
      "text/plain": [
       "int"
      ]
     },
     "execution_count": 6,
     "metadata": {},
     "output_type": "execute_result"
    }
   ],
   "source": [
    "tu1 = (1)\n",
    "print(tu1)\n",
    "type(tu1)"
   ]
  },
  {
   "cell_type": "code",
   "execution_count": 27,
   "id": "7805799a",
   "metadata": {},
   "outputs": [
    {
     "data": {
      "text/plain": [
       "{'a': 1, 'b': 2, 'c': 3, 'd': 4}"
      ]
     },
     "execution_count": 27,
     "metadata": {},
     "output_type": "execute_result"
    }
   ],
   "source": [
    "dic1={'a':1,'b':2,'c':3}\n",
    "dic1['a']\n",
    "dic1['d'] = 4\n",
    "dic1"
   ]
  },
  {
   "cell_type": "code",
   "execution_count": 28,
   "id": "7a095bec",
   "metadata": {},
   "outputs": [],
   "source": [
    "del(dic1['d'])"
   ]
  },
  {
   "cell_type": "code",
   "execution_count": 29,
   "id": "d88e04ed",
   "metadata": {},
   "outputs": [
    {
     "name": "stdout",
     "output_type": "stream",
     "text": [
      "1816468682112 1816468682112 1816468468928\n"
     ]
    }
   ],
   "source": [
    "dic2 = dic1\n",
    "dic3 = dic1.copy()\n",
    "\n",
    "print(id(dic1),id(dic2),id(dic3))"
   ]
  },
  {
   "cell_type": "code",
   "execution_count": 30,
   "id": "6782af22",
   "metadata": {},
   "outputs": [
    {
     "name": "stdout",
     "output_type": "stream",
     "text": [
      "1816468682112 1816468682112 1816468468928\n"
     ]
    }
   ],
   "source": [
    "dic1.clear()\n",
    "print(id(dic1),id(dic2),id(dic3))"
   ]
  },
  {
   "cell_type": "code",
   "execution_count": 31,
   "id": "5c22576d",
   "metadata": {},
   "outputs": [
    {
     "data": {
      "text/plain": [
       "{'a': 1, 'b': 1}"
      ]
     },
     "execution_count": 31,
     "metadata": {},
     "output_type": "execute_result"
    }
   ],
   "source": [
    "dic1['a'] =1\n",
    "dic2['b'] =1\n",
    "dic1['a'] =1\n",
    "dic1"
   ]
  },
  {
   "cell_type": "code",
   "execution_count": 33,
   "id": "fac24c3b",
   "metadata": {},
   "outputs": [
    {
     "data": {
      "text/plain": [
       "dict_keys(['a', 'b'])"
      ]
     },
     "execution_count": 33,
     "metadata": {},
     "output_type": "execute_result"
    }
   ],
   "source": [
    "dic1.keys()"
   ]
  },
  {
   "cell_type": "code",
   "execution_count": 34,
   "id": "f8063d7d",
   "metadata": {},
   "outputs": [
    {
     "ename": "AttributeError",
     "evalue": "'dict' object has no attribute 'key'",
     "output_type": "error",
     "traceback": [
      "\u001b[1;31m---------------------------------------------------------------------------\u001b[0m",
      "\u001b[1;31mAttributeError\u001b[0m                            Traceback (most recent call last)",
      "Cell \u001b[1;32mIn[34], line 1\u001b[0m\n\u001b[1;32m----> 1\u001b[0m \u001b[38;5;28mlist\u001b[39m(dic1\u001b[38;5;241m.\u001b[39mkey())\n",
      "\u001b[1;31mAttributeError\u001b[0m: 'dict' object has no attribute 'key'"
     ]
    }
   ],
   "source": [
    "for i in dic1.item():\n",
    "    print (\"i[0] : {}\")    1{0} "
   ]
  },
  {
   "cell_type": "code",
   "execution_count": 35,
   "id": "ec7d3c86",
   "metadata": {},
   "outputs": [
    {
     "data": {
      "text/plain": [
       "True"
      ]
     },
     "execution_count": 35,
     "metadata": {},
     "output_type": "execute_result"
    }
   ],
   "source": [
    "'a' in dic1.keys()"
   ]
  },
  {
   "cell_type": "code",
   "execution_count": 36,
   "id": "51610422",
   "metadata": {},
   "outputs": [
    {
     "data": {
      "text/plain": [
       "True"
      ]
     },
     "execution_count": 36,
     "metadata": {},
     "output_type": "execute_result"
    }
   ],
   "source": [
    "1 in dic1.values()"
   ]
  },
  {
   "cell_type": "code",
   "execution_count": 37,
   "id": "0a353a02",
   "metadata": {},
   "outputs": [
    {
     "data": {
      "text/plain": [
       "True"
      ]
     },
     "execution_count": 37,
     "metadata": {},
     "output_type": "execute_result"
    }
   ],
   "source": [
    "'a' in dic1"
   ]
  },
  {
   "cell_type": "code",
   "execution_count": 39,
   "id": "96dde627",
   "metadata": {},
   "outputs": [
    {
     "data": {
      "text/plain": [
       "True"
      ]
     },
     "execution_count": 39,
     "metadata": {},
     "output_type": "execute_result"
    }
   ],
   "source": [
    "list1 = [1,2,3,4]\n",
    "1 in list1"
   ]
  },
  {
   "cell_type": "code",
   "execution_count": null,
   "id": "015ace5e",
   "metadata": {},
   "outputs": [],
   "source": []
  },
  {
   "cell_type": "code",
   "execution_count": 1,
   "id": "6260c450",
   "metadata": {},
   "outputs": [
    {
     "data": {
      "text/plain": [
       "{1, 2, 3, 4}"
      ]
     },
     "execution_count": 1,
     "metadata": {},
     "output_type": "execute_result"
    }
   ],
   "source": [
    "s1 = set([1,2,3,4])\n",
    "s1"
   ]
  },
  {
   "cell_type": "code",
   "execution_count": 45,
   "id": "5ae0321c",
   "metadata": {},
   "outputs": [
    {
     "data": {
      "text/plain": [
       "{2, 4, 5, 51}"
      ]
     },
     "execution_count": 45,
     "metadata": {},
     "output_type": "execute_result"
    }
   ],
   "source": [
    "\n",
    "s2 = {4,51,2,5}\n"
   ]
  },
  {
   "cell_type": "code",
   "execution_count": 50,
   "id": "bcca6a90",
   "metadata": {},
   "outputs": [],
   "source": [
    "s1.add('h')\n",
    "s1.add('e')"
   ]
  },
  {
   "cell_type": "code",
   "execution_count": 51,
   "id": "f3591d1b",
   "metadata": {},
   "outputs": [
    {
     "data": {
      "text/plain": [
       "{1, 2, 3, '3', 4, 'e', 'h'}"
      ]
     },
     "execution_count": 51,
     "metadata": {},
     "output_type": "execute_result"
    }
   ],
   "source": [
    "s1"
   ]
  },
  {
   "cell_type": "code",
   "execution_count": 52,
   "id": "66de6705",
   "metadata": {},
   "outputs": [],
   "source": [
    "s2.update([1,3])"
   ]
  },
  {
   "cell_type": "code",
   "execution_count": 53,
   "id": "e82a5f56",
   "metadata": {},
   "outputs": [
    {
     "data": {
      "text/plain": [
       "{1, 2, 3, 4, 5, 51}"
      ]
     },
     "execution_count": 53,
     "metadata": {},
     "output_type": "execute_result"
    }
   ],
   "source": [
    "s2"
   ]
  },
  {
   "cell_type": "code",
   "execution_count": 56,
   "id": "22c5365d",
   "metadata": {},
   "outputs": [
    {
     "ename": "KeyError",
     "evalue": "5",
     "output_type": "error",
     "traceback": [
      "\u001b[1;31m---------------------------------------------------------------------------\u001b[0m",
      "\u001b[1;31mKeyError\u001b[0m                                  Traceback (most recent call last)",
      "Cell \u001b[1;32mIn[56], line 1\u001b[0m\n\u001b[1;32m----> 1\u001b[0m s2\u001b[38;5;241m.\u001b[39mremove(\u001b[38;5;241m5\u001b[39m)\n\u001b[0;32m      2\u001b[0m s2\n",
      "\u001b[1;31mKeyError\u001b[0m: 5"
     ]
    }
   ],
   "source": [
    "s2.remove(5)"
   ]
  },
  {
   "cell_type": "code",
   "execution_count": 57,
   "id": "4e48b9cb",
   "metadata": {},
   "outputs": [
    {
     "data": {
      "text/plain": [
       "{1, 2, 3, 4, 51}"
      ]
     },
     "execution_count": 57,
     "metadata": {},
     "output_type": "execute_result"
    }
   ],
   "source": [
    "s2"
   ]
  },
  {
   "cell_type": "code",
   "execution_count": 4,
   "id": "ed4d7045",
   "metadata": {},
   "outputs": [
    {
     "data": {
      "text/plain": [
       "set"
      ]
     },
     "execution_count": 4,
     "metadata": {},
     "output_type": "execute_result"
    }
   ],
   "source": [
    "s1\n",
    "type(s1)"
   ]
  },
  {
   "cell_type": "code",
   "execution_count": 3,
   "id": "24a4ceb7",
   "metadata": {},
   "outputs": [
    {
     "data": {
      "text/plain": [
       "{1, 2, 3, 4}"
      ]
     },
     "execution_count": 3,
     "metadata": {},
     "output_type": "execute_result"
    }
   ],
   "source": [
    "list(s1)\n",
    "s1"
   ]
  },
  {
   "cell_type": "code",
   "execution_count": null,
   "id": "1278f839",
   "metadata": {},
   "outputs": [],
   "source": []
  },
  {
   "cell_type": "code",
   "execution_count": null,
   "id": "03250c26",
   "metadata": {},
   "outputs": [],
   "source": []
  },
  {
   "cell_type": "code",
   "execution_count": 5,
   "id": "361571a9",
   "metadata": {},
   "outputs": [
    {
     "name": "stdout",
     "output_type": "stream",
     "text": [
      "아무거나 입력해봐 : 0\n",
      "아무거나 입력해봐 : \n"
     ]
    }
   ],
   "source": [
    "i = 1\n",
    "while i :\n",
    "    i = input (\"아무거나 입력해봐 : \")"
   ]
  },
  {
   "cell_type": "code",
   "execution_count": null,
   "id": "65112c6c",
   "metadata": {},
   "outputs": [],
   "source": [
    "# 튜플 예제)\n",
    "\n",
    "# >>> for i in ((1,2),(3,4),(5,6)):\n",
    "# ...     print(i)\n",
    "# ...\n",
    "# (1, 2)\n",
    "# (3, 4)\n",
    "# (5, 6)\n",
    "\n",
    "# >>> for i,j in ((1,2),(3,4),(5,6)):\n",
    "# ...     print(\"i:{}, j:{}\".format(i,j))\n",
    "# ...\n",
    "# i:1, j:2\n",
    "# i:3, j:4\n",
    "# i:5, j:6\n",
    "# >>>\n",
    "# >>> for i in ((1,2),(3,4),(5,6)):\n",
    "# ...     print(\"i[0]:{}, i[1]:{}\".format(i[0],i[1]))\n",
    "# ...\n",
    "# i[0]:1, i[1]:2\n",
    "# i[0]:3, i[1]:4\n",
    "# i[0]:5, i[1]:6\n",
    "# >>>"
   ]
  },
  {
   "cell_type": "code",
   "execution_count": 10,
   "id": "30c63cc1",
   "metadata": {},
   "outputs": [
    {
     "name": "stdout",
     "output_type": "stream",
     "text": [
      "('a1', 'a2', 'a3', 'a4')\n",
      "('a1', 'a2', 'a3', 'a4', 'b1', 'b2', 'b3', 'b4')\n",
      "('a1', 'a2', 'a3', 'a4', 'b1', 'b2', 'b3', 'b4')\n"
     ]
    }
   ],
   "source": [
    "\n",
    "# 튜플 실습\n",
    "\n",
    "a=('a1','a2','a3','a4')\n",
    "b=('b1','b2','b3','b4')\n",
    "\n",
    "# q, w, e, r 변수에 튜플 a의 구성요소들을 차례대로 하나씩 넣으시오.\n",
    "\n",
    "q = a[0]\n",
    "w = a[1]\n",
    "e = a[2]\n",
    "r = a[3]\n",
    "\n",
    "q,w,e,r =a\n",
    "\n",
    "print(a)\n",
    "\n",
    "# a와 b를 더한 값을 c에 넣을 것\n",
    "c = a + b\n",
    "print (c)\n",
    "\n",
    "# c의 3번째 자리의 구성요소는 무엇인가?\n",
    "c[3]\n",
    "\n",
    "# 6번째 부터 끝까지의 구성요소는 무엇인가?\n",
    "c[6:]\n",
    "\n",
    "# 처음부터 3번째의 구성요소는 무엇인가?\n",
    "c[:3]\n",
    "print(c)\n",
    "# 4번째 구성요소 제거해 볼 것\n",
    "#오류\n",
    "\n",
    "# 5번째 구성요소의 값을 'c1'로 수정해볼 것\n",
    "#오류\n"
   ]
  },
  {
   "cell_type": "code",
   "execution_count": 14,
   "id": "461c8de5",
   "metadata": {},
   "outputs": [
    {
     "data": {
      "text/plain": [
       "('a', 'b', 'c', ['1', '2', 3, 4])"
      ]
     },
     "execution_count": 14,
     "metadata": {},
     "output_type": "execute_result"
    }
   ],
   "source": [
    "# ('a','b','c',[1,2,3,4]) 에서 튜플안의 리스트 구성요소 중 1,2를 문자열 형태로 바꾸어 보시오.\n",
    "\n",
    "tu1=('a','b','c',[1,2,3,4])\n",
    "\n",
    "tu1[3][0] = \"1\"\n",
    "tu1[3][1] = \"2\"\n",
    "\n",
    "tu1"
   ]
  },
  {
   "cell_type": "markdown",
   "id": "69f4d66a",
   "metadata": {},
   "source": [
    "딕셔너리 실습\n",
    "\n",
    "srp={'가위':'보','바위':'가위','보':'바위'}\n",
    "\n",
    "srp의 key list 생성\n",
    "\n",
    "\n",
    "\n",
    "srp의 value list 생성\n",
    "\n",
    "\n",
    "\n",
    "srp의 key와 value 의 한쌍으로된 리스트 생성\n",
    "\n",
    "\n",
    "\n",
    "srp의 key '가위'에 해당하는 value 출력\n",
    "\n",
    "\n",
    "\n",
    "srp에 '찌':'빠', '묵':'찌', '빠':'묵' 추가\n",
    "\n",
    "\n",
    "\n",
    "srp 보자기 라는 키가 있는지 확인\n",
    "\n",
    "\n",
    "\n",
    "'가위'라고 하는 value값에 해당하는 key 값을 찾도록 코딩해보시오. (단 '가위' 라는 value가 유일하다는 가정하에)\n",
    "\n",
    "\n",
    "\n",
    "Key=['a','b','c','d'],Value=[1,2,3,4] 를 이용해서 {'a':1,'b':2,'c':3,'d':4]를 만드시오."
   ]
  },
  {
   "cell_type": "code",
   "execution_count": 8,
   "id": "4176bec3",
   "metadata": {},
   "outputs": [
    {
     "name": "stdout",
     "output_type": "stream",
     "text": [
      "['가위', '바위', '보']\n",
      "['보', '가위', '바위']\n",
      "[('가위', '보'), ('바위', '가위'), ('보', '바위')]\n",
      "보\n",
      "False\n",
      "바위\n",
      "바위\n",
      "{'a': 1, 'b': 2, 'c': 3, 'd': 4}\n"
     ]
    }
   ],
   "source": [
    "# 딕셔너리 실습\n",
    "\n",
    "srp={'가위':'보','바위':'가위','보':'바위'}\n",
    "\n",
    "# srp의 key list 생성\n",
    "print(list(srp.keys()))\n",
    "\n",
    "# srp의 value list 생성\n",
    "print(list(srp.values()))\n",
    "\n",
    "# srp의 key와 value 의 한쌍으로된 리스트 생성\n",
    "print(list(srp.items()))\n",
    "\n",
    "# srp의 key '가위'에 해당하는 value 출력\n",
    "print(srp.get('가위'))\n",
    "\n",
    "# srp에 '찌':'빠', '묵':'찌', '빠':'묵' 추가\n",
    "srp['찌']= \"빠\"\n",
    "srp['묵']= \"찌\"\n",
    "srp['빠']= \"묵\"\n",
    "\n",
    "srp\n",
    "# srp 보자기 라는 키가 있는지 확인\n",
    "print('보자기' in srp.keys())\n",
    "\n",
    "# '가위'라고 하는 value값에 해당하는 key 값을 찾도록 코딩해보시오. (단 '가위' 라는 value가 유일하다는 가정하에)\n",
    "for i,j in srp.items():\n",
    "    if j == '가위' :\n",
    "        print(i)\n",
    "        \n",
    "for i in srp.keys():\n",
    "    if srp[i] == '가위':\n",
    "        print(i)\n",
    "        \n",
    "# list(srp.keys())[list(srp.values).index('가위')]\n",
    "# srp.values() 에서 '가위' 에 대한 인덱스 값을 srp.keys() 부여하면 key 값을 얻어낼수 있음\n",
    "\n",
    "# Key=['a','b','c','d'],Value=[1,2,3,4] 를 이용해서 {'a':1,'b':2,'c':3,'d':4]를 만드시오.\n",
    "\n",
    "Key =['a','b','c','d']\n",
    "Value =[1,2,3,4] \n",
    "\n",
    "dic1 = {}\n",
    "for i in  Key: \n",
    "    dic1[i] = Value[Key.index(i)]\n",
    "print(dic1)"
   ]
  },
  {
   "cell_type": "code",
   "execution_count": 2,
   "id": "ef1680d7",
   "metadata": {},
   "outputs": [
    {
     "name": "stdout",
     "output_type": "stream",
     "text": [
      "{1, 2, 3, 4}\n",
      "{'e', 'a', 'f', 'b', 'c', 'd'}\n",
      "{1, 2, 3, 4, 'a', 'b', 'c'}\n",
      "{1, 2, 'e', 'a', 'f', 'b', 'c', 'd'}\n",
      "{2, 'e', 'a', 'f', 'b', 'c', 'd'}\n"
     ]
    }
   ],
   "source": [
    "# a = [1,2,3,4] 로 set s1을 생성하시오.\n",
    "a = [1,2,3,4] \n",
    "s1 = set(a)\n",
    "print(s1)\n",
    "# b = \"aabbccddeeff\"로 set s2를 생성하시오.\n",
    "b = \"aabbccddeeff\"\n",
    "s2 = set(b)\n",
    "print(s2)\n",
    "# s1 에 a,b,c 를 추가하시오.\n",
    "s1.update(['a','b','c'])\n",
    "print(s1)\n",
    "# s2 에 1,2를 추가하시오.\n",
    "s2.update([1,2])\n",
    "print(s2)\n",
    "# s1과 s2의 교집합을 구하시오.(2가지 방법 모두 )\n",
    "s1 & s2\n",
    "# s1과 s2의 합집합을 구하시오.(2가지 방법 모두)\n",
    "s1 | s2\n",
    "# s1과 s2의 차집합을 구하시오.(기호)\n",
    "s1 - s2\n",
    "# s2와 s1의 차집합을 구하시오.(함수)\n",
    "s2.difference(s1)\n",
    "# s2에서 1을 빼보시오.\n",
    "s2.remove(1)\n",
    "print(s2)"
   ]
  },
  {
   "cell_type": "code",
   "execution_count": null,
   "id": "0d58e568",
   "metadata": {},
   "outputs": [],
   "source": [
    "\n",
    "\n"
   ]
  }
 ],
 "metadata": {
  "kernelspec": {
   "display_name": "Python 3 (ipykernel)",
   "language": "python",
   "name": "python3"
  },
  "language_info": {
   "codemirror_mode": {
    "name": "ipython",
    "version": 3
   },
   "file_extension": ".py",
   "mimetype": "text/x-python",
   "name": "python",
   "nbconvert_exporter": "python",
   "pygments_lexer": "ipython3",
   "version": "3.11.3"
  }
 },
 "nbformat": 4,
 "nbformat_minor": 5
}
