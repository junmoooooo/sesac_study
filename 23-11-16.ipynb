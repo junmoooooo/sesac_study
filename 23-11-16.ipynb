{
 "cells": [
  {
   "cell_type": "markdown",
   "id": "82dd8ed7",
   "metadata": {},
   "source": [
    "입력값도 있고 출력도 있습니다.      >> input()\n",
    "<br>\n",
    "입력값은 있지만 출력 값이 없다      >> print()\n",
    "<br>\n",
    "입력값은 없지만 출력이 있다         >> \n",
    "<br>\n",
    "입력값도 없고 출력도 없어           >> exit() ??"
   ]
  },
  {
   "cell_type": "markdown",
   "id": "e15b78f6",
   "metadata": {},
   "source": [
    "키워드 매개변수\n",
    "<br>\n",
    "* >  변수의 개수에 상관없이,,?? 들어오는 값들을 튜플로 저장....\n",
    "<br>\n",
    "** > 딕셔너리로 저장\n"
   ]
  },
  {
   "cell_type": "code",
   "execution_count": 2,
   "id": "bccba9ef",
   "metadata": {},
   "outputs": [
    {
     "data": {
      "text/plain": [
       "(1.2, (), {'a': 1})"
      ]
     },
     "execution_count": 2,
     "metadata": {},
     "output_type": "execute_result"
    }
   ],
   "source": [
    "def test4(x,*y,**z):\n",
    "    return  x,y,z\n",
    "\n",
    "test4(1.2,a=1)"
   ]
  },
  {
   "cell_type": "markdown",
   "id": "e87a30d0",
   "metadata": {},
   "source": [
    "글로벌 변수 \n"
   ]
  },
  {
   "cell_type": "code",
   "execution_count": null,
   "id": "58de9d05",
   "metadata": {},
   "outputs": [],
   "source": [
    "def test3"
   ]
  },
  {
   "cell_type": "code",
   "execution_count": 4,
   "id": "9601f219",
   "metadata": {},
   "outputs": [],
   "source": [
    "add2=lambda i,j : i+j"
   ]
  },
  {
   "cell_type": "code",
   "execution_count": 6,
   "id": "2530c75f",
   "metadata": {},
   "outputs": [
    {
     "data": {
      "text/plain": [
       "function"
      ]
     },
     "execution_count": 6,
     "metadata": {},
     "output_type": "execute_result"
    }
   ],
   "source": [
    "type(add2)"
   ]
  },
  {
   "cell_type": "code",
   "execution_count": 7,
   "id": "4ba956bb",
   "metadata": {},
   "outputs": [],
   "source": [
    "test2 = lambda list1 : [i*3 for i in list1]"
   ]
  },
  {
   "cell_type": "code",
   "execution_count": null,
   "id": "370d6a30",
   "metadata": {},
   "outputs": [],
   "source": [
    "test2(list(range(10)))"
   ]
  },
  {
   "cell_type": "code",
   "execution_count": 15,
   "id": "bb892a64",
   "metadata": {},
   "outputs": [
    {
     "data": {
      "text/plain": [
       "'비트코인비트코인비트코인비트코인비트코인비트코인비트코인비트코인비트코인비트코인비트코인비트코인비트코인비트코인비트코인비트코인비트코인비트코인비트코인비트코인비트코인비트코인비트코인비트코인비트코인비트코인비트코인비트코인비트코인비트코인비트코인비트코인비트코인비트코인비트코인비트코인비트코인비트코인비트코인비트코인비트코인비트코인비트코인비트코인비트코인비트코인비트코인비트코인비트코인비트코인비트코인비트코인비트코인비트코인비트코인비트코인비트코인비트코인비트코인비트코인비트코인비트코인비트코인비트코인비트코인비트코인비트코인비트코인비트코인비트코인비트코인비트코인비트코인비트코인비트코인비트코인비트코인비트코인비트코인비트코인비트코인비트코인비트코인비트코인비트코인비트코인비트코인비트코인비트코인비트코인비트코인비트코인비트코인비트코인비트코인비트코인비트코인비트코인비트코인비트코인'"
      ]
     },
     "execution_count": 15,
     "metadata": {},
     "output_type": "execute_result"
    }
   ],
   "source": [
    "# 1. \"비트코인\" 문자열을 화면에 출력하는 print_coin() 함수를 정의하라.\n",
    "def print_coin():\n",
    "    return \"비트코인\"\n",
    "\n",
    "# 2. 1번에서 정의한 함수를 호출하라.\n",
    "print_coin()\n",
    "\n",
    "# 3. \"비트코인\" 문자열을 100번 화면에 출력하는 print_coins() 함수를 정의하라.\n",
    "def print_coins():\n",
    "    return print_coin() *100\n",
    "    \n",
    "print_coins()"
   ]
  },
  {
   "cell_type": "code",
   "execution_count": 17,
   "id": "56bb2cb8",
   "metadata": {},
   "outputs": [
    {
     "name": "stdout",
     "output_type": "stream",
     "text": [
      "Hi\n"
     ]
    }
   ],
   "source": [
    "# 4. 아래의 에러가 발생하는 이유에 대해 설명하라.\n",
    "\n",
    "# hello()\n",
    "# def hello():\n",
    "#     print(\"Hi\")\n",
    "# 실행 예\n",
    "\n",
    "# NameError: name 'hello' is not defined\n",
    "\n",
    "# 정의하고 호출해라 이자삭아\n",
    "\n",
    "\n",
    "# def hello():\n",
    "#     print(\"Hi\")\n",
    "# hello()"
   ]
  },
  {
   "cell_type": "code",
   "execution_count": 18,
   "id": "f57df0bc",
   "metadata": {},
   "outputs": [
    {
     "name": "stdout",
     "output_type": "stream",
     "text": [
      "A\n",
      "B\n",
      "C\n",
      "A\n",
      "B\n"
     ]
    }
   ],
   "source": [
    "# 5. 아래 코드의 실행 결과를 예측하라.\n",
    "\n",
    "def message() :\n",
    "    print(\"A\")\n",
    "    print(\"B\")\n",
    "\n",
    "message()\n",
    "print(\"C\")\n",
    "message()\n",
    "\n",
    "\n"
   ]
  },
  {
   "cell_type": "code",
   "execution_count": 19,
   "id": "1d8ff219",
   "metadata": {},
   "outputs": [
    {
     "name": "stdout",
     "output_type": "stream",
     "text": [
      "B\n",
      "C\n",
      "B\n",
      "C\n",
      "B\n",
      "C\n",
      "A\n"
     ]
    }
   ],
   "source": [
    "# 6. 아래 코드의 실행 결과를 예측하라.\n",
    "\n",
    "def message1():\n",
    "    print(\"A\")\n",
    "\n",
    "def message2():\n",
    "    print(\"B\")\n",
    "\n",
    "def message3():\n",
    "    for i in range (3) :\n",
    "        message2()\n",
    "        print(\"C\")\n",
    "    message1()\n",
    "\n",
    "message3()\n",
    "\n"
   ]
  },
  {
   "cell_type": "code",
   "execution_count": 22,
   "id": "76082b6d",
   "metadata": {},
   "outputs": [
    {
     "name": "stdout",
     "output_type": "stream",
     "text": [
      "ㅁㅇ\n"
     ]
    }
   ],
   "source": [
    "# 7. 아래와 같은 에러가 발생하는 원인을 설명하라.\n",
    "\n",
    "# def test1(a) :\n",
    "#     print(a)\n",
    "\n",
    "# test1()\n",
    "# TypeError: 함수() missing 1 required positional argument: '문자열'\n",
    "\n",
    "# def test1(a) :\n",
    "#     print(a)\n",
    "\n",
    "# test1()\n",
    "\n",
    "#test1에 입력값이 없잔아\n",
    "\n",
    "# def test1(a) :\n",
    "#     print(a)\n",
    "\n",
    "# test1(\"ㄴㅇㄴㅇㄴ\")\n"
   ]
  },
  {
   "cell_type": "code",
   "execution_count": 24,
   "id": "36c108c4",
   "metadata": {},
   "outputs": [
    {
     "name": "stdout",
     "output_type": "stream",
     "text": [
      "안녕세상아\n"
     ]
    }
   ],
   "source": [
    "# 8. 아래와 같은 에러가 발생하는 원인을 설명하라.\n",
    "# def test2(a, b) :\n",
    "#     print(a + b)\n",
    "\n",
    "# test2(\"안녕\", 3)\n",
    "# TypeError: must be str, not int\n",
    "\n",
    "#문자열과 정수형을 어떻게 더할라구..\n",
    "\n",
    "def test2(a, b) :\n",
    "    print(a + b)\n",
    "\n",
    "test2(\"안녕\", \"세상아\")\n"
   ]
  },
  {
   "cell_type": "code",
   "execution_count": 26,
   "id": "ab55c407",
   "metadata": {},
   "outputs": [
    {
     "name": "stdout",
     "output_type": "stream",
     "text": [
      "sd\n",
      "sd :D\n"
     ]
    }
   ],
   "source": [
    "# 9. 하나의 문자를 입력받아 문자열 끝에 \":D\" 스마일 문자열을 이어 붙여 출력하는 print_with_smile 함수를 정의한 후 호출해보시오.\n",
    "\n",
    "str1 = input()\n",
    "def print_with_smile():\n",
    "    print(\"{} :D\".format(str1))\n",
    "    \n",
    "\n",
    "print_with_smile()\n",
    "\n"
   ]
  },
  {
   "cell_type": "code",
   "execution_count": 62,
   "id": "822ce493",
   "metadata": {},
   "outputs": [
    {
     "name": "stdout",
     "output_type": "stream",
     "text": [
      "456456\n",
      "456456\n",
      "456456\n",
      "456456\n",
      "456456\n",
      "합 : 912912, 차 : 0, 곱 : 208352079936, 나 : 1.0\n"
     ]
    },
    {
     "data": {
      "text/plain": [
       "int"
      ]
     },
     "execution_count": 62,
     "metadata": {},
     "output_type": "execute_result"
    }
   ],
   "source": [
    "# 10. 현재 가격을 입력 받아 상한가 (30%)를 출력하는 print_upper_price 함수를 정의하라.\n",
    "\n",
    "price = (int)(input())\n",
    "\n",
    "def print_upper_price(price) :\n",
    "    return (int)(price  * 0.3)\n",
    "\n",
    "\n",
    "print_upper_price(price)\n",
    "\n",
    "# 11.두 개의 숫자를 입력받아 두 수의 합을 출력하는 print_sum 함수를 정의하라.\n",
    "x = (int)(input())\n",
    "y = (int)(input())\n",
    "\n",
    "def print_sum(a,b):\n",
    "    return a+b\n",
    "\n",
    "print_sum(x,y)\n",
    "\n",
    "# 12.두 개의 숫자를 입력받아 합/차/곱/나눗셈을 출력하는 print_arithmetic_operation 함수를 작성하라.\n",
    "\n",
    "i = (int)(input())\n",
    "j = (int)(input())\n",
    "\n",
    "def print_sum(a,b):\n",
    "    print (\"합 : {}, 차 : {}, 곱 : {}, 나 : {}\".format(a+b,a-b,a*b,a/b))\n",
    "    \n",
    "print_sum(i,j)"
   ]
  },
  {
   "cell_type": "code",
   "execution_count": 61,
   "id": "3cd8d376",
   "metadata": {},
   "outputs": [
    {
     "name": "stdout",
     "output_type": "stream",
     "text": [
      "5846\n",
      "5215\n",
      "54\n",
      "5846\n"
     ]
    },
    {
     "data": {
      "text/plain": [
       "int"
      ]
     },
     "execution_count": 61,
     "metadata": {},
     "output_type": "execute_result"
    }
   ],
   "source": [
    "# 13. 세 개의 숫자를 입력받아 가장 큰수를 출력하는 print_max 함수를 정의하라. 단 if 문을 사용해서 수를 비교하라.\n",
    "x = int(input())\n",
    "y = int(input())\n",
    "z = int(input())\n",
    "\n",
    "def  print_max(x,y,z):\n",
    "    max =x\n",
    "    if max < y :\n",
    "        max=y\n",
    "    if max <z :\n",
    "        max=z\n",
    "    print(max)\n",
    "    \n",
    "print_max(x,y,z)\n"
   ]
  },
  {
   "cell_type": "code",
   "execution_count": null,
   "id": "d82b3a5c",
   "metadata": {},
   "outputs": [],
   "source": [
    "# 14. 하나의 딕셔너리를 입력받아 딕셔너리의 key 값을 화면에 출력하는 print_keys 함수를 정의하라.\n",
    "\n",
    "print_keys ({\"이름\":\"김말똥\", \"나이\":30, \"성별\":0})\n",
    "# 이름\n",
    "# 나이\n",
    "# 성별\n",
    "\n",
    "\n",
    "\n",
    "\n"
   ]
  },
  {
   "cell_type": "code",
   "execution_count": 8,
   "id": "8bea3230",
   "metadata": {},
   "outputs": [
    {
     "data": {
      "text/plain": [
       "[0, 3, 6, 9, 12, 15, 18, 21, 24, 27]"
      ]
     },
     "execution_count": 8,
     "metadata": {},
     "output_type": "execute_result"
    }
   ],
   "source": [
    "# 15. my_dict에는 날짜를 키값으로 OHLC가 리스트로 저장돼 있다.\n",
    "\n",
    "my_dict = {\"10/26\" : [100, 130, 100, 100],\n",
    "           \"10/27\" : [10, 12, 10, 11]}\n",
    "# my_dict와 날짜 키값을 입력받아 OHLC 리스트를 출력하는 print_value_by_key 함수를 정의하라.\n",
    "\n"
   ]
  },
  {
   "cell_type": "code",
   "execution_count": null,
   "id": "81590ae3",
   "metadata": {},
   "outputs": [],
   "source": [
    "# 16. 연봉을 입력받아 월급을 계산하는 calc_monthly_salary(annual_salary) 함수를 정의하라. \n",
    "#     회사는 연봉을 12개월로 나누어 분할 지급하며, 이 때 1원 미만은 버림한다.\n",
    "\n",
    "\n",
    "\n",
    "# calc_monthly_salary(12000000)\n",
    "# 1000000\n",
    "\n"
   ]
  },
  {
   "cell_type": "code",
   "execution_count": null,
   "id": "db8136a0",
   "metadata": {},
   "outputs": [],
   "source": []
  },
  {
   "cell_type": "code",
   "execution_count": null,
   "id": "6deb91b4",
   "metadata": {},
   "outputs": [],
   "source": []
  },
  {
   "cell_type": "code",
   "execution_count": null,
   "id": "262cbd5d",
   "metadata": {},
   "outputs": [],
   "source": []
  },
  {
   "cell_type": "code",
   "execution_count": 9,
   "id": "2b63838b",
   "metadata": {},
   "outputs": [],
   "source": [
    "\n",
    "# 17. 아래 코드의 실행 결과를 예측하라.\n",
    "\n",
    "# def my_print (a, b) :\n",
    "#     print(\"왼쪽:\", a)\n",
    "#     print(\"오른쪽:\", b)\n",
    "\n",
    "# my_print(a=100, b=200)\n",
    "\n",
    "\n",
    "\n",
    "# 18.아래 코드의 실행 결과를 예측하라.\n",
    "\n",
    "# def my_print (a, b) :\n",
    "#     print(\"왼쪽:\", a)\n",
    "#     print(\"오른쪽:\", b)\n",
    "\n",
    "# my_print(b=100, a=200)\n",
    "\n",
    " \n",
    "\n",
    "# 19. 입력된 문자열을 역순으로 출력하는 print_reverse 함수를 정의하라.\n",
    "\n",
    "\n",
    "\n",
    "# 20. 성적 리스트를 입력 받아 평균을 출력하는 print_score 함수를 정의하라.\n",
    "\n",
    "\n",
    "\n",
    "# 21. 하나의 리스트를 입력받아 짝수만 화면에 출력하는 print_even 함수를 정의하라.\n",
    "\n"
   ]
  },
  {
   "cell_type": "code",
   "execution_count": null,
   "id": "a6446b7e",
   "metadata": {},
   "outputs": [],
   "source": []
  }
 ],
 "metadata": {
  "kernelspec": {
   "display_name": "Python 3 (ipykernel)",
   "language": "python",
   "name": "python3"
  },
  "language_info": {
   "codemirror_mode": {
    "name": "ipython",
    "version": 3
   },
   "file_extension": ".py",
   "mimetype": "text/x-python",
   "name": "python",
   "nbconvert_exporter": "python",
   "pygments_lexer": "ipython3",
   "version": "3.11.3"
  }
 },
 "nbformat": 4,
 "nbformat_minor": 5
}
