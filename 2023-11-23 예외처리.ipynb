{
 "cells": [
  {
   "cell_type": "code",
   "execution_count": 1,
   "id": "c03e0eed",
   "metadata": {},
   "outputs": [
    {
     "ename": "ZeroDivisionError",
     "evalue": "division by zero",
     "output_type": "error",
     "traceback": [
      "\u001b[1;31m---------------------------------------------------------------------------\u001b[0m",
      "\u001b[1;31mZeroDivisionError\u001b[0m                         Traceback (most recent call last)",
      "Cell \u001b[1;32mIn[1], line 1\u001b[0m\n\u001b[1;32m----> 1\u001b[0m \u001b[38;5;241m1\u001b[39m\u001b[38;5;241m/\u001b[39m\u001b[38;5;241m0\u001b[39m\n",
      "\u001b[1;31mZeroDivisionError\u001b[0m: division by zero"
     ]
    }
   ],
   "source": [
    "1/0"
   ]
  },
  {
   "cell_type": "code",
   "execution_count": 5,
   "id": "a729e702",
   "metadata": {},
   "outputs": [
    {
     "name": "stdout",
     "output_type": "stream",
     "text": [
      "인덱스가 존재하지 않습니다\n"
     ]
    }
   ],
   "source": [
    "try :\n",
    "    list1=[1,2,3,4]\n",
    "    list1[5]\n",
    "    int(ilst1)\n",
    "except IndexError:\n",
    "    print(\"인덱스가 존재하지 않습니다\")\n",
    "\n",
    "except TypeError:\n",
    "    print (\"타입이 틀립니다.\")"
   ]
  },
  {
   "cell_type": "code",
   "execution_count": 7,
   "id": "6dc5c652",
   "metadata": {},
   "outputs": [
    {
     "name": "stdout",
     "output_type": "stream",
     "text": [
      "숫자를 입력하세요 : asd2\n",
      "잘못 입력하셨습니다.\n",
      "숫자를 입력하세요 : 2\n"
     ]
    }
   ],
   "source": [
    "while 1:\n",
    "    a=0\n",
    "    num1 = input(\"숫자를 입력하세요 : \")\n",
    "    try :\n",
    "        num1 = (int(num1))\n",
    "    except ValueError:\n",
    "        a=1\n",
    "        print(\"잘못 입력하셨습니다.\")\n",
    "    if a==0:\n",
    "        break"
   ]
  },
  {
   "cell_type": "code",
   "execution_count": 9,
   "id": "84b3a7f0",
   "metadata": {},
   "outputs": [
    {
     "name": "stdout",
     "output_type": "stream",
     "text": [
      "finally test\n"
     ]
    },
    {
     "ename": "TypeError",
     "evalue": "write() argument must be str, not list",
     "output_type": "error",
     "traceback": [
      "\u001b[1;31m---------------------------------------------------------------------------\u001b[0m",
      "\u001b[1;31mTypeError\u001b[0m                                 Traceback (most recent call last)",
      "Cell \u001b[1;32mIn[9], line 4\u001b[0m\n\u001b[0;32m      1\u001b[0m f\u001b[38;5;241m=\u001b[39m \u001b[38;5;28mopen\u001b[39m(\u001b[38;5;124m\"\u001b[39m\u001b[38;5;124mtest2.txt\u001b[39m\u001b[38;5;124m\"\u001b[39m, \u001b[38;5;124m\"\u001b[39m\u001b[38;5;124mw\u001b[39m\u001b[38;5;124m\"\u001b[39m)\n\u001b[0;32m      3\u001b[0m \u001b[38;5;28;01mtry\u001b[39;00m :\n\u001b[1;32m----> 4\u001b[0m     f\u001b[38;5;241m.\u001b[39mwrite([\u001b[38;5;241m1\u001b[39m,\u001b[38;5;241m2\u001b[39m,\u001b[38;5;241m3\u001b[39m,\u001b[38;5;241m4\u001b[39m])\n\u001b[0;32m      5\u001b[0m \u001b[38;5;28;01mfinally\u001b[39;00m:\n\u001b[0;32m      6\u001b[0m     \u001b[38;5;28mprint\u001b[39m(\u001b[38;5;124m\"\u001b[39m\u001b[38;5;124mfinally test\u001b[39m\u001b[38;5;124m\"\u001b[39m)\n",
      "\u001b[1;31mTypeError\u001b[0m: write() argument must be str, not list"
     ]
    }
   ],
   "source": [
    "f= open(\"test2.txt\", \"w\")\n",
    "\n",
    "try :\n",
    "    f.write([1,2,3,4])\n",
    "finally:\n",
    "    print(\"finally test\")\n",
    "    f.close()"
   ]
  },
  {
   "cell_type": "code",
   "execution_count": 10,
   "id": "4162502f",
   "metadata": {},
   "outputs": [],
   "source": [
    "try:\n",
    "    int([1,2,3,4,])\n",
    "except:\n",
    "    pass"
   ]
  },
  {
   "cell_type": "code",
   "execution_count": 11,
   "id": "8f3e5b61",
   "metadata": {},
   "outputs": [
    {
     "ename": "Error1",
     "evalue": "",
     "output_type": "error",
     "traceback": [
      "\u001b[1;31m---------------------------------------------------------------------------\u001b[0m",
      "\u001b[1;31mError1\u001b[0m                                    Traceback (most recent call last)",
      "Cell \u001b[1;32mIn[11], line 5\u001b[0m\n\u001b[0;32m      2\u001b[0m     \u001b[38;5;28;01mpass\u001b[39;00m\n\u001b[0;32m      4\u001b[0m \u001b[38;5;28;01mif\u001b[39;00m \u001b[38;5;241m1\u001b[39m:\n\u001b[1;32m----> 5\u001b[0m     \u001b[38;5;28;01mraise\u001b[39;00m Error1()\n",
      "\u001b[1;31mError1\u001b[0m: "
     ]
    }
   ],
   "source": [
    "class Error1(Exception):\n",
    "    pass\n",
    "\n",
    "if 1:\n",
    "    raise Error1()"
   ]
  },
  {
   "cell_type": "code",
   "execution_count": 12,
   "id": "bdc93fdd",
   "metadata": {},
   "outputs": [
    {
     "ename": "Error1",
     "evalue": "조건문이 참입니다",
     "output_type": "error",
     "traceback": [
      "\u001b[1;31m---------------------------------------------------------------------------\u001b[0m",
      "\u001b[1;31mError1\u001b[0m                                    Traceback (most recent call last)",
      "Cell \u001b[1;32mIn[12], line 6\u001b[0m\n\u001b[0;32m      3\u001b[0m         \u001b[38;5;28;01mreturn\u001b[39;00m (\u001b[38;5;124m'\u001b[39m\u001b[38;5;124m조건문이 참입니다\u001b[39m\u001b[38;5;124m'\u001b[39m)\n\u001b[0;32m      5\u001b[0m \u001b[38;5;28;01mif\u001b[39;00m \u001b[38;5;241m1\u001b[39m:\n\u001b[1;32m----> 6\u001b[0m     \u001b[38;5;28;01mraise\u001b[39;00m Error1()\n",
      "\u001b[1;31mError1\u001b[0m: 조건문이 참입니다"
     ]
    }
   ],
   "source": [
    "class Error1(Exception):\n",
    "    def __str__(self):\n",
    "        return ('조건문이 참입니다')\n",
    "\n",
    "if 1:\n",
    "    raise Error1()"
   ]
  },
  {
   "cell_type": "code",
   "execution_count": 13,
   "id": "eb87c87f",
   "metadata": {},
   "outputs": [
    {
     "name": "stdout",
     "output_type": "stream",
     "text": [
      "조건문이 참입니다\n"
     ]
    }
   ],
   "source": [
    "try : \n",
    "    if 1:\n",
    "        raise Error1()\n",
    "except Error1 as e:\n",
    "    print(e)"
   ]
  },
  {
   "cell_type": "code",
   "execution_count": 15,
   "id": "6e1c3baf",
   "metadata": {},
   "outputs": [
    {
     "ename": "TypeError",
     "evalue": "test() missing 1 required positional argument: 'c'",
     "output_type": "error",
     "traceback": [
      "\u001b[1;31m---------------------------------------------------------------------------\u001b[0m",
      "\u001b[1;31mTypeError\u001b[0m                                 Traceback (most recent call last)",
      "Cell \u001b[1;32mIn[15], line 3\u001b[0m\n\u001b[0;32m      1\u001b[0m \u001b[38;5;28;01mdef\u001b[39;00m \u001b[38;5;21mtest\u001b[39m(a,b,c):\n\u001b[0;32m      2\u001b[0m     \u001b[38;5;28;01mreturn\u001b[39;00m a,b\n\u001b[1;32m----> 3\u001b[0m test(\u001b[38;5;241m1\u001b[39m,\u001b[38;5;241m2\u001b[39m)\n",
      "\u001b[1;31mTypeError\u001b[0m: test() missing 1 required positional argument: 'c'"
     ]
    }
   ],
   "source": [
    "def test(a,b,c):\n",
    "    return a,b\n",
    "test(1,2)"
   ]
  },
  {
   "cell_type": "code",
   "execution_count": 16,
   "id": "b6a16e95",
   "metadata": {},
   "outputs": [
    {
     "ename": "SyntaxError",
     "evalue": "'(' was never closed (3781146567.py, line 2)",
     "output_type": "error",
     "traceback": [
      "\u001b[1;36m  Cell \u001b[1;32mIn[16], line 2\u001b[1;36m\u001b[0m\n\u001b[1;33m    print(\"123)\"\u001b[0m\n\u001b[1;37m         ^\u001b[0m\n\u001b[1;31mSyntaxError\u001b[0m\u001b[1;31m:\u001b[0m '(' was never closed\n"
     ]
    }
   ],
   "source": [
    "try : \n",
    "    print(\"123)\"\n",
    "except:\n",
    "    print(\"errpr\")"
   ]
  },
  {
   "cell_type": "code",
   "execution_count": 13,
   "id": "22f296a3",
   "metadata": {},
   "outputs": [
    {
     "name": "stdout",
     "output_type": "stream",
     "text": [
      "오류가 발생하였습니다.\n",
      "0\n",
      "다시 코딩하시오\n",
      "name 'q' is not defined\n",
      "에러발생\n",
      "파일 닫아!\n",
      "문자를 입력하시오 : A\n"
     ]
    },
    {
     "ename": "A_Error",
     "evalue": "'A를 입력하지 마시오.'",
     "output_type": "error",
     "traceback": [
      "\u001b[1;31m---------------------------------------------------------------------------\u001b[0m",
      "\u001b[1;31mA_Error\u001b[0m                                   Traceback (most recent call last)",
      "Cell \u001b[1;32mIn[13], line 85\u001b[0m\n\u001b[0;32m     83\u001b[0m a \u001b[38;5;241m=\u001b[39m \u001b[38;5;28minput\u001b[39m(\u001b[38;5;124m\"\u001b[39m\u001b[38;5;124m문자를 입력하시오 : \u001b[39m\u001b[38;5;124m\"\u001b[39m)\n\u001b[0;32m     84\u001b[0m \u001b[38;5;28;01mif\u001b[39;00m a \u001b[38;5;241m==\u001b[39m \u001b[38;5;124m\"\u001b[39m\u001b[38;5;124mA\u001b[39m\u001b[38;5;124m\"\u001b[39m:\n\u001b[1;32m---> 85\u001b[0m     \u001b[38;5;28;01mraise\u001b[39;00m A_Error()\n",
      "\u001b[1;31mA_Error\u001b[0m: 'A를 입력하지 마시오.'"
     ]
    }
   ],
   "source": [
    "# 1.어떠한 오류가 발생하든지 간에 \"오류가 발생하였습니다.\"가 출력 되도록 하시오.\n",
    "\n",
    "# 예제) \n",
    "# 실행\n",
    "# a={\"a\":1,\"b\":3,\"c\":5}\n",
    "# print(a[\"d\"])\n",
    "\n",
    "# 결과\n",
    "# \"오류가 발생하였습니다.\"\n",
    "\n",
    "try:\n",
    "    a={\"a\":1,\"b\":3,\"c\":5}\n",
    "    print(a[\"d\"])\n",
    "except:\n",
    "    print(\"오류가 발생하였습니다.\")\n",
    "\n",
    "\n",
    "# 2.분모가 0일때 오류 말고 \"분모가 0 입니다.\"가 출력 되도록 하시오.\n",
    "\n",
    "# try :\n",
    "#     a=input()\n",
    "#     b=input()\n",
    "#     a/b\n",
    "# except TypeError :\n",
    "#     print(\"분모가 0 입니다\")\n",
    "\n",
    "# 3.변수 선언을 하지 않은 변수를 사용할 경우 \"존재하지 않는 변수입니다.\"가 출력되도록 하시오.\n",
    "\n",
    "# try :\n",
    "#     print(q)\n",
    "# except NameError:\n",
    "#     print(\"존재하지 않는 변수입니다\")\n",
    "\n",
    "\n",
    "\n",
    "# 4.1번과 2번 오류를 동시에 예외처리해서 \"다시 코딩하시오.\"를 출력되도록 하시오.\n",
    "\n",
    "try:\n",
    "    a={\"a\":1,\"b\":3,\"c\":5, \"d\":0}\n",
    "    print(a[\"d\"])\n",
    "    a[0]/a[3]\n",
    "except TypeError:\n",
    "    print(\"오류가 발생하였습니다.\")\n",
    "except KeyError:\n",
    "    print(\"다시 코딩하시오\")\n",
    "\n",
    "\n",
    "\n",
    "# 5.3번 오류의 오류 메세지가 출력되도록 하시오.\n",
    "\n",
    "try :\n",
    "    print(q)\n",
    "except NameError as e :\n",
    "    print (e)\n",
    "\n",
    "\n",
    "# 6.test.txt 파일이 쓰기모드로 열었을 경우 에러가 발생하더라도 파일 닫기가 되도록 하시오.\n",
    "\n",
    "try:\n",
    "    f1 = open(\"text2.txt\",'w')\n",
    "    f1.write([1,2,3,4])\n",
    "except :\n",
    "    print(\"에러발생\")\n",
    "finally :\n",
    "    print(\"파일 닫아!\")\n",
    "    f1.close()\n",
    "    \n",
    "\n",
    "\n",
    "# 7.변수값으로 'A'를 입력할 경우 오류가 발생되서 \"'A'를 입력하지마시오.\" 오류 메세지가 발생하도록 하시오.\n",
    "\n",
    "# try :\n",
    "#     a = input(\"A를 넣어보세요\")\n",
    "#     if a ==\"A\":\n",
    "#         raise Error1()\n",
    "# except Error1:\n",
    "#     print(\"A를 입력하지 마시오\")\n",
    "\n",
    "class A_Error(Exception):\n",
    "    def __str__(self):\n",
    "        return \"'A를 입력하지 마시오.'\"\n",
    "\n",
    "a = input(\"문자를 입력하시오 : \")\n",
    "if a == \"A\":\n",
    "    raise A_Error()\n",
    "\n"
   ]
  },
  {
   "cell_type": "code",
   "execution_count": null,
   "id": "84f5e253",
   "metadata": {},
   "outputs": [],
   "source": []
  },
  {
   "cell_type": "code",
   "execution_count": null,
   "id": "2401eee3",
   "metadata": {},
   "outputs": [],
   "source": []
  }
 ],
 "metadata": {
  "kernelspec": {
   "display_name": "Python 3 (ipykernel)",
   "language": "python",
   "name": "python3"
  },
  "language_info": {
   "codemirror_mode": {
    "name": "ipython",
    "version": 3
   },
   "file_extension": ".py",
   "mimetype": "text/x-python",
   "name": "python",
   "nbconvert_exporter": "python",
   "pygments_lexer": "ipython3",
   "version": "3.11.3"
  }
 },
 "nbformat": 4,
 "nbformat_minor": 5
}
