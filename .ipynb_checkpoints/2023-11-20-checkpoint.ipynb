{
 "cells": [
  {
   "cell_type": "code",
   "execution_count": 1,
   "id": "fb130b8e",
   "metadata": {},
   "outputs": [
    {
     "name": "stdout",
     "output_type": "stream",
     "text": [
      "1\n",
      "2\n",
      "4\n",
      "3\n",
      "5\n"
     ]
    }
   ],
   "source": [
    "# 아래 코드의 출력 결과를 예상해보시오.\n",
    "\n",
    "\n",
    "if True :\n",
    "    print (\"1\")\n",
    "    print (\"2\")\n",
    "else :\n",
    "    print(\"3\")\n",
    "print(\"4\")\n",
    "\n",
    "# 1,2,4\n",
    "\n",
    "if True :\n",
    "    if False:\n",
    "        print(\"1\")\n",
    "        print(\"2\")\n",
    "    else:\n",
    "        print(\"3\")\n",
    "else :\n",
    "    print(\"4\")\n",
    "print(\"5\")\n",
    "\n",
    "# 3,5\n"
   ]
  },
  {
   "cell_type": "code",
   "execution_count": 4,
   "id": "cc0c6652",
   "metadata": {},
   "outputs": [
    {
     "name": "stdout",
     "output_type": "stream",
     "text": [
      "현재 시간12\n",
      "현재 분01\n",
      "12 : 01\n",
      "12 : 01 => 정각이 아닙니다\n"
     ]
    }
   ],
   "source": [
    "# 3 input()을 통해서 입력 받은 시간이 정각인지 판별하는 코드를 작성해 보시오.\n",
    "#    예) 12:00 => \"정각입니다.\" 출력\n",
    "#        12:01 => \"정각이 아닙니다.\" 출력\n",
    "\n",
    "h = input(\"현재 시간\")\n",
    "m = input(\"현재 분\")\n",
    "\n",
    "time = (\"{} : {}\".format(h,m))\n",
    "\n",
    "print(time)\n",
    "\n",
    "if(m != '00'):\n",
    "    print(\"{} => 정각이 아닙니다\".format(time))\n",
    "else :\n",
    "    print(\"{} => 정각입니다\".format(time))\n",
    "    "
   ]
  },
  {
   "cell_type": "code",
   "execution_count": 7,
   "id": "e75859b6",
   "metadata": {},
   "outputs": [
    {
     "name": "stdout",
     "output_type": "stream",
     "text": [
      "먹고싶은 과일복숭아\n",
      "오답입니다\n"
     ]
    }
   ],
   "source": [
    "# 4. input()을 통해서 입력받은 단어가 아래 fruit 리스트에 포함되어 있는지를 확인해보시오.\n",
    "#     포함되었다면 \"정답입니다\"를 아닐 경우 \"오답입니다\" 출력\n",
    "fruit = [\"사과\", \"포도\", \"홍시\"]\n",
    "\n",
    "want = input(\"먹고싶은 과일\")\n",
    "\n",
    "a = 0\n",
    "\n",
    "for i in fruit :\n",
    "    if (i == want):\n",
    "        a = a+1\n",
    "        break\n",
    "if(a != 0) :\n",
    "    print(\"정답입니다 드세요\")\n",
    "else :\n",
    "    print(\"오답입니다\")\n",
    "\n",
    "        \n",
    "        \n",
    "# 5. 투자 경고 종목 리스트가 있을 때 input()을 통해서 종목명을 입력 받은 후 \n",
    "# 해당 종목이 투자 경고 종목이라면 '투자 경고 종목입니다'를 아니면 \"투자 경고 종목이 아닙니다.\"를 \n",
    "# 출력하는 프로그램을 작성하시오.\n",
    "warn_investment_list = [\"Microsoft\", \"Google\", \"Naver\", \"Kakao\", \"SAMSUNG\", \"LG\"]\n",
    "    \n"
   ]
  },
  {
   "cell_type": "code",
   "execution_count": 11,
   "id": "241e79ee",
   "metadata": {},
   "outputs": [
    {
     "name": "stdout",
     "output_type": "stream",
     "text": [
      "첫번째5\n",
      "두번째9\n",
      "세번째2\n",
      "9\n"
     ]
    }
   ],
   "source": [
    "# 6. input()을 통해서 세 개의 숫자를 입력 받은 후 가장 큰 숫자를 출력해보시오.\n",
    "\n",
    "f = int(input(\"첫번째\"))\n",
    "s = int(input(\"두번째\"))\n",
    "t = int(input(\"세번째\"))\n",
    "\n",
    "if (f == s and f == t):\n",
    "    print (\"같은 숫자입니다.\")\n",
    "else :\n",
    "        if(f>s):\n",
    "            if(f>t):\n",
    "                print(f)\n",
    "        else:\n",
    "            if (s >f) :\n",
    "                if(s>t):\n",
    "                    print(s)\n",
    "                else :\n",
    "                    print(t)\n",
    "    "
   ]
  },
  {
   "cell_type": "code",
   "execution_count": 14,
   "id": "a9ff8efa",
   "metadata": {},
   "outputs": [
    {
     "name": "stdout",
     "output_type": "stream",
     "text": [
      "019\n",
      "LGU\n"
     ]
    }
   ],
   "source": [
    "# 7. 휴대폰 번호 앞자리에 따라 통신사는 아래와 같이 구분됩니다.\n",
    "#     input()을 통해서 휴대전화 번호를 입력 받고, 통신사를 출력하는 프로그램을 작성.\n",
    "\n",
    "# 번호\t통신사\n",
    "# 011\tSKT\n",
    "# 016\tKT\n",
    "# 019\tLGU\n",
    "# 010\t알수없음\n",
    "\n",
    "tel = {\"011\":\"SKT\", \"016\":\"KT\", \"019\":\"LGU\", \"010\":\"알수 없음\"}\n",
    "\n",
    "tss = input()\n",
    "\n",
    "if tss not in tel.keys():\n",
    "    print(\"알수 없음\")\n",
    "else:\n",
    "    print(tel.get(tss))"
   ]
  },
  {
   "cell_type": "code",
   "execution_count": 18,
   "id": "48ff21a1",
   "metadata": {},
   "outputs": [
    {
     "name": "stdout",
     "output_type": "stream",
     "text": [
      "postnum : 01578\n",
      "['0', '1', '5', '7', '8']\n",
      "도봉구\n"
     ]
    }
   ],
   "source": [
    "# 8. 우편번호는 5자리로 구성되는데, 앞의 세자리는 구를 나타냅니다. \n",
    "#     예를들어, 강북구의 경우 010, 011, 012 세 자리로 시작합니다.\n",
    "\n",
    "# -\t0\t1\t2\t3\t4\t5\t6\t7\t8\t9\n",
    "# 01\t강북구\t강북구\t강북구\t도봉구\t도봉구\t도봉구\t노원구\t노원구\t노원구\t노원구\n",
    "# input()을 통해서 5자리 우편번호를 입력받고 구를 판별해보시오\n",
    "\n",
    "\n",
    "post=input(\"postnum : \")\n",
    "\n",
    "postnum = list(post)\n",
    "\n",
    "print(postnum)\n",
    "\n",
    "kanbuk = [\"0\", \"1\", \"2\"]\n",
    "dobong = [\"3\", \"4\", \"5\"]\n",
    "nowan = [\"6\", \"7\", \"8\", \"9\"]\n",
    "\n",
    "if postnum[2] in kanbuk :\n",
    "    print (\"강북구\")\n",
    "if postnum[2] in dobong :\n",
    "    print (\"도봉구\")\n",
    "if postnum[2] in nowan :\n",
    "    print (\"노원구\")"
   ]
  },
  {
   "cell_type": "code",
   "execution_count": 37,
   "id": "dff92a1a",
   "metadata": {},
   "outputs": [
    {
     "name": "stdout",
     "output_type": "stream",
     "text": [
      "930511\n",
      "1345565\n",
      "['1', '3', '4', '5', '5', '6', '5']\n",
      "남자\n",
      "서울이 아닙니다.\n"
     ]
    }
   ],
   "source": [
    "# 9. 주민등록번호 뒷 자리 7자리 중 첫째 자리는 성별을 나타내는데, 1, 3은 남자 2, 4는 여자를 의미합니다. \n",
    "#     input()을 통해서 13자리의 주민등록번호를 입력 받은 후 성별 (남자, 여자)를 출력하는 프로그램을 작성\n",
    "\n",
    "pernum_front = input()\n",
    "pernum_back = input()\n",
    "\n",
    "p_b = list(pernum_back)\n",
    "print (p_b)\n",
    "\n",
    "\n",
    "\n",
    "pernum = pernum_front + pernum_back\n",
    "\n",
    "pernum=list(pernum)\n",
    "\n",
    "# print(pernum)\n",
    "\n",
    "if int(p_b[0])%2 == 1:\n",
    "    print(\"남자\")\n",
    "else :\n",
    "    if int(p_b[0])%2 == 0 :\n",
    "        print (\"여자\")\n",
    "\n",
    "\n",
    "# 10. 주민등록번호의 뒷 자리 7자리 중 두번째와 세번째는 지역코드를 의미합니다.\n",
    "# 주민 등록 번호를 입력 받은 후 출생지가 서울인지 아닌지 판단하는 코드를 작성\n",
    "\n",
    "# human=input(\"주민번호 : \")\n",
    "# # 주민번호 패턴 : \"xxxxxxxxxxxxx\", \"xxxxxx-xxxxxxx\"  010101 1000000\n",
    "#                                                      012345 6789012\n",
    "\n",
    "if int(p_b[1]+p_b[2]) < 9 :\n",
    "    print(\"서울\")\n",
    "else :\n",
    "    print (\"서울이 아닙니다.\")\n",
    "\n",
    "\n",
    "# 11. 주민등록번호는 13자리로 구성되는데 마지막 자리수는 주민등록번호의 유효성을 체크하는데 사용됩니다. \n",
    "#     먼저 앞에서부터 12자리의 숫자에 2, 3, 4, 5, 6, 7, 8, 9, 2, 3, 4, 5를 차례로 곱한 뒤 그 값을 전부 더하고\n",
    "#     연산 결과 값을 11로 나누면 나머지가 나오는데 11에서 나머지를 뺀 값이 주민등록번호의 마지막 번호가 됩니다.\n",
    "\n",
    "#      8 2 1 0 1 0 - 1 6 3 5 2 1 0\n",
    "#    x 2 3 4 5 6 7   8 9 2 3 4 5 \n",
    "#     -----------------------------\n",
    "#     1차 계산: (8*2 + 2*3 + 1*4 + 0*5 + 1*6 + 0*7 + 1*8 + 6*9 + 3*2 + 5*3 + 2*4 + 1*5) = (128 % 11) = 7\n",
    "#     2차 계산: 11 -7 = 4\n",
    "    \n",
    "#     위와 같이 821010-1635210에 대해서 계산을 해보면 마지막 자리는 4가 되어야 함을 알 수 있습니다.\n",
    "#     즉, 821010-1635210은 유효하지 않은 주민등록번호임을 알 수 있습니다.\n",
    "\n",
    "#      다음과 같이 input()을 통해서 주민등록번호를 입력받은 후 주민등록번호가 유효한지를 출력하는 프로그램을 작성\n"
   ]
  },
  {
   "cell_type": "code",
   "execution_count": 36,
   "id": "8b2d5c3d",
   "metadata": {},
   "outputs": [
    {
     "name": "stdout",
     "output_type": "stream",
     "text": [
      "110.0\n",
      "220.0\n",
      "330.0\n"
     ]
    }
   ],
   "source": [
    "# 12. 다음과 같이 판매가가 저장된 리스트가 있을 때 부가세가 포함된 가격을 \n",
    "# for 문을 사용해서 화면에 출력하시오.\n",
    "#    단 부가세는 10%로 가정합니다.\n",
    "sales = [100, 200, 300]\n",
    "\n",
    "for i in sales :\n",
    "    print ( i + i *0.1)"
   ]
  },
  {
   "cell_type": "code",
   "execution_count": 38,
   "id": "7d24d0b1",
   "metadata": {},
   "outputs": [
    {
     "name": "stdout",
     "output_type": "stream",
     "text": [
      "오늘의 메뉴 : 김밥 \n",
      "오늘의 메뉴 : 라면 \n",
      "오늘의 메뉴 : 튀김 \n"
     ]
    }
   ],
   "source": [
    "# 13. for 문을 사용해서 리스트에 저장된 값을 다음과 같이 출력하시오.\n",
    "menu = [\"김밥\", \"라면\", \"튀김\"]\n",
    "# 오늘의 메뉴: 김밥\n",
    "# 오늘의 메뉴: 라면\n",
    "# 오늘의 메뉴: 튀김\n",
    "\n",
    "for i in menu :\n",
    "    print(\"오늘의 메뉴 : {} \".format(i))\n"
   ]
  },
  {
   "cell_type": "code",
   "execution_count": 48,
   "id": "b4f4c604",
   "metadata": {},
   "outputs": [
    {
     "name": "stdout",
     "output_type": "stream",
     "text": [
      "6\n",
      "4\n",
      "4\n"
     ]
    }
   ],
   "source": [
    "# 14. 리스트에 주식 종목이름이 저장돼 있습니다.\n",
    "\n",
    "ju = [\"SK하이닉스\", \"삼성전자\", \"LG전자\"]\n",
    "# 저장된 문자열의 길이를 출력하시오.\n",
    "\n",
    "for i in range(len(ju)):\n",
    "    jusik = list(ju[i])\n",
    "    print (len(jusik))"
   ]
  },
  {
   "cell_type": "code",
   "execution_count": 52,
   "id": "b5b1daae",
   "metadata": {},
   "outputs": [
    {
     "name": "stdout",
     "output_type": "stream",
     "text": [
      "3\n",
      "d\n",
      "dog\n",
      "3\n",
      "a\n",
      "cat\n",
      "6\n",
      "r\n",
      "parrot\n"
     ]
    }
   ],
   "source": [
    "# 15. 리스트에는 동물이름이 문자열로 저장돼 있습니다.\n",
    "\n",
    "animal = ['dog', 'cat', 'parrot']\n",
    "\n",
    "# 동물 이름과 글자수를 출력하시오.\n",
    "\n",
    "for i in range(len(animal)):\n",
    "    ani = list(animal[i])\n",
    "    print(len(ani))\n",
    "    print(ani[i])\n",
    "    print(animal[i])\n",
    "\n",
    "\n",
    "# 16. animal list를 이용해서 for문을 사용 동물 이름의 첫 글자만 출력하시오.\n"
   ]
  },
  {
   "cell_type": "code",
   "execution_count": 60,
   "id": "f02c4c2c",
   "metadata": {},
   "outputs": [
    {
     "name": "stdout",
     "output_type": "stream",
     "text": [
      "98 97 96 95 94 93 92 91 90 89 88 87 86 85 84 83 82 81 80 79 78 77 76 75 74 73 72 71 70 69 68 67 66 65 64 63 62 61 60 59 58 57 56 55 54 53 52 51 50 49 48 47 46 45 44 43 42 41 40 39 38 37 36 35 34 33 32 31 30 29 28 27 26 25 24 23 22 21 20 19 18 17 16 15 14 13 12 11 10 9 8 7 6 5 4 3 2 1 0 "
     ]
    }
   ],
   "source": [
    "# 21. 99부터 0까지 1씩 감소하는 숫자들을, 한 라인에 하나씩 출력하시오.\n",
    "\n",
    "a = 98\n",
    "\n",
    "for i in range(99) :\n",
    "    print(a-i,end=\" \")"
   ]
  },
  {
   "cell_type": "code",
   "execution_count": 70,
   "id": "00e4c61e",
   "metadata": {},
   "outputs": [
    {
     "name": "stdout",
     "output_type": "stream",
     "text": [
      "0.0\n",
      "0.1\n",
      "0.2\n",
      "0.3\n",
      "0.4\n",
      "0.5\n",
      "0.6\n",
      "0.7\n",
      "0.8\n",
      "0.9\n"
     ]
    }
   ],
   "source": [
    "# 22.for문을 사용해서 아래와 같이 출력하시오\n",
    "\n",
    "# 0.0\n",
    "# 0.1\n",
    "# 0.2\n",
    "# 0.3\n",
    "# 0.4\n",
    "# 0.5\n",
    "# ...\n",
    "# 0.9\n",
    "\n",
    "for i in range(10):\n",
    "    print(\"%1.1f\"%(i*0.1))\n"
   ]
  },
  {
   "cell_type": "code",
   "execution_count": 79,
   "id": "531a141e",
   "metadata": {},
   "outputs": [
    {
     "name": "stdout",
     "output_type": "stream",
     "text": [
      "3 X 1 = 3\n",
      "3 X 2 = 6\n",
      "3 X 3 = 9\n",
      "3 X 4 = 12\n",
      "3 X 5 = 15\n",
      "3 X 6 = 18\n",
      "3 X 7 = 21\n",
      "3 X 8 = 24\n",
      "3 X 9 = 27\n",
      "3 X 1 = 3\n",
      "3 X 3 = 9\n",
      "3 X 5 = 15\n",
      "3 X 7 = 21\n",
      "3 X 9 = 27\n"
     ]
    }
   ],
   "source": [
    "# 23. 아래와 같이 구구단 3단을 출력하시오.\n",
    "\n",
    "# 3x1 = 3\n",
    "# 3x2 = 6\n",
    "# 3x3 = 9\n",
    "# 3x4 = 12\n",
    "# 3x5 = 15\n",
    "# 3x6 = 18\n",
    "# 3x7 = 21\n",
    "# 3x8 = 24\n",
    "# 3x9 = 27\n",
    "a = 3\n",
    "for i in range(9) :\n",
    "    print (\"3 X {} = {}\".format(i+1,a*(i+1)) )\n",
    "    \n",
    "    \n",
    "# 24. 아래와 같이 구구단 3단을 출력하라. 단 홀수 번째만 출력하시오.\n",
    "\n",
    "# 3x1 = 3\n",
    "# 3x3 = 9\n",
    "# 3x5 = 15\n",
    "# 3x7 = 21\n",
    "# 3x9 = 27\n",
    "\n",
    "\n",
    "b = 3\n",
    "for i in range(10) :\n",
    "    if i%2 == 1 :\n",
    "        print (\"3 X {} = {}\".format(i,b*i) )"
   ]
  },
  {
   "cell_type": "code",
   "execution_count": null,
   "id": "7f0299f3",
   "metadata": {},
   "outputs": [],
   "source": [
    "# 27. 1~100 까지의 정수를 가지고 있는 list1과 101~200 까지의 정수를 가진 list2를 생성하고 \n",
    "# list1의 짝수와 list2의 홀수 의 합을 가진 list를 생성해보시오.\n"
   ]
  }
 ],
 "metadata": {
  "kernelspec": {
   "display_name": "Python 3 (ipykernel)",
   "language": "python",
   "name": "python3"
  },
  "language_info": {
   "codemirror_mode": {
    "name": "ipython",
    "version": 3
   },
   "file_extension": ".py",
   "mimetype": "text/x-python",
   "name": "python",
   "nbconvert_exporter": "python",
   "pygments_lexer": "ipython3",
   "version": "3.11.3"
  }
 },
 "nbformat": 4,
 "nbformat_minor": 5
}
