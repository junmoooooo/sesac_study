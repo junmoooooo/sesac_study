{
 "cells": [
  {
   "cell_type": "code",
   "execution_count": 1,
   "id": "3b515380",
   "metadata": {},
   "outputs": [],
   "source": [
    "f1 = open(\"test.txt\",'a')"
   ]
  },
  {
   "cell_type": "code",
   "execution_count": 2,
   "id": "d1716d82",
   "metadata": {},
   "outputs": [],
   "source": [
    "for i in range(10):\n",
    "    data = \"%d\"%i\n",
    "    f1.write(data)"
   ]
  },
  {
   "cell_type": "code",
   "execution_count": 3,
   "id": "c96b34e7",
   "metadata": {},
   "outputs": [],
   "source": [
    "f1.close()"
   ]
  },
  {
   "cell_type": "code",
   "execution_count": 4,
   "id": "610c1845",
   "metadata": {},
   "outputs": [],
   "source": [
    "f1 = open(\"test.txt\",'a')\n",
    "for i in range(10):\n",
    "    data = \"%d\\n\"%i\n",
    "    f1.write(data)\n",
    "    \n",
    "f1.close()"
   ]
  },
  {
   "cell_type": "code",
   "execution_count": 5,
   "id": "2147cf6b",
   "metadata": {},
   "outputs": [],
   "source": [
    "f2 = open('test.txt', 'a')\n",
    "for i in \"abcdefghijk\":\n",
    "    f2.write(i+'\\n')\n",
    "f2.close()"
   ]
  },
  {
   "cell_type": "code",
   "execution_count": 6,
   "id": "3cea4358",
   "metadata": {},
   "outputs": [],
   "source": [
    "f3 =open('test.txt', 'r')\n",
    "\n",
    "#객체.readline()     : 한 줄 씩 읽어드린다.\n",
    "#객체.eadlines()     : 각 라인의 내용을 요소로 해서 리스트로 결과를 돌려준다.\n",
    "#객체.read()         : 파일 전체의 내용을 하나의 문자열로 결과를 돌려준다."
   ]
  },
  {
   "cell_type": "code",
   "execution_count": 37,
   "id": "fc115b22",
   "metadata": {},
   "outputs": [
    {
     "data": {
      "text/plain": [
       "''"
      ]
     },
     "execution_count": 37,
     "metadata": {},
     "output_type": "execute_result"
    }
   ],
   "source": [
    "f3.readline()"
   ]
  },
  {
   "cell_type": "code",
   "execution_count": 38,
   "id": "3819b388",
   "metadata": {},
   "outputs": [],
   "source": [
    "f3 =open('test.txt', 'r')"
   ]
  },
  {
   "cell_type": "code",
   "execution_count": 39,
   "id": "acf57469",
   "metadata": {},
   "outputs": [
    {
     "data": {
      "text/plain": [
       "[\"['lee', 24]\\n\",\n",
       " \"['kim', 45]\\n\",\n",
       " 'lee 24\\n',\n",
       " 'kim 45\\n',\n",
       " 'lee 24\\n',\n",
       " 'kim 45\\n',\n",
       " \"['sadfas', '123']\\n\",\n",
       " \"['asdfas', '465']\\n\",\n",
       " '01234567890\\n',\n",
       " '1\\n',\n",
       " '2\\n',\n",
       " '3\\n',\n",
       " '4\\n',\n",
       " '5\\n',\n",
       " '6\\n',\n",
       " '7\\n',\n",
       " '8\\n',\n",
       " '9\\n',\n",
       " 'a\\n',\n",
       " 'b\\n',\n",
       " 'c\\n',\n",
       " 'd\\n',\n",
       " 'e\\n',\n",
       " 'f\\n',\n",
       " 'g\\n',\n",
       " 'h\\n',\n",
       " 'i\\n',\n",
       " 'j\\n',\n",
       " 'k\\n']"
      ]
     },
     "execution_count": 39,
     "metadata": {},
     "output_type": "execute_result"
    }
   ],
   "source": [
    "f3.readlines()"
   ]
  },
  {
   "cell_type": "code",
   "execution_count": 42,
   "id": "b8f9d0b5",
   "metadata": {},
   "outputs": [
    {
     "data": {
      "text/plain": [
       "\"['lee', 24] ['kim', 45] lee 24 kim 45 lee 24 kim 45 ['sadfas', '123'] ['asdfas', '465'] 01234567890 1 2 3 4 5 6 7 8 9 a b c d e f g h i j k \""
      ]
     },
     "execution_count": 42,
     "metadata": {},
     "output_type": "execute_result"
    }
   ],
   "source": [
    "f3 =open('test.txt', 'r')\n",
    "(f3.read()).replace('\\n', \" \")"
   ]
  },
  {
   "cell_type": "code",
   "execution_count": 43,
   "id": "30acd406",
   "metadata": {},
   "outputs": [],
   "source": [
    "f3 =open('test.txt', 'r')\n"
   ]
  },
  {
   "cell_type": "code",
   "execution_count": 47,
   "id": "ec4fabc3",
   "metadata": {},
   "outputs": [
    {
     "data": {
      "text/plain": [
       "14"
      ]
     },
     "execution_count": 47,
     "metadata": {},
     "output_type": "execute_result"
    }
   ],
   "source": [
    "dic = {\"name\":\"lee\", \"age\":23, \"dnlcl\":\"skfk\"}\n",
    "f4= open('est.txt','w')\n",
    "key = list(dic.keys())\n",
    "f4.write('{} {} {}'.format(key[0],key[1],key[2]))"
   ]
  },
  {
   "cell_type": "code",
   "execution_count": 48,
   "id": "432378a5",
   "metadata": {},
   "outputs": [
    {
     "ename": "SyntaxError",
     "evalue": "incomplete input (3283994123.py, line 1)",
     "output_type": "error",
     "traceback": [
      "\u001b[1;36m  Cell \u001b[1;32mIn[48], line 1\u001b[1;36m\u001b[0m\n\u001b[1;33m    with open('test.txt','w') as f5:\u001b[0m\n\u001b[1;37m                                    ^\u001b[0m\n\u001b[1;31mSyntaxError\u001b[0m\u001b[1;31m:\u001b[0m incomplete input\n"
     ]
    }
   ],
   "source": [
    "with open('test.txt','w') as f5:\n",
    "    key = list(dic.keys())\n",
    "    f4.write('{} {} {}'.format(key[0],key[1],key[2]))"
   ]
  },
  {
   "cell_type": "code",
   "execution_count": 96,
   "id": "c085fcc9",
   "metadata": {},
   "outputs": [
    {
     "name": "stdout",
     "output_type": "stream",
     "text": [
      "1\n"
     ]
    },
    {
     "data": {
      "text/plain": [
       "['1.2.3\\n', '4.5.6\\n', '7.8.9\\n']"
      ]
     },
     "execution_count": 96,
     "metadata": {},
     "output_type": "execute_result"
    }
   ],
   "source": [
    "# 파일 입출력 실습\n",
    "\n",
    "# list1=[[1,2,3],[4,5,6],[7,8,9]] 를 아래와 같이 list1.txt에 저장 되도록 하시오.\n",
    "\n",
    "# 1.2.3\n",
    "# 4.5.6\n",
    "# 7.8.9\n",
    "\n",
    "list1=[[1,2,3],[4,5,6],[7,8,9]]\n",
    "\n",
    "print(list1[0][0])\n",
    "\n",
    "# f = open('list1.txt', 'w')\n",
    "# for i in range(len(list1)):\n",
    "#     f.write('\\n')\n",
    "#     for j in range(len(list1)):\n",
    "#         f.write(\"{}.\".format(list1[i][j]))\n",
    "\n",
    "f = open('list1.txt', 'w')\n",
    "for i in list1:\n",
    "     f.write(\"{}.{}.{}\\n\".format(i[0],i[1],i[2]))\n",
    "f.close()\n",
    "f = open('list1.txt', 'r')\n",
    "# 위에서 저장한 list1.txt 파일의 내용으로 list2=[[1,2,3],[4,5,6],[7,8,9]] 을 생성해보시오.\n",
    "list2 = (f.readlines())\n",
    "list2"
   ]
  },
  {
   "cell_type": "code",
   "execution_count": 5,
   "id": "326bcae6",
   "metadata": {},
   "outputs": [
    {
     "name": "stdout",
     "output_type": "stream",
     "text": [
      "나가기를 원하시면 '0'을 아니면\n",
      "이름 :kim\n",
      "나이 : 23\n",
      "전화 : 011\n",
      "지역 :a\n",
      "나가기를 원하시면 '0'을 아니면\n",
      "이름 :lee\n",
      "나이 : 25\n",
      "전화 : 016\n",
      "지역 :b\n",
      "나가기를 원하시면 '0'을 아니면\n",
      "이름 :park\n",
      "나이 : 26\n",
      "전화 : 019\n",
      "지역 :d\n",
      "나가기를 원하시면 '0'을 아니면\n",
      "이름 :lim\n",
      "나이 : 30\n",
      "전화 : 017\n",
      "지역 :k\n",
      "나가기를 원하시면 '0'을 아니면\n",
      "이름 :0\n"
     ]
    }
   ],
   "source": [
    "# input()을 통해서 아래 내용이 info.txt 파일에 저장 되도록 하시오.\n",
    "\n",
    "# 이름 나이 전화 지역\n",
    "# kim  23   011  s\n",
    "# lee  25   016  b\n",
    "# park 26   019  d\n",
    "# lim  30   017  k\n",
    "\n",
    "info =1\n",
    "name = 1\n",
    "x = open('info.txt','w')\n",
    "while info:\n",
    "    name = input(\"나가기를 원하시면 '0'을 아니면\\n이름 :\")\n",
    "    if name != '0':\n",
    "        age=input(\"나이 : \")\n",
    "        tel=input(\"전화 : \")\n",
    "        local=input(\"지역 :\")\n",
    "        x.write(\"{} {} {} {}\\n\".format(name, age, tel, local))\n",
    "    else:\n",
    "        info = 0\n",
    "        break\n",
    "x.close()"
   ]
  },
  {
   "cell_type": "code",
   "execution_count": 32,
   "id": "b6ce10ef",
   "metadata": {
    "scrolled": false
   },
   "outputs": [
    {
     "name": "stdout",
     "output_type": "stream",
     "text": [
      "[['kim', '23', '011', 'a'], ['lee', '25', '016', 'b'], ['park', '26', '019', 'd'], ['lim', '30', '017', 'k']]\n",
      "원하시는 메뉴를 골라봐\n",
      "\n",
      "1. 이름검색\n",
      "2. 정보 수정\n",
      "3. 나가기\n",
      "1\n",
      "검색 이름 :kim\n",
      "이름 : kim\n"
     ]
    }
   ],
   "source": [
    "menu = \"\"\"\n",
    "1. 이름검색\n",
    "2. 정보 수정\n",
    "3. 나가기\n",
    "\"\"\"\n",
    "x = open('info.txt','r')\n",
    "list1 = x.read().split(\"\\n\")\n",
    "list1.pop()\n",
    "for i in range(len(list1)):\n",
    "    list1[i] = list1[i].split(' ')\n",
    "print(list1)\n",
    "\n",
    "choice = input(\"원하시는 메뉴를 골라봐\\n{}\".format(menu))\n",
    "if choice == '1':\n",
    "    s_namenum=input(\"검색 이름 :\")\n",
    "    if s_namenum == \"kim\":\n",
    "        print(\"이름 : {}\".format(list1[0][0]))\n",
    "        print(\"나이 : {}\".format(list1[0][1]))\n",
    "        print(\"전화 : {}\".format(list1[0][2]))\n",
    "        print(\"지역 : {}\".format(list1[0][3]))\n",
    "       \n"
   ]
  },
  {
   "cell_type": "code",
   "execution_count": 44,
   "id": "5f30d5ba",
   "metadata": {
    "scrolled": false
   },
   "outputs": [
    {
     "ename": "SyntaxError",
     "evalue": "invalid syntax (532480752.py, line 9)",
     "output_type": "error",
     "traceback": [
      "\u001b[1;36m  Cell \u001b[1;32mIn[44], line 9\u001b[1;36m\u001b[0m\n\u001b[1;33m    list2[][].index(\"lee\")\u001b[0m\n\u001b[1;37m          ^\u001b[0m\n\u001b[1;31mSyntaxError\u001b[0m\u001b[1;31m:\u001b[0m invalid syntax\n"
     ]
    }
   ],
   "source": [
    "x = open('info.txt','r')\n",
    "list2 = x.read().split(\"\\n\")\n",
    "list2.pop()\n",
    "for i in range(len(list2)):\n",
    "    list2[i] = list2[i].split(' ')\n",
    "print(list2[0][1])\n",
    "print(list2)\n",
    "\n",
    "\n",
    "list2[0][].index(\"lee\")"
   ]
  },
  {
   "cell_type": "code",
   "execution_count": null,
   "id": "5d6b9e3a",
   "metadata": {},
   "outputs": [],
   "source": []
  }
 ],
 "metadata": {
  "kernelspec": {
   "display_name": "Python 3 (ipykernel)",
   "language": "python",
   "name": "python3"
  },
  "language_info": {
   "codemirror_mode": {
    "name": "ipython",
    "version": 3
   },
   "file_extension": ".py",
   "mimetype": "text/x-python",
   "name": "python",
   "nbconvert_exporter": "python",
   "pygments_lexer": "ipython3",
   "version": "3.11.3"
  }
 },
 "nbformat": 4,
 "nbformat_minor": 5
}
