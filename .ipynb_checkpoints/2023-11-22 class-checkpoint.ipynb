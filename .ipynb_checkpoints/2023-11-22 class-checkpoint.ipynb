{
 "cells": [
  {
   "cell_type": "code",
   "execution_count": null,
   "id": "084c24e7",
   "metadata": {},
   "outputs": [],
   "source": [
    "def add1(i):\n",
    "    global result1\n",
    "    result1 =  result1+i\n",
    "\n",
    "add1(3)"
   ]
  },
  {
   "cell_type": "code",
   "execution_count": null,
   "id": "85def355",
   "metadata": {},
   "outputs": [],
   "source": [
    "add1(100)"
   ]
  },
  {
   "cell_type": "code",
   "execution_count": null,
   "id": "ba81fe53",
   "metadata": {},
   "outputs": [],
   "source": [
    "result1"
   ]
  },
  {
   "cell_type": "code",
   "execution_count": null,
   "id": "5bd748d6",
   "metadata": {},
   "outputs": [],
   "source": [
    "result2 =0\n",
    "def add2(i):\n",
    "    global result2+i"
   ]
  },
  {
   "cell_type": "code",
   "execution_count": null,
   "id": "8b4211fb",
   "metadata": {},
   "outputs": [],
   "source": [
    "class AddCal:\n",
    "    def __init__(self):\n",
    "        self.result=0\n",
    "    def add(self, i):\n",
    "        self.result = self.result+i\n",
    "    \n",
    "a= AddCal()\n",
    "a.result\n",
    "a.add(30)\n",
    "a,result\n",
    "a,result\n",
    "b=AddCal()\n",
    "b.result\n",
    "b.add(50)\n",
    "b.result"
   ]
  },
  {
   "cell_type": "code",
   "execution_count": null,
   "id": "857be813",
   "metadata": {},
   "outputs": [],
   "source": []
  },
  {
   "cell_type": "code",
   "execution_count": null,
   "id": "2bee6659",
   "metadata": {},
   "outputs": [],
   "source": [
    "#calss 클래스명:\n",
    "#      pass"
   ]
  },
  {
   "cell_type": "code",
   "execution_count": null,
   "id": "8ee89e9a",
   "metadata": {},
   "outputs": [],
   "source": [
    "class Test:\n",
    "    pass"
   ]
  },
  {
   "cell_type": "code",
   "execution_count": null,
   "id": "5a48d859",
   "metadata": {},
   "outputs": [],
   "source": [
    "#객체 선언\n",
    "#객체명 = 클래스명()`\n",
    "a= Test()\n",
    "b= Test()"
   ]
  },
  {
   "cell_type": "code",
   "execution_count": null,
   "id": "e7aa7f63",
   "metadata": {},
   "outputs": [],
   "source": [
    "type(a)"
   ]
  },
  {
   "cell_type": "code",
   "execution_count": null,
   "id": "158320b4",
   "metadata": {},
   "outputs": [],
   "source": [
    "class FourCal:\n",
    "    pass"
   ]
  },
  {
   "cell_type": "code",
   "execution_count": null,
   "id": "e64fe97d",
   "metadata": {},
   "outputs": [],
   "source": [
    "class FourCal:\n",
    "    def setdata(self,x,y):\n",
    "        self.x= x\n",
    "        self.y= y\n",
    "        \n",
    "a = FourCal()"
   ]
  },
  {
   "cell_type": "code",
   "execution_count": null,
   "id": "802fedaa",
   "metadata": {},
   "outputs": [],
   "source": [
    "type(a)"
   ]
  },
  {
   "cell_type": "code",
   "execution_count": null,
   "id": "d0ed0093",
   "metadata": {},
   "outputs": [],
   "source": [
    "b=FourCal()"
   ]
  },
  {
   "cell_type": "code",
   "execution_count": null,
   "id": "8b3ccc07",
   "metadata": {},
   "outputs": [],
   "source": [
    "a.setdata(3,4)"
   ]
  },
  {
   "cell_type": "code",
   "execution_count": null,
   "id": "0e7afb61",
   "metadata": {},
   "outputs": [],
   "source": [
    "FourCal.setdata(b,10,20)"
   ]
  },
  {
   "cell_type": "code",
   "execution_count": null,
   "id": "07f9350a",
   "metadata": {},
   "outputs": [],
   "source": [
    "a.x"
   ]
  },
  {
   "cell_type": "code",
   "execution_count": null,
   "id": "9442eba0",
   "metadata": {},
   "outputs": [],
   "source": [
    "a.y"
   ]
  },
  {
   "cell_type": "code",
   "execution_count": null,
   "id": "6147df62",
   "metadata": {},
   "outputs": [],
   "source": [
    "b.x"
   ]
  },
  {
   "cell_type": "code",
   "execution_count": null,
   "id": "6c3d7418",
   "metadata": {},
   "outputs": [],
   "source": [
    "b.y"
   ]
  },
  {
   "cell_type": "code",
   "execution_count": null,
   "id": "2f1beb08",
   "metadata": {},
   "outputs": [],
   "source": [
    "a.x = 100"
   ]
  },
  {
   "cell_type": "code",
   "execution_count": null,
   "id": "a82c9c3b",
   "metadata": {},
   "outputs": [],
   "source": [
    "a.x = 100"
   ]
  },
  {
   "cell_type": "code",
   "execution_count": null,
   "id": "d7cab956",
   "metadata": {},
   "outputs": [],
   "source": [
    "a.x"
   ]
  },
  {
   "cell_type": "code",
   "execution_count": null,
   "id": "bc221a49",
   "metadata": {},
   "outputs": [],
   "source": [
    "b.y = 1000"
   ]
  },
  {
   "cell_type": "code",
   "execution_count": null,
   "id": "f41ae747",
   "metadata": {},
   "outputs": [],
   "source": [
    "b.y"
   ]
  },
  {
   "cell_type": "code",
   "execution_count": null,
   "id": "149a562b",
   "metadata": {},
   "outputs": [],
   "source": [
    "l1 = [1,2,3,4]\n",
    "l2 = [1,2,3,4]"
   ]
  },
  {
   "cell_type": "code",
   "execution_count": null,
   "id": "b7c17885",
   "metadata": {},
   "outputs": [],
   "source": [
    "l1.reverse()\n",
    "l1"
   ]
  },
  {
   "cell_type": "code",
   "execution_count": null,
   "id": "bb2b98b3",
   "metadata": {},
   "outputs": [],
   "source": [
    "list.reverse(l2)\n",
    "l2"
   ]
  },
  {
   "cell_type": "code",
   "execution_count": null,
   "id": "01175782",
   "metadata": {},
   "outputs": [],
   "source": [
    "class FourCal :\n",
    "    def setdata(self,x,y):\n",
    "        self.x=x\n",
    "        self.y=y\n",
    "    def add(self):\n",
    "        return self.x+ self.y"
   ]
  },
  {
   "cell_type": "code",
   "execution_count": null,
   "id": "d5e39f42",
   "metadata": {},
   "outputs": [],
   "source": [
    "def add1():\n",
    "    return x+y"
   ]
  },
  {
   "cell_type": "code",
   "execution_count": null,
   "id": "9b81b21f",
   "metadata": {},
   "outputs": [],
   "source": [
    "a=FourCal()\n",
    "a.setdata(10,40)"
   ]
  },
  {
   "cell_type": "code",
   "execution_count": null,
   "id": "14da5a64",
   "metadata": {},
   "outputs": [],
   "source": [
    "a.add()"
   ]
  },
  {
   "cell_type": "code",
   "execution_count": null,
   "id": "0f58297b",
   "metadata": {},
   "outputs": [],
   "source": [
    "a.x=100\n",
    "a.add()"
   ]
  },
  {
   "cell_type": "code",
   "execution_count": null,
   "id": "271e5d81",
   "metadata": {},
   "outputs": [],
   "source": [
    "class FourCal :\n",
    "    def setdata(self,x,y):\n",
    "        x= self.x\n",
    "        y= self.y\n",
    "    def add(self):\n",
    "        return self.x+ self.y"
   ]
  },
  {
   "cell_type": "code",
   "execution_count": null,
   "id": "8f4f338b",
   "metadata": {},
   "outputs": [],
   "source": [
    "a=FourCal()\n",
    "a.setdata(10,40)"
   ]
  },
  {
   "cell_type": "code",
   "execution_count": null,
   "id": "017a7cdb",
   "metadata": {},
   "outputs": [],
   "source": [
    "class Test1 :\n",
    "    def print1(self):\n",
    "        print(\"함수 실행\")\n",
    "        "
   ]
  },
  {
   "cell_type": "code",
   "execution_count": null,
   "id": "3472549c",
   "metadata": {},
   "outputs": [],
   "source": [
    "a= Test1()"
   ]
  },
  {
   "cell_type": "code",
   "execution_count": null,
   "id": "5df1b262",
   "metadata": {},
   "outputs": [],
   "source": [
    "a.print1()"
   ]
  },
  {
   "cell_type": "code",
   "execution_count": null,
   "id": "6f0e1682",
   "metadata": {},
   "outputs": [],
   "source": [
    "class Test2:\n",
    "    def __init__(self):\n",
    "        print(\"생성자 메소드 실행\")"
   ]
  },
  {
   "cell_type": "code",
   "execution_count": null,
   "id": "e6fe0676",
   "metadata": {},
   "outputs": [],
   "source": [
    "b=Test2()"
   ]
  },
  {
   "cell_type": "code",
   "execution_count": null,
   "id": "108f51f9",
   "metadata": {},
   "outputs": [],
   "source": [
    "class FourCal1:\n",
    "    def __init__(self,x,y):\n",
    "        self.x = x\n",
    "        self.y = y\n",
    "        "
   ]
  },
  {
   "cell_type": "code",
   "execution_count": null,
   "id": "2236edb1",
   "metadata": {},
   "outputs": [],
   "source": [
    "a=FourCal1(3,4)\n",
    "a.x\n",
    "a.y"
   ]
  },
  {
   "cell_type": "code",
   "execution_count": null,
   "id": "d33465c1",
   "metadata": {},
   "outputs": [],
   "source": [
    "class FourCal2:\n",
    "    def __init__ (self):\n",
    "        self.x=0\n",
    "        self.y=0\n",
    "        "
   ]
  },
  {
   "cell_type": "code",
   "execution_count": null,
   "id": "44813717",
   "metadata": {},
   "outputs": [],
   "source": [
    "b=FourCal2()"
   ]
  },
  {
   "cell_type": "code",
   "execution_count": null,
   "id": "a25da8f6",
   "metadata": {},
   "outputs": [],
   "source": [
    "b.x"
   ]
  },
  {
   "cell_type": "code",
   "execution_count": null,
   "id": "d78afa26",
   "metadata": {},
   "outputs": [],
   "source": [
    "b.y"
   ]
  },
  {
   "cell_type": "code",
   "execution_count": null,
   "id": "75dfd329",
   "metadata": {},
   "outputs": [],
   "source": [
    "class Test1:\n",
    "    def __init__ (self):\n",
    "        self.x=0\n",
    "        self.y=0\n",
    "    def add(self):\n",
    "        return self.x + self.y\n",
    "class Test2(Test1):\n",
    "    pass"
   ]
  },
  {
   "cell_type": "code",
   "execution_count": null,
   "id": "7ddfe172",
   "metadata": {},
   "outputs": [],
   "source": [
    "a = Test1\n",
    "b= Test2"
   ]
  },
  {
   "cell_type": "code",
   "execution_count": null,
   "id": "170e8597",
   "metadata": {},
   "outputs": [],
   "source": [
    "dir(b)"
   ]
  },
  {
   "cell_type": "code",
   "execution_count": null,
   "id": "0826fbc7",
   "metadata": {},
   "outputs": [],
   "source": [
    "class Test1:\n",
    "    def __init__ (self):\n",
    "        self.x=0\n",
    "        self.y=0\n",
    "    def add(self):\n",
    "        return self.x + self.y\n",
    "class Test2(Test1):\n",
    "    def sub(self):\n",
    "        return self.x - self.y\n",
    "    \n",
    "a = Test1\n",
    "b= Test2"
   ]
  },
  {
   "cell_type": "code",
   "execution_count": null,
   "id": "bd1532c8",
   "metadata": {},
   "outputs": [],
   "source": [
    "dir(a)"
   ]
  },
  {
   "cell_type": "code",
   "execution_count": null,
   "id": "c0287f93",
   "metadata": {},
   "outputs": [],
   "source": [
    "dir(b)"
   ]
  },
  {
   "cell_type": "code",
   "execution_count": null,
   "id": "59610668",
   "metadata": {},
   "outputs": [],
   "source": [
    "class Test1:\n",
    "    def __init__(self):\n",
    "        self.x=0\n",
    "        self.y=0\n",
    "    def div(self):\n",
    "        return self.x/self/y\n",
    "class Test2 :\n",
    "    def div(self):\n",
    "        if self.y == 0:\n",
    "            return 0\n",
    "        else:\n",
    "            return self.x/self.y"
   ]
  },
  {
   "cell_type": "code",
   "execution_count": null,
   "id": "be66b9df",
   "metadata": {},
   "outputs": [],
   "source": [
    "a=Test1()"
   ]
  },
  {
   "cell_type": "code",
   "execution_count": null,
   "id": "b30c98a0",
   "metadata": {},
   "outputs": [],
   "source": [
    "b=Test2()"
   ]
  },
  {
   "cell_type": "code",
   "execution_count": null,
   "id": "531b27eb",
   "metadata": {},
   "outputs": [],
   "source": [
    "a.x"
   ]
  },
  {
   "cell_type": "code",
   "execution_count": null,
   "id": "dfc44e6b",
   "metadata": {},
   "outputs": [],
   "source": [
    "class Test1:\n",
    "    def __init__(self):\n",
    "        self.x=0\n",
    "        self.y=0\n",
    "\n",
    "class Test2(Test1) :\n",
    "    def __init__(self):\n",
    "        self.a=0\n",
    "        self.b=0\n",
    "        \n",
    "\n",
    "a=Test1()\n",
    "b=Test2()"
   ]
  },
  {
   "cell_type": "code",
   "execution_count": null,
   "id": "b5266e35",
   "metadata": {},
   "outputs": [],
   "source": [
    "dir(a)"
   ]
  },
  {
   "cell_type": "code",
   "execution_count": null,
   "id": "a1d84826",
   "metadata": {},
   "outputs": [],
   "source": [
    "dir(b)"
   ]
  },
  {
   "cell_type": "code",
   "execution_count": null,
   "id": "204c7709",
   "metadata": {},
   "outputs": [],
   "source": [
    "class Test1:\n",
    "    def __init__(self):\n",
    "        self.x=0\n",
    "        self.y=0\n",
    "\n",
    "class Test2(Test1) :\n",
    "    def __init__(self):\n",
    "        self.a=0\n",
    "        self.b=0\n",
    "        super().__init__()\n",
    "\n",
    "a=Test1()\n",
    "b=Test2()"
   ]
  },
  {
   "cell_type": "code",
   "execution_count": null,
   "id": "e7c2d51b",
   "metadata": {},
   "outputs": [],
   "source": [
    "dir(a)"
   ]
  },
  {
   "cell_type": "code",
   "execution_count": null,
   "id": "cd742c1a",
   "metadata": {},
   "outputs": [],
   "source": [
    "dir(b)"
   ]
  },
  {
   "cell_type": "code",
   "execution_count": null,
   "id": "0646b9e4",
   "metadata": {},
   "outputs": [],
   "source": [
    "class Test1:\n",
    "    def __init__(self):\n",
    "        self.x=0\n",
    "        self.y=0\n",
    "\n",
    "class Test2(Test1) :\n",
    "    def __init__(self):\n",
    "        self.a=0\n",
    "        self.b=0\n",
    "        super().__init__()\n",
    "\n",
    "class Test3(Test1):\n",
    "    def __init__(self):\n",
    "        self.i = 0\n",
    "        self.j = 0\n",
    "        super().__init__()\n",
    "a=Test1()\n",
    "b=Test2()\n",
    "c=Test3()"
   ]
  },
  {
   "cell_type": "code",
   "execution_count": null,
   "id": "75cd184c",
   "metadata": {},
   "outputs": [],
   "source": [
    "dir(c)"
   ]
  },
  {
   "cell_type": "code",
   "execution_count": null,
   "id": "20df26ca",
   "metadata": {},
   "outputs": [],
   "source": [
    "# 클래스 이론\n",
    "\n",
    "# 계산기라는 객체를 만들수 있는 클래스 만들 것이다.\n",
    "\n",
    "# 클래스 이름은 Fourcal 정하겠다.\n",
    "\n",
    "# class Fourcal:\n",
    "# \tpass\n",
    "\n",
    "\n",
    "# 이 계산기는 두개의 숫자를 입력함으로써 계산이 되는 것이다.\n",
    "\n",
    "# 필요한 것은 개별의 계산기에 두개의 숫자를 어떻게 입력할 수 있겠도록 할 것이냐?\n",
    "\n",
    "# 두개의 숫자를 입력할 수 있는 함수를 만들어보자.(클래스 내에서 정의된 함수를 메서드라고 표현함)\n",
    "\n",
    "\n",
    "# class Fourcal:\n",
    "# \tdef setdata(self,num1,num2):\n",
    "# \t\tself.num1=num1\n",
    "# \t\tself.num2=num2\n",
    "# \t\tself.result=0\n",
    "\n",
    "# 메서드 사용방법\n",
    "\n",
    "# 1. 객체이름.메서드(self를 제외한 매개변수에 대한 인수)\n",
    "\n",
    "# a=Fourcal()\n",
    "# a.setdata(3,10)\n",
    "\n",
    "# 2. 클래스이름.메서드(객체이름,매개변수에 대한 인수)\n",
    "\n",
    "# b=Fourcal()\n",
    "# Fourcal.setdata(b,4,20)\n",
    "\n",
    "# 2개의 수를 입력할 수 있는 함수(메서드) 정의 완료\n",
    "\n",
    "# 2개의 수로 계산할 수 있는 함수 생성해야 함\n",
    "\n",
    "# class Fourcal:\n",
    "# \tdef setdata(self,num1,num2):\n",
    "# \t\tself.num1=num1\n",
    "# \t\tself.num2=num2\n",
    "# \t\tself.result=0\n",
    "\n",
    "# \tdef add(self):\n",
    "# \t\tself.result=self.num1+self.num2\n",
    "# \t\treturn self.result\n",
    "\n",
    "# self.변수명 => 객체변수라고 함.\n",
    "\n",
    "# 객체변수로 선언되면 클래스 내에 메서드들에서 얼마든지 사용할 수 있음.\n",
    "# 단 객체변수가 아닌 것은 해당 메서드안에서만 사용할 수 있고 다른 메서드에서는 사용할 수 없음.\n",
    "\n",
    "# 생성자\n",
    "\n",
    "# 생성자 메서드: 클래스가 객체를 만들때 자동적으로 실행되는 메서드\n",
    "\n",
    "# class Fourcal:\n",
    "# \tdef __init__(self,num1,num2):\n",
    "# \t\tself.num1=num1\n",
    "# \t\tself.num2=num2\n",
    "# 생성자 메서드의 이름은 __init__ 임\n",
    "\n",
    "# 자식클래스 : 부모 클래스의 모든 속성을 상속을 받는 클래스\n",
    "\n",
    "# 자식클래스 정의 방법\n",
    "\n",
    "# class 클래스이름(부모클래스이름):\n",
    "# \tpass\n",
    "\n",
    "\n",
    "# 메소드 오버라이딩 : 부모와 자식 클래스에 같은 이름의 메소드가 있을 때\n",
    "#                     자식 클래스의 객체는 자신이 속한 자식클래스의 메소드가\n",
    "#                     실행"
   ]
  },
  {
   "cell_type": "code",
   "execution_count": null,
   "id": "f0175d4b",
   "metadata": {},
   "outputs": [],
   "source": []
  },
  {
   "cell_type": "code",
   "execution_count": 17,
   "id": "b8c3f33e",
   "metadata": {
    "scrolled": true
   },
   "outputs": [
    {
     "name": "stdout",
     "output_type": "stream",
     "text": [
      "이름 : 김\n",
      "나이 : 수\n",
      "성별 : 한\n",
      "a\n",
      "나이 : 김\n",
      "성별 : 수\n"
     ]
    }
   ],
   "source": [
    "# class 실습\n",
    "\n",
    "# 사람 (Human) 클래스의 인스턴스를 \"생성\" 하고 이를 areum 변수로 바인딩해보세요.\n",
    "\n",
    "# class Human:\n",
    "#     pass\n",
    "\n",
    "# areum = Human()\n",
    "\n",
    "# 사람 (Human) 클래스에 (이름, 나이, 성별)을 받는 setInfo 메소드를 추가하세요.\n",
    "\n",
    "# class Human():\n",
    "    \n",
    "#     def set_info(self):\n",
    "#         name = input(\"이름 : \")\n",
    "#         age = input(\"나이 : \")\n",
    "#         gender = input(\"성별 : \")\n",
    "\n",
    "    \n",
    "\n",
    "# areum = Human()\n",
    "# areum.set_info()\n",
    "\n",
    "\n",
    "# 사람 (Human) 클래스에 \"응애응애\"를 출력하는 생성자를 추가하세요.\n",
    "\n",
    "# class Human():\n",
    "\n",
    "#     def __init__(self):\n",
    "#         print(\"응애응애\")\n",
    "\n",
    "#     def set_info(self):\n",
    "#         name = input(\"이름 : \")\n",
    "#         age = input(\"나이 : \")\n",
    "#         gender = input(\"성별 : \")\n",
    "        \n",
    "\n",
    "    \n",
    "\n",
    "# areum = Human()\n",
    "# areum.set_info()\n",
    "\n",
    "\n",
    "\n",
    "# 사람 (Human) 클래스에 (이름, 나이, 성별)을 받는 생성자를 추가하세요.\n",
    "# import time\n",
    "\n",
    "# class Human():\n",
    "\n",
    "#     def set_info(self):\n",
    "#         print(time.ctime())\n",
    "#         name = input(\"이름 : \")\n",
    "#         age = input(\"나이 : \")\n",
    "#         gender = input(\"성별 : \")       \n",
    "    \n",
    "#     def __init__(self):\n",
    "#         print(\"응애응애\")    \n",
    "#         print(time.ctime())\n",
    "#         time.sleep(2)\n",
    "#     def __init__(self):\n",
    "#         name = input(\"이름 : \")\n",
    "#         age = input(\"나이 : \")\n",
    "#         gender = input(\"성별 : \")     \n",
    "\n",
    "# areum = Human()\n",
    "# areum.set_info()\n",
    "\n",
    "\n",
    "# 위에서 생성한 인스턴스의 이름, 나이, 성별을 출력하세요. 인스턴스 변수에 접근하여 값을 출력하면 됩니다.\n",
    "\n",
    "class Human():\n",
    "\n",
    "    def set_info(self,name,age,gender):\n",
    "        #name = input(\"이름 : \")\n",
    "        #self.name = name\n",
    "        print(name)\n",
    "        age = input(\"나이 : \")\n",
    "        self.age = age\n",
    "        \n",
    "        gender = input(\"성별 : \")       \n",
    "        self.gender = gender\n",
    "        \n",
    "    def __init__(self):\n",
    "        print(\"응애응애\")    \n",
    "        \n",
    "        \n",
    "    def __init__(self):\n",
    "        name = input(\"이름 : \")\n",
    "        self.name = name\n",
    "        age = input(\"나이 : \")\n",
    "        gender = input(\"성별 : \")\n",
    "        \n",
    "areum = Human()\n",
    "\n",
    "areum.set_info(\"a\",\"b\",\"c\")\n",
    "\n",
    "\n",
    "\n",
    "# 사람 (Human) 클래스에서 이름, 나이, 성별을 출력하는 who() 메소드를 추가하세요.\n",
    "\n",
    "\n",
    "\n",
    "# 아래와 같은 에러가 발생한 원인에 대해 설명하세요.\n",
    "\n",
    "# class OMG : \n",
    "#     def print() :\n",
    "#         print(\"Oh my god\")\n",
    "\n",
    "# myStock = OMG()\n",
    "# myStock.print()\n",
    "# TypeError Traceback (most recent call last)\n",
    "# <ipython-input-233-c85c04535b22> in <module>()\n",
    "# ----> myStock.print()\n",
    "\n",
    "# TypeError: print() takes 0 positional arguments but 1 was given\n"
   ]
  },
  {
   "cell_type": "code",
   "execution_count": null,
   "id": "4dd22b0a",
   "metadata": {},
   "outputs": [],
   "source": []
  },
  {
   "cell_type": "code",
   "execution_count": null,
   "id": "2a45382d",
   "metadata": {},
   "outputs": [],
   "source": [
    "class 부모:\n",
    "    def 호출(self):\n",
    "        print(\"부모호출\")\n",
    "\n",
    "class 자식(부모):\n",
    "    def 호출(self):\n",
    "        print(\"자식호출\")\n",
    "        \n",
    "나 = 자식()\n",
    "나.호출()\n"
   ]
  },
  {
   "cell_type": "code",
   "execution_count": null,
   "id": "6ad66cac",
   "metadata": {},
   "outputs": [],
   "source": []
  },
  {
   "cell_type": "code",
   "execution_count": null,
   "id": "f12f7b00",
   "metadata": {},
   "outputs": [],
   "source": [
    "class A:\n",
    "    def B():\n",
    "        pass"
   ]
  },
  {
   "cell_type": "code",
   "execution_count": null,
   "id": "972f5957",
   "metadata": {},
   "outputs": [],
   "source": [
    "a=A()"
   ]
  },
  {
   "cell_type": "code",
   "execution_count": null,
   "id": "fc05522a",
   "metadata": {},
   "outputs": [],
   "source": [
    "a.B()"
   ]
  },
  {
   "cell_type": "code",
   "execution_count": null,
   "id": "74c9fc96",
   "metadata": {},
   "outputs": [],
   "source": [
    "B()"
   ]
  },
  {
   "cell_type": "code",
   "execution_count": null,
   "id": "4ef03ca0",
   "metadata": {},
   "outputs": [],
   "source": [
    "A.B()"
   ]
  },
  {
   "cell_type": "code",
   "execution_count": 1,
   "id": "b04cbe4a",
   "metadata": {},
   "outputs": [],
   "source": [
    "class Human:\n",
    "    \n",
    "    def __init__(self):\n",
    "        name='준'\n",
    "\n",
    "        "
   ]
  },
  {
   "cell_type": "code",
   "execution_count": 2,
   "id": "ace00572",
   "metadata": {},
   "outputs": [],
   "source": [
    "a=Human()"
   ]
  },
  {
   "cell_type": "code",
   "execution_count": 3,
   "id": "a6d75418",
   "metadata": {},
   "outputs": [
    {
     "ename": "AttributeError",
     "evalue": "'Human' object has no attribute 'name'",
     "output_type": "error",
     "traceback": [
      "\u001b[1;31m---------------------------------------------------------------------------\u001b[0m",
      "\u001b[1;31mAttributeError\u001b[0m                            Traceback (most recent call last)",
      "Cell \u001b[1;32mIn[3], line 1\u001b[0m\n\u001b[1;32m----> 1\u001b[0m a\u001b[38;5;241m.\u001b[39mname\n",
      "\u001b[1;31mAttributeError\u001b[0m: 'Human' object has no attribute 'name'"
     ]
    }
   ],
   "source": [
    "a.name "
   ]
  },
  {
   "cell_type": "code",
   "execution_count": 4,
   "id": "449615a3",
   "metadata": {},
   "outputs": [],
   "source": [
    "a.abc='123'"
   ]
  },
  {
   "cell_type": "code",
   "execution_count": 5,
   "id": "21d18f06",
   "metadata": {},
   "outputs": [
    {
     "data": {
      "text/plain": [
       "'123'"
      ]
     },
     "execution_count": 5,
     "metadata": {},
     "output_type": "execute_result"
    }
   ],
   "source": [
    "a.abc"
   ]
  },
  {
   "cell_type": "code",
   "execution_count": null,
   "id": "29444191",
   "metadata": {},
   "outputs": [],
   "source": []
  }
 ],
 "metadata": {
  "kernelspec": {
   "display_name": "Python 3 (ipykernel)",
   "language": "python",
   "name": "python3"
  },
  "language_info": {
   "codemirror_mode": {
    "name": "ipython",
    "version": 3
   },
   "file_extension": ".py",
   "mimetype": "text/x-python",
   "name": "python",
   "nbconvert_exporter": "python",
   "pygments_lexer": "ipython3",
   "version": "3.11.3"
  }
 },
 "nbformat": 4,
 "nbformat_minor": 5
}
