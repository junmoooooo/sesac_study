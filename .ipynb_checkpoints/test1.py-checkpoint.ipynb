{
 "cells": [
  {
   "cell_type": "code",
   "execution_count": 2,
   "id": "e315572f",
   "metadata": {},
   "outputs": [
    {
     "data": {
      "text/plain": [
       "140706391626536"
      ]
     },
     "execution_count": 2,
     "metadata": {},
     "output_type": "execute_result"
    }
   ],
   "source": [
    "id(1)"
   ]
  },
  {
   "cell_type": "code",
   "execution_count": 6,
   "id": "4bdbabc7",
   "metadata": {},
   "outputs": [
    {
     "data": {
      "text/plain": [
       "140706391626536"
      ]
     },
     "execution_count": 6,
     "metadata": {},
     "output_type": "execute_result"
    }
   ],
   "source": [
    "id(a)"
   ]
  },
  {
   "cell_type": "code",
   "execution_count": 5,
   "id": "88bd3bc7",
   "metadata": {},
   "outputs": [],
   "source": [
    "a=1"
   ]
  },
  {
   "cell_type": "code",
   "execution_count": null,
   "id": "d69791c0",
   "metadata": {},
   "outputs": [],
   "source": []
  },
  {
   "cell_type": "code",
   "execution_count": 9,
   "id": "c2011d09",
   "metadata": {},
   "outputs": [],
   "source": [
    "a= a+1"
   ]
  },
  {
   "cell_type": "code",
   "execution_count": 10,
   "id": "00e13166",
   "metadata": {},
   "outputs": [
    {
     "data": {
      "text/plain": [
       "2"
      ]
     },
     "execution_count": 10,
     "metadata": {},
     "output_type": "execute_result"
    }
   ],
   "source": [
    "a"
   ]
  },
  {
   "cell_type": "code",
   "execution_count": 12,
   "id": "7f57903e",
   "metadata": {},
   "outputs": [
    {
     "data": {
      "text/plain": [
       "2"
      ]
     },
     "execution_count": 12,
     "metadata": {},
     "output_type": "execute_result"
    }
   ],
   "source": [
    "a"
   ]
  },
  {
   "cell_type": "code",
   "execution_count": 13,
   "id": "5bcb5caf",
   "metadata": {},
   "outputs": [
    {
     "data": {
      "text/plain": [
       "2"
      ]
     },
     "execution_count": 13,
     "metadata": {},
     "output_type": "execute_result"
    }
   ],
   "source": [
    "a"
   ]
  },
  {
   "cell_type": "code",
   "execution_count": 15,
   "id": "2bd60df2",
   "metadata": {},
   "outputs": [],
   "source": [
    "a,b,c = 4,5,6"
   ]
  },
  {
   "cell_type": "code",
   "execution_count": null,
   "id": "7f46837a",
   "metadata": {},
   "outputs": [],
   "source": []
  },
  {
   "cell_type": "code",
   "execution_count": 17,
   "id": "92d47d8e",
   "metadata": {},
   "outputs": [
    {
     "data": {
      "text/plain": [
       "4"
      ]
     },
     "execution_count": 17,
     "metadata": {},
     "output_type": "execute_result"
    }
   ],
   "source": [
    "a"
   ]
  },
  {
   "cell_type": "code",
   "execution_count": 18,
   "id": "76ebad57",
   "metadata": {},
   "outputs": [
    {
     "data": {
      "text/plain": [
       "5"
      ]
     },
     "execution_count": 18,
     "metadata": {},
     "output_type": "execute_result"
    }
   ],
   "source": [
    "b"
   ]
  },
  {
   "cell_type": "code",
   "execution_count": 21,
   "id": "545f93a8",
   "metadata": {},
   "outputs": [
    {
     "data": {
      "text/plain": [
       "6"
      ]
     },
     "execution_count": 21,
     "metadata": {},
     "output_type": "execute_result"
    }
   ],
   "source": [
    "c"
   ]
  },
  {
   "cell_type": "code",
   "execution_count": 22,
   "id": "c18f4529",
   "metadata": {},
   "outputs": [],
   "source": [
    "a,b,c = b,c,a"
   ]
  },
  {
   "cell_type": "code",
   "execution_count": 23,
   "id": "81619cf4",
   "metadata": {},
   "outputs": [
    {
     "data": {
      "text/plain": [
       "5"
      ]
     },
     "execution_count": 23,
     "metadata": {},
     "output_type": "execute_result"
    }
   ],
   "source": [
    "a"
   ]
  },
  {
   "cell_type": "code",
   "execution_count": 24,
   "id": "58ce221f",
   "metadata": {},
   "outputs": [
    {
     "data": {
      "text/plain": [
       "6"
      ]
     },
     "execution_count": 24,
     "metadata": {},
     "output_type": "execute_result"
    }
   ],
   "source": [
    "b"
   ]
  },
  {
   "cell_type": "code",
   "execution_count": 25,
   "id": "7b989067",
   "metadata": {},
   "outputs": [
    {
     "data": {
      "text/plain": [
       "4"
      ]
     },
     "execution_count": 25,
     "metadata": {},
     "output_type": "execute_result"
    }
   ],
   "source": [
    "c"
   ]
  },
  {
   "cell_type": "code",
   "execution_count": 27,
   "id": "1e4d3350",
   "metadata": {},
   "outputs": [
    {
     "name": "stdout",
     "output_type": "stream",
     "text": [
      "A b c\n"
     ]
    }
   ],
   "source": [
    "print(\"A\",\"b\",\"c\")\n"
   ]
  },
  {
   "cell_type": "code",
   "execution_count": 28,
   "id": "6d6b0629",
   "metadata": {},
   "outputs": [],
   "source": [
    "import antigravity"
   ]
  },
  {
   "cell_type": "code",
   "execution_count": 29,
   "id": "6eb96c06",
   "metadata": {},
   "outputs": [
    {
     "name": "stdout",
     "output_type": "stream",
     "text": [
      "3 4 5\n"
     ]
    }
   ],
   "source": [
    "print(3,4,5)"
   ]
  },
  {
   "cell_type": "code",
   "execution_count": 30,
   "id": "349bea2f",
   "metadata": {},
   "outputs": [
    {
     "name": "stdout",
     "output_type": "stream",
     "text": [
      "5 6 4\n"
     ]
    }
   ],
   "source": [
    "print(a,b,c)"
   ]
  },
  {
   "cell_type": "code",
   "execution_count": 31,
   "id": "08e2dfbf",
   "metadata": {},
   "outputs": [
    {
     "data": {
      "text/plain": [
       "5"
      ]
     },
     "execution_count": 31,
     "metadata": {},
     "output_type": "execute_result"
    }
   ],
   "source": [
    "++a"
   ]
  },
  {
   "cell_type": "code",
   "execution_count": null,
   "id": "1a2829f8",
   "metadata": {},
   "outputs": [],
   "source": []
  },
  {
   "cell_type": "code",
   "execution_count": 34,
   "id": "1f47d161",
   "metadata": {},
   "outputs": [
    {
     "name": "stdout",
     "output_type": "stream",
     "text": [
      "5 + 6 = 11\n"
     ]
    }
   ],
   "source": [
    "print(a, \"+\", b, \"=\" , a+b) "
   ]
  },
  {
   "cell_type": "code",
   "execution_count": 37,
   "id": "ca5fd830",
   "metadata": {},
   "outputs": [
    {
     "name": "stdout",
     "output_type": "stream",
     "text": [
      "5 + 6 = 11\n"
     ]
    }
   ],
   "source": [
    "print(\"{} + {} = {}\".format(a,b,a+b))"
   ]
  },
  {
   "cell_type": "code",
   "execution_count": 41,
   "id": "443f6c41",
   "metadata": {},
   "outputs": [
    {
     "name": "stdout",
     "output_type": "stream",
     "text": [
      "1 + 2 = 5\n"
     ]
    }
   ],
   "source": [
    "a=1\n",
    "b=2\n",
    "print (\"{} + {} = {}\".format(a,b,a+c))"
   ]
  },
  {
   "cell_type": "code",
   "execution_count": 42,
   "id": "bb0e1d03",
   "metadata": {},
   "outputs": [
    {
     "name": "stdout",
     "output_type": "stream",
     "text": [
      "1 + 2 = 6\n"
     ]
    }
   ],
   "source": [
    "print (\"{} + {} = {}\".format(a,b,a+5))"
   ]
  },
  {
   "cell_type": "markdown",
   "id": "f3483640",
   "metadata": {},
   "source": [
    "# 이거시제목?"
   ]
  },
  {
   "cell_type": "markdown",
   "id": "3e7cf22d",
   "metadata": {},
   "source": [
    "# 1\n",
    "## 2\n",
    "### 3\n",
    "#### 4\n",
    "##### 5\n"
   ]
  },
  {
   "cell_type": "code",
   "execution_count": 43,
   "id": "2f27f1a9",
   "metadata": {},
   "outputs": [
    {
     "name": "stdout",
     "output_type": "stream",
     "text": [
      "12\n"
     ]
    },
    {
     "data": {
      "text/plain": [
       "'12'"
      ]
     },
     "execution_count": 43,
     "metadata": {},
     "output_type": "execute_result"
    }
   ],
   "source": [
    "input()"
   ]
  },
  {
   "cell_type": "code",
   "execution_count": 44,
   "id": "bde29dba",
   "metadata": {},
   "outputs": [
    {
     "name": "stdout",
     "output_type": "stream",
     "text": [
      "123\n",
      "123\n"
     ]
    }
   ],
   "source": [
    "print(input())"
   ]
  },
  {
   "cell_type": "code",
   "execution_count": 46,
   "id": "99e593cf",
   "metadata": {},
   "outputs": [
    {
     "name": "stdout",
     "output_type": "stream",
     "text": [
      "123\n",
      "123\n",
      "123\n",
      "123\n"
     ]
    }
   ],
   "source": [
    "print(input())\n",
    "print(input())"
   ]
  },
  {
   "cell_type": "code",
   "execution_count": 47,
   "id": "367c74d1",
   "metadata": {},
   "outputs": [
    {
     "name": "stdout",
     "output_type": "stream",
     "text": [
      "123\n",
      "123\n",
      "123\n"
     ]
    }
   ],
   "source": [
    "num=input()\n",
    "print(num)\n",
    "print(num)\n"
   ]
  },
  {
   "cell_type": "code",
   "execution_count": 48,
   "id": "392e95ed",
   "metadata": {},
   "outputs": [
    {
     "name": "stdout",
     "output_type": "stream",
     "text": [
      "lee\n",
      "name lee\n",
      "47\n",
      "age 47\n"
     ]
    }
   ],
   "source": [
    "print(\"name\",input())\n",
    "print(\"age\",input())"
   ]
  },
  {
   "cell_type": "code",
   "execution_count": 50,
   "id": "cf2e42bc",
   "metadata": {},
   "outputs": [
    {
     "name": "stdout",
     "output_type": "stream",
     "text": [
      "이름 : lee\n",
      "name lee\n",
      "나이 : 47\n",
      "age 47\n"
     ]
    }
   ],
   "source": [
    "print(\"name\", input(\"이름 : \"))\n",
    "print(\"age\", input(\"나이 : \"))"
   ]
  },
  {
   "cell_type": "code",
   "execution_count": 51,
   "id": "81277ad0",
   "metadata": {},
   "outputs": [
    {
     "name": "stdout",
     "output_type": "stream",
     "text": [
      "sksksdf\n"
     ]
    },
    {
     "data": {
      "text/plain": [
       "'sdf'"
      ]
     },
     "execution_count": 51,
     "metadata": {},
     "output_type": "execute_result"
    }
   ],
   "source": [
    "input(\"sksk\")"
   ]
  },
  {
   "cell_type": "markdown",
   "id": "84cf8855",
   "metadata": {},
   "source": []
  },
  {
   "cell_type": "code",
   "execution_count": 53,
   "id": "5954d233",
   "metadata": {},
   "outputs": [
    {
     "name": "stdout",
     "output_type": "stream",
     "text": [
      "이름 : LEE\n",
      "나이 : 47\n",
      "이름 : LEE\n",
      "나이 : 47\n"
     ]
    }
   ],
   "source": [
    "name = input(\"이름 : \")\n",
    "age = input(\"나이 : \")\n",
    "print(\"이름 : {}\".format(name))\n",
    "print(\"나이 : {}\".format(age))"
   ]
  },
  {
   "cell_type": "code",
   "execution_count": 55,
   "id": "ca826248",
   "metadata": {},
   "outputs": [
    {
     "name": "stdout",
     "output_type": "stream",
     "text": [
      "hllo world\n"
     ]
    }
   ],
   "source": [
    "# 해당코드느 prt를 test하는 코드입니다.\n",
    "print(\"hllo world\")"
   ]
  },
  {
   "cell_type": "code",
   "execution_count": null,
   "id": "b0d14b84",
   "metadata": {},
   "outputs": [],
   "source": []
  },
  {
   "cell_type": "code",
   "execution_count": null,
   "id": "626cb83a",
   "metadata": {},
   "outputs": [],
   "source": [
    "print(1)\n",
    "#print(2)\n",
    "print(3)\n",
    "'''\n",
    "print(4)\n",
    "print(5)\n",
    "print(6)\n",
    "print(7)\n",
    "'''\n",
    "\n"
   ]
  },
  {
   "cell_type": "code",
   "execution_count": null,
   "id": "26c0748c",
   "metadata": {},
   "outputs": [],
   "source": []
  },
  {
   "cell_type": "code",
   "execution_count": 6,
   "id": "92c086c6",
   "metadata": {},
   "outputs": [],
   "source": [
    "a=1"
   ]
  },
  {
   "cell_type": "code",
   "execution_count": 4,
   "id": "effb93c1",
   "metadata": {},
   "outputs": [
    {
     "name": "stdout",
     "output_type": "stream",
     "text": [
      "나이를 입력하세요 : 45\n",
      "당신의 나이는 45 입니다\n"
     ]
    }
   ],
   "source": [
    "print(\"당신의 나이는\",age4:=input(\"나이를 입력하세요 : \"),\"입니다\")\n"
   ]
  },
  {
   "cell_type": "code",
   "execution_count": 7,
   "id": "05c87a4b",
   "metadata": {},
   "outputs": [
    {
     "name": "stdout",
     "output_type": "stream",
     "text": [
      "1\n"
     ]
    }
   ],
   "source": [
    "if a==1:\n",
    "    print(1)\n",
    "else:\n",
    "    print(2)"
   ]
  },
  {
   "cell_type": "code",
   "execution_count": 9,
   "id": "b21ce33f",
   "metadata": {},
   "outputs": [
    {
     "name": "stdout",
     "output_type": "stream",
     "text": [
      "10\n"
     ]
    }
   ],
   "source": [
    "if a==1:\n",
    "    print(1+\n",
    "         2+\n",
    "         3+\n",
    "         4\n",
    "         )"
   ]
  },
  {
   "cell_type": "code",
   "execution_count": 10,
   "id": "69eff635",
   "metadata": {},
   "outputs": [],
   "source": [
    "a= 1 ; b=2"
   ]
  },
  {
   "cell_type": "code",
   "execution_count": 11,
   "id": "dfd8fb34",
   "metadata": {},
   "outputs": [],
   "source": [
    "a=1\n",
    "a=2"
   ]
  },
  {
   "cell_type": "code",
   "execution_count": 12,
   "id": "f846840f",
   "metadata": {},
   "outputs": [
    {
     "data": {
      "text/plain": [
       "2"
      ]
     },
     "execution_count": 12,
     "metadata": {},
     "output_type": "execute_result"
    }
   ],
   "source": [
    "a"
   ]
  },
  {
   "cell_type": "code",
   "execution_count": 13,
   "id": "0f9bb94e",
   "metadata": {},
   "outputs": [
    {
     "data": {
      "text/plain": [
       "2"
      ]
     },
     "execution_count": 13,
     "metadata": {},
     "output_type": "execute_result"
    }
   ],
   "source": [
    "b"
   ]
  },
  {
   "cell_type": "code",
   "execution_count": 21,
   "id": "f73ad34d",
   "metadata": {},
   "outputs": [],
   "source": [
    "a=1\n",
    "b=1\n",
    "c=3\n",
    "d=4"
   ]
  },
  {
   "cell_type": "code",
   "execution_count": 15,
   "id": "c07a8c62",
   "metadata": {},
   "outputs": [
    {
     "data": {
      "text/plain": [
       "True"
      ]
     },
     "execution_count": 15,
     "metadata": {},
     "output_type": "execute_result"
    }
   ],
   "source": [
    "a<b"
   ]
  },
  {
   "cell_type": "code",
   "execution_count": 16,
   "id": "fb900f96",
   "metadata": {},
   "outputs": [
    {
     "data": {
      "text/plain": [
       "False"
      ]
     },
     "execution_count": 16,
     "metadata": {},
     "output_type": "execute_result"
    }
   ],
   "source": [
    "a>b"
   ]
  },
  {
   "cell_type": "code",
   "execution_count": 22,
   "id": "9b67fe70",
   "metadata": {},
   "outputs": [
    {
     "data": {
      "text/plain": [
       "1"
      ]
     },
     "execution_count": 22,
     "metadata": {},
     "output_type": "execute_result"
    }
   ],
   "source": [
    "abc = 1\n",
    "a>b or abc"
   ]
  },
  {
   "cell_type": "code",
   "execution_count": 23,
   "id": "46410431",
   "metadata": {},
   "outputs": [
    {
     "data": {
      "text/plain": [
       "False"
      ]
     },
     "execution_count": 23,
     "metadata": {},
     "output_type": "execute_result"
    }
   ],
   "source": [
    "abc = 1\n",
    "a>b and abc"
   ]
  },
  {
   "cell_type": "code",
   "execution_count": 24,
   "id": "a77f61d5",
   "metadata": {},
   "outputs": [
    {
     "data": {
      "text/plain": [
       "False"
      ]
     },
     "execution_count": 24,
     "metadata": {},
     "output_type": "execute_result"
    }
   ],
   "source": [
    "abc = 1\n",
    "abc and a>b"
   ]
  },
  {
   "cell_type": "code",
   "execution_count": 25,
   "id": "c7d57f19",
   "metadata": {},
   "outputs": [
    {
     "name": "stdout",
     "output_type": "stream",
     "text": [
      "a\n",
      "b\n",
      "c\n",
      "d\n",
      "e\n",
      "f\n"
     ]
    }
   ],
   "source": [
    "for i in \"abcdef\":\n",
    "    print(i)"
   ]
  },
  {
   "cell_type": "code",
   "execution_count": 26,
   "id": "cda086f6",
   "metadata": {
    "scrolled": true
   },
   "outputs": [
    {
     "name": "stdout",
     "output_type": "stream",
     "text": [
      "0\n",
      "1\n",
      "2\n",
      "3\n"
     ]
    }
   ],
   "source": [
    "i=0\n",
    "while i < 4:\n",
    "    print(i)\n",
    "    i = i+1"
   ]
  },
  {
   "cell_type": "code",
   "execution_count": 28,
   "id": "39da604f",
   "metadata": {
    "scrolled": true
   },
   "outputs": [
    {
     "name": "stdout",
     "output_type": "stream",
     "text": [
      "따둔 3 남았으\n",
      "따둔 2 남았으\n",
      "따둔 1 남았으\n",
      "따둔 0 남았으\n"
     ]
    }
   ],
   "source": [
    "i = 4\n",
    "while i>0:\n",
    "    print(\"따둔\", i := i -1, \"남았으\")"
   ]
  },
  {
   "cell_type": "code",
   "execution_count": null,
   "id": "a3242fd9",
   "metadata": {},
   "outputs": [],
   "source": []
  },
  {
   "cell_type": "code",
   "execution_count": null,
   "id": "51ff5ba0",
   "metadata": {},
   "outputs": [],
   "source": [
    "i =2\n",
    "while i := i+1 <=5:\n",
    "        print(i)\n",
    "        i +=1"
   ]
  },
  {
   "cell_type": "markdown",
   "id": "ace59510",
   "metadata": {},
   "source": []
  },
  {
   "cell_type": "code",
   "execution_count": 3,
   "id": "120b7c30",
   "metadata": {},
   "outputs": [
    {
     "name": "stdout",
     "output_type": "stream",
     "text": [
      "3\n",
      "4\n",
      "5\n"
     ]
    }
   ],
   "source": [
    "i = 2\n",
    "while (i := i+1) <= 5:\n",
    "        print(i)\n"
   ]
  },
  {
   "cell_type": "code",
   "execution_count": 8,
   "id": "7dc91824",
   "metadata": {},
   "outputs": [
    {
     "name": "stdout",
     "output_type": "stream",
     "text": [
      "1234\n"
     ]
    }
   ],
   "source": []
  },
  {
   "cell_type": "code",
   "execution_count": null,
   "id": "aa81ee83",
   "metadata": {},
   "outputs": [],
   "source": []
  },
  {
   "cell_type": "code",
   "execution_count": null,
   "id": "b3cdd472",
   "metadata": {},
   "outputs": [],
   "source": []
  },
  {
   "cell_type": "code",
   "execution_count": 5,
   "id": "33cec25b",
   "metadata": {},
   "outputs": [],
   "source": [
    "def add(a,b):\n",
    "    return a+b"
   ]
  },
  {
   "cell_type": "code",
   "execution_count": 6,
   "id": "c9bad0f5",
   "metadata": {},
   "outputs": [
    {
     "data": {
      "text/plain": [
       "7"
      ]
     },
     "execution_count": 6,
     "metadata": {},
     "output_type": "execute_result"
    }
   ],
   "source": [
    "add(3,4)"
   ]
  },
  {
   "cell_type": "code",
   "execution_count": 9,
   "id": "4258122c",
   "metadata": {},
   "outputs": [],
   "source": [
    "def avg(x,y,z):\n",
    "    sum1 = x + y + z\n",
    "    avg1 = sum1/3\n",
    "    return avg1"
   ]
  },
  {
   "cell_type": "code",
   "execution_count": 10,
   "id": "bd4b8082",
   "metadata": {},
   "outputs": [
    {
     "name": "stdout",
     "output_type": "stream",
     "text": [
      "4133.333333333333\n"
     ]
    }
   ],
   "source": [
    "print(avg(100,300,12000))"
   ]
  },
  {
   "cell_type": "code",
   "execution_count": 11,
   "id": "c3aeb4f8",
   "metadata": {},
   "outputs": [
    {
     "name": "stdout",
     "output_type": "stream",
     "text": [
      "hi, Nobreak\n"
     ]
    }
   ],
   "source": [
    "print (\"hi, Nobreak\")"
   ]
  },
  {
   "cell_type": "code",
   "execution_count": 12,
   "id": "d5b37f09",
   "metadata": {},
   "outputs": [
    {
     "name": "stdout",
     "output_type": "stream",
     "text": [
      "100 30 130\n"
     ]
    }
   ],
   "source": [
    "a1 = 100\n",
    "a2 = 30\n",
    "a3 = a1 + a2\n",
    "\n",
    "print (a1, a2, a3)"
   ]
  },
  {
   "cell_type": "code",
   "execution_count": 13,
   "id": "53555bd2",
   "metadata": {},
   "outputs": [
    {
     "name": "stdout",
     "output_type": "stream",
     "text": [
      "Hi, NobreakHi, NobreakHi, Nobreak\n"
     ]
    }
   ],
   "source": [
    "a = \"Hi, Nobreak\"\n",
    "print(a*3)"
   ]
  },
  {
   "cell_type": "code",
   "execution_count": 30,
   "id": "8aee6b29",
   "metadata": {},
   "outputs": [
    {
     "name": "stdout",
     "output_type": "stream",
     "text": [
      "Hi, Nobreak\n",
      "Hi, Nobreak\n",
      "Hi, Nobreak\n"
     ]
    }
   ],
   "source": [
    "for i in range(3):\n",
    "    print(a)"
   ]
  },
  {
   "cell_type": "code",
   "execution_count": 39,
   "id": "a10d9861",
   "metadata": {},
   "outputs": [
    {
     "name": "stdout",
     "output_type": "stream",
     "text": [
      "name 은  junmo 입니다\n",
      "name 은 junmo입니다\n"
     ]
    }
   ],
   "source": [
    "name = \"junmo\"\n",
    "print ( \"name 은 \",name, \"입니다\")\n",
    "print (\"name 은 {}입니다\".format(name))"
   ]
  },
  {
   "cell_type": "code",
   "execution_count": 40,
   "id": "a95edd91",
   "metadata": {},
   "outputs": [
    {
     "name": "stdout",
     "output_type": "stream",
     "text": [
      "겨울\n",
      "이번 겨울 은 추울 것 같습니다.\n",
      "이번 겨울은 추울 것 같습니다.\n"
     ]
    }
   ],
   "source": [
    "season =input()\n",
    "print (\"이번\",season,\"은 추울 것 같습니다.\")\n",
    "print (\"이번 {}은 추울 것 같습니다.\".format(season))"
   ]
  },
  {
   "cell_type": "code",
   "execution_count": 28,
   "id": "a09ecab9",
   "metadata": {},
   "outputs": [
    {
     "name": "stdout",
     "output_type": "stream",
     "text": [
      "이 문장은 출력이 됩니다.\n",
      "이 문장도 출력이 됩니다.\n"
     ]
    }
   ],
   "source": [
    "\n",
    "print (\"이 문장은 출력이 됩니다.\")\n",
    "'''\n",
    "주석은\n",
    "실행되지 않습니다.\n",
    "'''\n",
    "print(\"이 문장도 출력이 됩니다.\")\n"
   ]
  },
  {
   "cell_type": "code",
   "execution_count": 36,
   "id": "7a88ea50",
   "metadata": {},
   "outputs": [
    {
     "name": "stdout",
     "output_type": "stream",
     "text": [
      "보자기\n",
      "잘못냈다\n"
     ]
    }
   ],
   "source": [
    "srp = input()\n",
    "if srp==\"가위\":\n",
    "    print(\"win\")\n",
    "elif srp == \"바위\":\n",
    "    print(\"rose\")\n",
    "elif srp == \"보\":\n",
    "    print(\"비겼다\")\n",
    "else:\n",
    "    print(\"잘못냈다\")\n",
    "        \n"
   ]
  },
  {
   "cell_type": "code",
   "execution_count": 64,
   "id": "5ee8a0ad",
   "metadata": {
    "scrolled": true
   },
   "outputs": [
    {
     "name": "stdout",
     "output_type": "stream",
     "text": [
      "봄\n",
      "현재 계절은 봄 입니다\n"
     ]
    }
   ],
   "source": [
    "season1 = input()\n",
    "seasons = ['봄','여름','가을','겨울']\n",
    "\n",
    "for i in range(len(seasons)):\n",
    "    if seasons[i] == season1:\n",
    "         print (\"현재 계절은\", season1, \"입니다\")\n",
    "         break\n",
    "         \n",
    "    else:\n",
    "         print (\"현재 계절은\", seasons[i], \"입니다\")\n"
   ]
  },
  {
   "cell_type": "code",
   "execution_count": 63,
   "id": "16580c89",
   "metadata": {},
   "outputs": [
    {
     "name": "stdout",
     "output_type": "stream",
     "text": [
      "불일치 0\n",
      "불일치 5\n",
      "불일치 10\n",
      "불일치 15\n",
      "불일치 20\n",
      "불일치 25\n",
      "불일치 30\n",
      "불일치 35\n",
      "불일치 40\n",
      "불일치 45\n",
      "불일치 50\n",
      "일치 55\n",
      "불일치 60\n",
      "불일치 65\n",
      "불일치 70\n",
      "불일치 75\n",
      "불일치 80\n",
      "불일치 85\n",
      "불일치 90\n",
      "불일치 95\n",
      "불일치 100\n"
     ]
    }
   ],
   "source": [
    "num=0\n",
    "while num <= 100:\n",
    "    if num == 55:\n",
    "        print(\"일치\",num)\n",
    "    else:\n",
    "        print(\"불일치\",num)\n",
    "    num = num +5\n"
   ]
  },
  {
   "cell_type": "code",
   "execution_count": 56,
   "id": "f6f6cb33",
   "metadata": {},
   "outputs": [
    {
     "name": "stdout",
     "output_type": "stream",
     "text": [
      "win\n",
      "rose\n",
      "비겼다\n",
      "잘못냈다\n"
     ]
    }
   ],
   "source": [
    "def srp(x):\n",
    "    if x==\"가위\":\n",
    "        print(\"win\")\n",
    "    elif x==\"바위\":\n",
    "        print(\"rose\")\n",
    "    elif x== \"보\":\n",
    "        print(\"drow\")\n",
    "    else:\n",
    "        print(\"잘못냈다\")\n",
    "        \n",
    "srp(\"가위\")\n",
    "srp(\"바위\")\n",
    "srp(\"보\")\n",
    "srp(\"보자기\")"
   ]
  },
  {
   "cell_type": "code",
   "execution_count": null,
   "id": "bef3980f",
   "metadata": {},
   "outputs": [],
   "source": []
  },
  {
   "cell_type": "code",
   "execution_count": null,
   "id": "bf3672ab",
   "metadata": {},
   "outputs": [],
   "source": []
  },
  {
   "cell_type": "code",
   "execution_count": 65,
   "id": "a05ef599",
   "metadata": {},
   "outputs": [
    {
     "data": {
      "text/plain": [
       "int"
      ]
     },
     "execution_count": 65,
     "metadata": {},
     "output_type": "execute_result"
    }
   ],
   "source": [
    "type(1)"
   ]
  },
  {
   "cell_type": "code",
   "execution_count": 66,
   "id": "f90bb5d8",
   "metadata": {},
   "outputs": [
    {
     "data": {
      "text/plain": [
       "float"
      ]
     },
     "execution_count": 66,
     "metadata": {},
     "output_type": "execute_result"
    }
   ],
   "source": [
    "type(1.0)"
   ]
  },
  {
   "cell_type": "code",
   "execution_count": 67,
   "id": "318845dd",
   "metadata": {},
   "outputs": [
    {
     "data": {
      "text/plain": [
       "1e-17"
      ]
     },
     "execution_count": 67,
     "metadata": {},
     "output_type": "execute_result"
    }
   ],
   "source": [
    "num=0.00000000000000001\n",
    "num"
   ]
  },
  {
   "cell_type": "code",
   "execution_count": 70,
   "id": "6b245b70",
   "metadata": {},
   "outputs": [
    {
     "data": {
      "text/plain": [
       "complex"
      ]
     },
     "execution_count": 70,
     "metadata": {},
     "output_type": "execute_result"
    }
   ],
   "source": [
    "comp1 = 1 +1j\n",
    "type(comp1)"
   ]
  },
  {
   "cell_type": "code",
   "execution_count": 74,
   "id": "ee12ea00",
   "metadata": {},
   "outputs": [
    {
     "data": {
      "text/plain": [
       "4.123105625617661"
      ]
     },
     "execution_count": 74,
     "metadata": {},
     "output_type": "execute_result"
    }
   ],
   "source": [
    "comp1 = 1 +4j\n",
    "\n",
    "\n",
    "abs(comp1)"
   ]
  },
  {
   "cell_type": "code",
   "execution_count": 75,
   "id": "0a840445",
   "metadata": {},
   "outputs": [
    {
     "data": {
      "text/plain": [
       "'0o12'"
      ]
     },
     "execution_count": 75,
     "metadata": {},
     "output_type": "execute_result"
    }
   ],
   "source": [
    "oct(10)"
   ]
  },
  {
   "cell_type": "code",
   "execution_count": 76,
   "id": "8360f113",
   "metadata": {},
   "outputs": [
    {
     "data": {
      "text/plain": [
       "'0xa'"
      ]
     },
     "execution_count": 76,
     "metadata": {},
     "output_type": "execute_result"
    }
   ],
   "source": [
    "hex(10)"
   ]
  },
  {
   "cell_type": "code",
   "execution_count": 77,
   "id": "d0a14f6b",
   "metadata": {},
   "outputs": [
    {
     "data": {
      "text/plain": [
       "10"
      ]
     },
     "execution_count": 77,
     "metadata": {},
     "output_type": "execute_result"
    }
   ],
   "source": [
    "int(0b1010)"
   ]
  },
  {
   "cell_type": "code",
   "execution_count": 78,
   "id": "5a222847",
   "metadata": {},
   "outputs": [
    {
     "data": {
      "text/plain": [
       "int"
      ]
     },
     "execution_count": 78,
     "metadata": {},
     "output_type": "execute_result"
    }
   ],
   "source": [
    "type(0b1010)"
   ]
  },
  {
   "cell_type": "code",
   "execution_count": 79,
   "id": "d1be04f9",
   "metadata": {},
   "outputs": [
    {
     "data": {
      "text/plain": [
       "1.1428571428571428"
      ]
     },
     "execution_count": 79,
     "metadata": {},
     "output_type": "execute_result"
    }
   ],
   "source": [
    "16/14"
   ]
  },
  {
   "cell_type": "code",
   "execution_count": 80,
   "id": "1f81c45f",
   "metadata": {},
   "outputs": [
    {
     "data": {
      "text/plain": [
       "729"
      ]
     },
     "execution_count": 80,
     "metadata": {},
     "output_type": "execute_result"
    }
   ],
   "source": [
    "9**3\n"
   ]
  },
  {
   "cell_type": "code",
   "execution_count": 81,
   "id": "2cd36133",
   "metadata": {},
   "outputs": [
    {
     "data": {
      "text/plain": [
       "19683"
      ]
     },
     "execution_count": 81,
     "metadata": {},
     "output_type": "execute_result"
    }
   ],
   "source": [
    "3**9"
   ]
  },
  {
   "cell_type": "code",
   "execution_count": 82,
   "id": "fd0def49",
   "metadata": {},
   "outputs": [
    {
     "name": "stdout",
     "output_type": "stream",
     "text": [
      "num를 입력10\n",
      "num2를 입력하세요45\n",
      "두숫자의 합은 55입니다\n"
     ]
    }
   ],
   "source": [
    "num=input('num를 입력')\n",
    "num2=input('num2를 입력하세요')\n",
    " \n",
    "print (\"두숫자의 합은 {}입니다\".format(int(num)+int(num2)))"
   ]
  },
  {
   "cell_type": "code",
   "execution_count": null,
   "id": "c6ed9ef6",
   "metadata": {},
   "outputs": [],
   "source": []
  },
  {
   "cell_type": "code",
   "execution_count": null,
   "id": "c5bc335a",
   "metadata": {},
   "outputs": [],
   "source": []
  },
  {
   "cell_type": "code",
   "execution_count": 84,
   "id": "85fdb69d",
   "metadata": {},
   "outputs": [
    {
     "data": {
      "text/plain": [
       "'abcdedef'"
      ]
     },
     "execution_count": 84,
     "metadata": {},
     "output_type": "execute_result"
    }
   ],
   "source": [
    "'abcde' + 'def'"
   ]
  },
  {
   "cell_type": "code",
   "execution_count": 85,
   "id": "f0046d70",
   "metadata": {},
   "outputs": [],
   "source": [
    "menu1 = \"-----\\n1.add\\n2.sub\\n3.quit\\n-----\""
   ]
  },
  {
   "cell_type": "code",
   "execution_count": 86,
   "id": "9de88d39",
   "metadata": {},
   "outputs": [
    {
     "name": "stdout",
     "output_type": "stream",
     "text": [
      "-----\n",
      "1.add\n",
      "2.sub\n",
      "3.quit\n",
      "-----\n"
     ]
    }
   ],
   "source": [
    "print(menu1)"
   ]
  },
  {
   "cell_type": "code",
   "execution_count": 88,
   "id": "c18bac2f",
   "metadata": {},
   "outputs": [
    {
     "name": "stdout",
     "output_type": "stream",
     "text": [
      "\n",
      "-----\n",
      "1.add\n",
      "2.sub\n",
      "3.quit\n",
      "-----\n",
      "\n"
     ]
    }
   ],
   "source": [
    "menu2 = '''\n",
    "-----\n",
    "1.add\n",
    "2.sub\n",
    "3.quit\n",
    "-----\n",
    "'''\n",
    "\n",
    "print(menu2)"
   ]
  },
  {
   "cell_type": "code",
   "execution_count": 89,
   "id": "dab40ff3",
   "metadata": {
    "scrolled": true
   },
   "outputs": [
    {
     "name": "stdout",
     "output_type": "stream",
     "text": [
      " 'a'+\"b\"='c' \n"
     ]
    }
   ],
   "source": [
    "print(''' 'a'+\"b\"='c' ''')"
   ]
  },
  {
   "cell_type": "code",
   "execution_count": 132,
   "id": "20daf3f0",
   "metadata": {},
   "outputs": [
    {
     "name": "stdout",
     "output_type": "stream",
     "text": [
      "C:\n",
      "aver\terminal\" \n"
     ]
    }
   ],
   "source": [
    "path3 = \"C:\\naver\\terminal\\\" \"\n",
    "path3\n",
    "print(path3)"
   ]
  },
  {
   "cell_type": "code",
   "execution_count": 130,
   "id": "dc15f829",
   "metadata": {},
   "outputs": [
    {
     "name": "stdout",
     "output_type": "stream",
     "text": [
      "c:\\naver\\terminal\n"
     ]
    }
   ],
   "source": [
    "path2=\"c:\\\\naver\\\\terminal\"\n",
    "print(path2)"
   ]
  },
  {
   "cell_type": "code",
   "execution_count": 101,
   "id": "55510ab4",
   "metadata": {},
   "outputs": [
    {
     "data": {
      "text/plain": [
       "'p'"
      ]
     },
     "execution_count": 101,
     "metadata": {},
     "output_type": "execute_result"
    }
   ],
   "source": [
    "str1 = \"abcdefghijklnmop\"\n",
    "str1[0]\n",
    "str1[-1]"
   ]
  },
  {
   "cell_type": "code",
   "execution_count": 103,
   "id": "4cd1f3bf",
   "metadata": {},
   "outputs": [
    {
     "data": {
      "text/plain": [
       "'abcdef'"
      ]
     },
     "execution_count": 103,
     "metadata": {},
     "output_type": "execute_result"
    }
   ],
   "source": [
    "str1[0:6]"
   ]
  },
  {
   "cell_type": "code",
   "execution_count": 107,
   "id": "321852d7",
   "metadata": {},
   "outputs": [
    {
     "data": {
      "text/plain": [
       "'bcdefghij'"
      ]
     },
     "execution_count": 107,
     "metadata": {},
     "output_type": "execute_result"
    }
   ],
   "source": [
    "str1[1:10]"
   ]
  },
  {
   "cell_type": "code",
   "execution_count": 113,
   "id": "09393966",
   "metadata": {},
   "outputs": [
    {
     "data": {
      "text/plain": [
       "'abcdef'"
      ]
     },
     "execution_count": 113,
     "metadata": {},
     "output_type": "execute_result"
    }
   ],
   "source": [
    "str1[:6]"
   ]
  },
  {
   "cell_type": "code",
   "execution_count": 115,
   "id": "6250fd74",
   "metadata": {},
   "outputs": [
    {
     "data": {
      "text/plain": [
       "'klnmop'"
      ]
     },
     "execution_count": 115,
     "metadata": {},
     "output_type": "execute_result"
    }
   ],
   "source": [
    "str1[10:16]\n"
   ]
  },
  {
   "cell_type": "code",
   "execution_count": 116,
   "id": "76d8fd27",
   "metadata": {},
   "outputs": [
    {
     "data": {
      "text/plain": [
       "'abcdefghijklnmop'"
      ]
     },
     "execution_count": 116,
     "metadata": {},
     "output_type": "execute_result"
    }
   ],
   "source": [
    "str1[:]"
   ]
  },
  {
   "cell_type": "code",
   "execution_count": null,
   "id": "e38894d0",
   "metadata": {},
   "outputs": [],
   "source": []
  },
  {
   "cell_type": "code",
   "execution_count": 134,
   "id": "16af6cc0",
   "metadata": {},
   "outputs": [
    {
     "name": "stdout",
     "output_type": "stream",
     "text": [
      "abcdef12345\n"
     ]
    }
   ],
   "source": [
    "a=\"abcdef\"\n",
    "b=\"12345\"\n",
    "\n",
    "c=a+b\n",
    "print(c)"
   ]
  },
  {
   "cell_type": "code",
   "execution_count": 135,
   "id": "fe842336",
   "metadata": {},
   "outputs": [
    {
     "name": "stdout",
     "output_type": "stream",
     "text": [
      "123451234512345\n"
     ]
    }
   ],
   "source": [
    "print(b*3)"
   ]
  },
  {
   "cell_type": "code",
   "execution_count": 136,
   "id": "17219047",
   "metadata": {},
   "outputs": [
    {
     "data": {
      "text/plain": [
       "'e'"
      ]
     },
     "execution_count": 136,
     "metadata": {},
     "output_type": "execute_result"
    }
   ],
   "source": [
    "c[2]"
   ]
  },
  {
   "cell_type": "code",
   "execution_count": 139,
   "id": "cd645106",
   "metadata": {},
   "outputs": [
    {
     "data": {
      "text/plain": [
       "('c', 'e', '2')"
      ]
     },
     "execution_count": 139,
     "metadata": {},
     "output_type": "execute_result"
    }
   ],
   "source": [
    "c[2],c[4],c[7]"
   ]
  },
  {
   "cell_type": "code",
   "execution_count": 140,
   "id": "dbac850d",
   "metadata": {},
   "outputs": [
    {
     "data": {
      "text/plain": [
       "'ce2'"
      ]
     },
     "execution_count": 140,
     "metadata": {},
     "output_type": "execute_result"
    }
   ],
   "source": [
    "d = c[2]+c[4]+c[7]\n",
    "d"
   ]
  },
  {
   "cell_type": "code",
   "execution_count": 142,
   "id": "68f2d10e",
   "metadata": {},
   "outputs": [
    {
     "data": {
      "text/plain": [
       "'2'"
      ]
     },
     "execution_count": 142,
     "metadata": {},
     "output_type": "execute_result"
    }
   ],
   "source": [
    "c[-4]"
   ]
  },
  {
   "cell_type": "code",
   "execution_count": 143,
   "id": "4734fce3",
   "metadata": {},
   "outputs": [
    {
     "data": {
      "text/plain": [
       "'def12345'"
      ]
     },
     "execution_count": 143,
     "metadata": {},
     "output_type": "execute_result"
    }
   ],
   "source": [
    "c[2:]"
   ]
  },
  {
   "cell_type": "code",
   "execution_count": 144,
   "id": "fce4cc26",
   "metadata": {},
   "outputs": [
    {
     "data": {
      "text/plain": [
       "'def1'"
      ]
     },
     "execution_count": 144,
     "metadata": {},
     "output_type": "execute_result"
    }
   ],
   "source": [
    "c[3:7]"
   ]
  },
  {
   "cell_type": "code",
   "execution_count": 146,
   "id": "deb62420",
   "metadata": {},
   "outputs": [
    {
     "data": {
      "text/plain": [
       "'f12'"
      ]
     },
     "execution_count": 146,
     "metadata": {},
     "output_type": "execute_result"
    }
   ],
   "source": [
    "c[-6:-3]"
   ]
  },
  {
   "cell_type": "code",
   "execution_count": 147,
   "id": "d5aaeb1a",
   "metadata": {},
   "outputs": [
    {
     "data": {
      "text/plain": [
       "'abcdef12345'"
      ]
     },
     "execution_count": 147,
     "metadata": {},
     "output_type": "execute_result"
    }
   ],
   "source": [
    "c[:]"
   ]
  },
  {
   "cell_type": "code",
   "execution_count": 151,
   "id": "689dc83a",
   "metadata": {},
   "outputs": [
    {
     "data": {
      "text/plain": [
       "'54321fedcba'"
      ]
     },
     "execution_count": 151,
     "metadata": {},
     "output_type": "execute_result"
    }
   ],
   "source": [
    "c[10::-1]"
   ]
  },
  {
   "cell_type": "code",
   "execution_count": 154,
   "id": "dec4f65e",
   "metadata": {},
   "outputs": [
    {
     "name": "stdout",
     "output_type": "stream",
     "text": [
      "a\n",
      "b\n",
      "c\n",
      "d\n",
      "e\n",
      "f\n",
      "1\n",
      "2\n",
      "3\n",
      "4\n",
      "5\n"
     ]
    }
   ],
   "source": [
    "for i in range(len(c)):\n",
    "    print(c[i])"
   ]
  },
  {
   "cell_type": "code",
   "execution_count": 157,
   "id": "e84187c8",
   "metadata": {},
   "outputs": [
    {
     "data": {
      "text/plain": [
       "['a', 'b', 'c', 'd', 'e', 'f', '1', '2', '3', '4', '5']"
      ]
     },
     "execution_count": 157,
     "metadata": {},
     "output_type": "execute_result"
    }
   ],
   "source": [
    "list(c[:])"
   ]
  },
  {
   "cell_type": "code",
   "execution_count": null,
   "id": "28e89b70",
   "metadata": {},
   "outputs": [],
   "source": [
    "[true_value] if [condition] else [false_value] // 파이썬 지원"
   ]
  },
  {
   "cell_type": "code",
   "execution_count": 170,
   "id": "756754c1",
   "metadata": {},
   "outputs": [
    {
     "name": "stdout",
     "output_type": "stream",
     "text": [
      "'a','b','c','d','e','f','1','2','3','4','5',"
     ]
    }
   ],
   "source": [
    "for i in range(len(c)):\n",
    "    print(\"'{}'\".format(c[i]), i if end =',')"
   ]
  },
  {
   "cell_type": "code",
   "execution_count": null,
   "id": "ef7dda49",
   "metadata": {},
   "outputs": [],
   "source": []
  }
 ],
 "metadata": {
  "kernelspec": {
   "display_name": "Python 3 (ipykernel)",
   "language": "python",
   "name": "python3"
  },
  "language_info": {
   "codemirror_mode": {
    "name": "ipython",
    "version": 3
   },
   "file_extension": ".py",
   "mimetype": "text/x-python",
   "name": "python",
   "nbconvert_exporter": "python",
   "pygments_lexer": "ipython3",
   "version": "3.11.3"
  }
 },
 "nbformat": 4,
 "nbformat_minor": 5
}
