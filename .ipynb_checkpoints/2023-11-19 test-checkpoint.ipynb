{
 "cells": [
  {
   "cell_type": "code",
   "execution_count": 5,
   "id": "c350d22d",
   "metadata": {},
   "outputs": [],
   "source": [
    "def test1(x,y):\n",
    "    return x,y\n"
   ]
  },
  {
   "cell_type": "code",
   "execution_count": 6,
   "id": "25901d84",
   "metadata": {},
   "outputs": [
    {
     "data": {
      "text/plain": [
       "(1, 2000)"
      ]
     },
     "execution_count": 6,
     "metadata": {},
     "output_type": "execute_result"
    }
   ],
   "source": [
    "test1(y=2000, x=1)"
   ]
  },
  {
   "cell_type": "code",
   "execution_count": 8,
   "id": "5686f7fd",
   "metadata": {},
   "outputs": [
    {
     "data": {
      "text/plain": [
       "(1, 23, 4, 5)"
      ]
     },
     "execution_count": 8,
     "metadata": {},
     "output_type": "execute_result"
    }
   ],
   "source": [
    "def test2(*i):\n",
    "    return i\n",
    "test2(1,23,4,5)"
   ]
  },
  {
   "cell_type": "code",
   "execution_count": 9,
   "id": "17792c32",
   "metadata": {},
   "outputs": [
    {
     "data": {
      "text/plain": [
       "{'a': 1, 'name': 4}"
      ]
     },
     "execution_count": 9,
     "metadata": {},
     "output_type": "execute_result"
    }
   ],
   "source": [
    "def test3(**j):\n",
    "    return j\n",
    "\n",
    "test3(a=1, name=4)"
   ]
  },
  {
   "cell_type": "code",
   "execution_count": 10,
   "id": "3d0fdfe1",
   "metadata": {},
   "outputs": [
    {
     "data": {
      "text/plain": [
       "{'name': 'lee', 'age': 23, 'area': 'seoul'}"
      ]
     },
     "execution_count": 10,
     "metadata": {},
     "output_type": "execute_result"
    }
   ],
   "source": [
    "test3 (name=\"lee\", age=23, area=\"seoul\")"
   ]
  },
  {
   "cell_type": "code",
   "execution_count": 11,
   "id": "b63328f2",
   "metadata": {},
   "outputs": [
    {
     "data": {
      "text/plain": [
       "(100, 200, 300)"
      ]
     },
     "execution_count": 11,
     "metadata": {},
     "output_type": "execute_result"
    }
   ],
   "source": [
    "def test5(i=100,j=200,k=300):\n",
    "    return i,j,k\n",
    "test5()"
   ]
  },
  {
   "cell_type": "code",
   "execution_count": 13,
   "id": "49e3f0b5",
   "metadata": {},
   "outputs": [
    {
     "data": {
      "text/plain": [
       "7"
      ]
     },
     "execution_count": 13,
     "metadata": {},
     "output_type": "execute_result"
    }
   ],
   "source": [
    "def test6(x,y):\n",
    "    return x+y\n",
    "    return x*y      #if문을 쓰면 골라 가능\n",
    "\n",
    "test6(3,4)"
   ]
  },
  {
   "cell_type": "code",
   "execution_count": 15,
   "id": "9f6069ef",
   "metadata": {},
   "outputs": [
    {
     "ename": "NameError",
     "evalue": "name 'a' is not defined",
     "output_type": "error",
     "traceback": [
      "\u001b[1;31m---------------------------------------------------------------------------\u001b[0m",
      "\u001b[1;31mNameError\u001b[0m                                 Traceback (most recent call last)",
      "Cell \u001b[1;32mIn[15], line 4\u001b[0m\n\u001b[0;32m      1\u001b[0m \u001b[38;5;28;01mdef\u001b[39;00m \u001b[38;5;21mtest1\u001b[39m(a):\n\u001b[0;32m      2\u001b[0m     a\u001b[38;5;241m=\u001b[39m a\u001b[38;5;241m+\u001b[39m\u001b[38;5;241m1\u001b[39m\n\u001b[1;32m----> 4\u001b[0m test1(a)\n\u001b[0;32m      6\u001b[0m a\n",
      "\u001b[1;31mNameError\u001b[0m: name 'a' is not defined"
     ]
    }
   ],
   "source": [
    "def test1(a):\n",
    "    a= a+1\n",
    "\n",
    "test1(a)\n",
    "\n",
    "a"
   ]
  },
  {
   "cell_type": "code",
   "execution_count": 17,
   "id": "70e90cd6",
   "metadata": {},
   "outputs": [],
   "source": [
    "def test2():\n",
    "    a=1\n",
    "    \n",
    "test2()"
   ]
  },
  {
   "cell_type": "code",
   "execution_count": 18,
   "id": "3b297d35",
   "metadata": {},
   "outputs": [
    {
     "ename": "NameError",
     "evalue": "name 'a' is not defined",
     "output_type": "error",
     "traceback": [
      "\u001b[1;31m---------------------------------------------------------------------------\u001b[0m",
      "\u001b[1;31mNameError\u001b[0m                                 Traceback (most recent call last)",
      "Cell \u001b[1;32mIn[18], line 1\u001b[0m\n\u001b[1;32m----> 1\u001b[0m a\n",
      "\u001b[1;31mNameError\u001b[0m: name 'a' is not defined"
     ]
    }
   ],
   "source": [
    "a"
   ]
  },
  {
   "cell_type": "code",
   "execution_count": null,
   "id": "d8bf15a0",
   "metadata": {},
   "outputs": [],
   "source": [
    "'''\n",
    "def 함수명 (매개변수1,매개변수2) :\n",
    "    return 표현식\n",
    "'''\n",
    "\"\"\"\n",
    "함수명 = lambda 매개변수1,매개변수2: 표현식\n",
    "\n",
    "단, 람다는 리턴값이 무조건 있어야되고 간결해야됨?\n",
    "\"\"\""
   ]
  },
  {
   "cell_type": "code",
   "execution_count": 22,
   "id": "3c6ac41e",
   "metadata": {},
   "outputs": [
    {
     "ename": "NameError",
     "evalue": "name 'result' is not defined",
     "output_type": "error",
     "traceback": [
      "\u001b[1;31m---------------------------------------------------------------------------\u001b[0m",
      "\u001b[1;31mNameError\u001b[0m                                 Traceback (most recent call last)",
      "Cell \u001b[1;32mIn[22], line 6\u001b[0m\n\u001b[0;32m      3\u001b[0m     result \u001b[38;5;241m=\u001b[39m n \u001b[38;5;241m+\u001b[39m \u001b[38;5;241m1\u001b[39m\n\u001b[0;32m      5\u001b[0m n_plus_1(\u001b[38;5;241m3\u001b[39m)\n\u001b[1;32m----> 6\u001b[0m \u001b[38;5;28mprint\u001b[39m (result)\n",
      "\u001b[1;31mNameError\u001b[0m: name 'result' is not defined"
     ]
    }
   ],
   "source": [
    "\n",
    "# 아래 코드를 실행한 결과를 예상하라.\n",
    "def n_plus_1 (n) :\n",
    "    result = n + 1\n",
    "\n",
    "n_plus_1(3)\n",
    "print (result)"
   ]
  },
  {
   "cell_type": "code",
   "execution_count": 25,
   "id": "a9761f1a",
   "metadata": {},
   "outputs": [
    {
     "name": "stdout",
     "output_type": "stream",
     "text": [
      "www.naver.com\n"
     ]
    }
   ],
   "source": [
    "# 문자열 하나를 입력받아 인터넷 주소를 반환하는 make_url 함수를 정의하라.\n",
    "\n",
    "# make_url(\"naver\")\n",
    "# www.naver.com\n",
    "\n",
    "def make_url(a):\n",
    "    print(\"www.{}.com\".format(a))\n",
    "    \n",
    "make_url(\"naver\")"
   ]
  },
  {
   "cell_type": "code",
   "execution_count": 26,
   "id": "3314c92b",
   "metadata": {},
   "outputs": [
    {
     "data": {
      "text/plain": [
       "['a', 'b', 'c', 'd']"
      ]
     },
     "execution_count": 26,
     "metadata": {},
     "output_type": "execute_result"
    }
   ],
   "source": [
    "# 문자열을 입력받아 각 문자들로 구성된 리스트로 반환하는 make_list 함수를 정의하라.\n",
    "\n",
    "# make_list(\"abcd\")\n",
    "# ['a', 'b', 'c', 'd']\n",
    "\n",
    "def make_list(a):\n",
    "    return list(a)\n",
    "\n",
    "make_list(\"abcd\")"
   ]
  },
  {
   "cell_type": "code",
   "execution_count": 33,
   "id": "82be99c6",
   "metadata": {},
   "outputs": [
    {
     "data": {
      "text/plain": [
       "[4, 6, 8]"
      ]
     },
     "execution_count": 33,
     "metadata": {},
     "output_type": "execute_result"
    }
   ],
   "source": [
    "# 숫자로 구성된 하나의 리스트를 입력받아, 짝수들을 추출하여 리스트로 반환하는 pickup_even 함수를 구현하라.\n",
    "\n",
    "# pickup_even([3, 4, 5, 6, 7, 8])\n",
    "# [4, 6, 8]\n",
    "sum=[]\n",
    "def pickup_even(a) :\n",
    "    for i in a :\n",
    "        if i%2==0 :\n",
    "            sum.append(i)\n",
    "    return sum\n",
    "pickup_even([3, 4, 5, 6, 7, 8])"
   ]
  },
  {
   "cell_type": "code",
   "execution_count": 46,
   "id": "0a427f10",
   "metadata": {},
   "outputs": [
    {
     "name": "stdout",
     "output_type": "stream",
     "text": [
      "[1, 2, 3, 4, 5, 6, 7]\n"
     ]
    }
   ],
   "source": [
    "# 콤마가 포함된 문자열 숫자를 입력받아 정수로 변환하는 convert_int 함수를 정의하라.\n",
    "\n",
    "# convert_int(\"1,234,567\")\n",
    "# 1234567\n",
    "\n",
    "def convert_int(a):\n",
    "    a = a.replace(\",\", \"\")\n",
    "    b = list(a)\n",
    "\n",
    "    # print(b)\n",
    "\n",
    "    c=[]\n",
    "    for i in b:\n",
    "        c.append(int(i))\n",
    "\n",
    "    return print(c)\n",
    "    \n",
    "convert_int(\"1,234,567\")"
   ]
  },
  {
   "cell_type": "code",
   "execution_count": 47,
   "id": "8259aed8",
   "metadata": {},
   "outputs": [
    {
     "name": "stdout",
     "output_type": "stream",
     "text": [
      "22\n"
     ]
    }
   ],
   "source": [
    "# 아래 코드의 실행 결과를 예측하라.\n",
    "\n",
    "def 함수(num) :\n",
    "    return num + 4\n",
    "\n",
    "a = 함수(10) \n",
    "b = 함수(a)  \n",
    "c = 함수(b)  \n",
    "print(c)\n"
   ]
  },
  {
   "cell_type": "code",
   "execution_count": 48,
   "id": "bf6bff57",
   "metadata": {},
   "outputs": [
    {
     "name": "stdout",
     "output_type": "stream",
     "text": [
      "22\n"
     ]
    }
   ],
   "source": [
    "# 아래 코드의 실행 결과를 예측하라.\n",
    "\n",
    "def 함수(num) :\n",
    "    return num + 4\n",
    "\n",
    "c = 함수(함수(함수(10)))\n",
    "print(c)\n"
   ]
  },
  {
   "cell_type": "code",
   "execution_count": 49,
   "id": "329bbc87",
   "metadata": {},
   "outputs": [
    {
     "name": "stdout",
     "output_type": "stream",
     "text": [
      "140\n"
     ]
    }
   ],
   "source": [
    "# 아래 코드의 실행 결과를 예측하라.\n",
    "\n",
    "def 함수1(num) :\n",
    "    return num + 4\n",
    "\n",
    "def 함수2(num) :\n",
    "    return num * 10\n",
    "\n",
    "a = 함수1(10) \n",
    "c = 함수2(a)  \n",
    "print(c)\n",
    "\n"
   ]
  },
  {
   "cell_type": "code",
   "execution_count": 50,
   "id": "51e184ea",
   "metadata": {},
   "outputs": [
    {
     "name": "stdout",
     "output_type": "stream",
     "text": [
      "16\n"
     ]
    }
   ],
   "source": [
    "# 아래 코드의 실행 결과를 예측하라.\n",
    "\n",
    "def 함수1(num) :\n",
    "    return num + 4\n",
    "\n",
    "def 함수2(num) :\n",
    "    num = num + 2\n",
    "    return 함수1(num)\n",
    "\n",
    "c = 함수2(10)\n",
    "print(c)\n"
   ]
  },
  {
   "cell_type": "code",
   "execution_count": 53,
   "id": "1f09f0cd",
   "metadata": {},
   "outputs": [
    {
     "name": "stdout",
     "output_type": "stream",
     "text": [
      "28\n"
     ]
    }
   ],
   "source": [
    "# 아래 코드의 실행 결과를 예측하라.\n",
    "\n",
    "def 함수0(num) :\n",
    "    \n",
    "    return num * 2  \n",
    "\n",
    "def 함수1(num) :\n",
    "    return 함수0(num + 2)\n",
    "\n",
    "def 함수2(num) :\n",
    "    num = num + 10  \n",
    "    return 함수1(num)\n",
    "\n",
    "c = 함수2(2)\n",
    "print(c)"
   ]
  },
  {
   "cell_type": "code",
   "execution_count": 97,
   "id": "5d05ff2e",
   "metadata": {},
   "outputs": [
    {
     "name": "stdout",
     "output_type": "stream",
     "text": [
      "생년월일을 입력해봐930511\n",
      "930511\n",
      "['9', '3', '0', '5', '1', '1']\n",
      "1993/05/11\n",
      "당신의 나이는 30입니까? \n"
     ]
    }
   ],
   "source": [
    "# 생년월일를 어떠한 패턴을 입력하든지 출력값이 \"19XX/XX/XX or 20XX/XX/XX\" 되도록 하고 \n",
    "# 올해 기준으로 알아서 나이가 계산되도록 함수를 코딩하라.\n",
    "\n",
    "# 생년월일 : 770101 => 1977/02/21\n",
    "#            010202 => 2001/02/02\n",
    "#            1977.02.21\n",
    "#            1977 02 21\n",
    "# \t   77 02 21 => 1977 02 21\n",
    "#            99-01-02 => 1999-01-02\n",
    "#            770221   => 19770221\n",
    "\n",
    "\n",
    "birth = input(\"생년월일을 입력해봐\")\n",
    "\n",
    "def wiya(birth):\n",
    "    birth = birth.replace(\" \", \"\")\n",
    "    birth = birth.replace(\",\", \"\")\n",
    "    birth = birth.replace(\"/\", \"\")\n",
    "    birth = birth.replace(\"-\", \"\")\n",
    "    birth = birth.replace(\".\", \"\")\n",
    "    birth = birth.replace(\"~\", \"\")\n",
    "    birth = birth.replace(\"*\", \"\")\n",
    "    print(birth)\n",
    "\n",
    "    if 6 != len(birth) and len(birth) :\n",
    "        print(\"잘못 입력하셨습니다\")\n",
    "    else :\n",
    "        bi = list(birth)\n",
    "\n",
    "        print(bi)\n",
    "\n",
    "        year = (bi[0]+bi[1])\n",
    "        month = (bi[2]+bi[3])\n",
    "        day = (bi[4]+bi[5])\n",
    "\n",
    "        if bi[0] not in \"012\":\n",
    "            print(\"19{}/{}/{}\".format(year,month,day))\n",
    "            y = int(\"19{}\".format(year))\n",
    "        else :\n",
    "            print(\"20{}/{}/{}\".format(year,month,day))\n",
    "            y = int(\"20{}\".format(year))\n",
    "            \n",
    "    return print(\"당신의 나이는 {}입니까? \".format(2023-y))\n",
    "\n",
    "\n",
    "wiya(birth)"
   ]
  },
  {
   "cell_type": "code",
   "execution_count": null,
   "id": "b20136ef",
   "metadata": {},
   "outputs": [],
   "source": [
    "\n",
    "# 2개의 숫자를 입력하면 더하기, 빼기, 곱하기, 나누기를 하는 계산기 코딩을 하라. \n",
    "# (함수 작성 부분)\n",
    "# 숫자 입력시 정수로 입력해야만 패스되도록 함수 설정\n",
    "# 숫자 2개를 입력하면 4칙연산이 되도록 하는 부분 함수 설정\n",
    "\n",
    "def calculator(x=input(),y=input()):\n",
    "    \n",
    "#isdigit() -- 숫자로 변환이야?"
   ]
  },
  {
   "cell_type": "code",
   "execution_count": null,
   "id": "ec09fe6e",
   "metadata": {},
   "outputs": [],
   "source": [
    "open test"
   ]
  }
 ],
 "metadata": {
  "kernelspec": {
   "display_name": "Python 3 (ipykernel)",
   "language": "python",
   "name": "python3"
  },
  "language_info": {
   "codemirror_mode": {
    "name": "ipython",
    "version": 3
   },
   "file_extension": ".py",
   "mimetype": "text/x-python",
   "name": "python",
   "nbconvert_exporter": "python",
   "pygments_lexer": "ipython3",
   "version": "3.11.3"
  }
 },
 "nbformat": 4,
 "nbformat_minor": 5
}
